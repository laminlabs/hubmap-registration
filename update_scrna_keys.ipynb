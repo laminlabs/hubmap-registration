{
 "cells": [
  {
   "cell_type": "markdown",
   "metadata": {},
   "source": [
    "# Update scRNA-seq keys"
   ]
  },
  {
   "cell_type": "markdown",
   "metadata": {},
   "source": [
    "After discussions with the hubmap team, we learned that there is no easy or correct way of using the uuids of the datasets.\n",
    "However, the `uuid` as obtained from the metadata API does correspond to the collection `UUID`.\n",
    "Therefore, we will use it as the key.\n",
    "\n",
    "See https://laminlabs.slack.com/archives/C07EN0JP7MK/p1738341272971789"
   ]
  },
  {
   "cell_type": "code",
   "execution_count": 1,
   "metadata": {},
   "outputs": [
    {
     "name": "stdout",
     "output_type": "stream",
     "text": [
      "\u001b[92m→\u001b[0m connected lamindb: laminlabs/hubmap\n",
      "\u001b[92m→\u001b[0m loaded Transform('TPXJFJE0HBDW0000'), re-started Run('lUqtHWbI...') at 2025-02-25 10:01:12 UTC\n",
      "\u001b[92m→\u001b[0m notebook imports: lamindb==1.1.0\n"
     ]
    }
   ],
   "source": [
    "import lamindb as ln\n",
    "\n",
    "assert ln.setup.settings.instance.slug == \"laminlabs/hubmap\"\n",
    "\n",
    "ln.track()"
   ]
  },
  {
   "cell_type": "markdown",
   "metadata": {},
   "source": [
    "## Update Collection keys"
   ]
  },
  {
   "cell_type": "code",
   "execution_count": 2,
   "metadata": {},
   "outputs": [],
   "source": [
    "hubmap_metadata = ln.Artifact.get(\"ZmKRFUAwmX5RK9d80004\").load()"
   ]
  },
  {
   "cell_type": "code",
   "execution_count": 3,
   "metadata": {},
   "outputs": [],
   "source": [
    "collections = ln.Collection.filter().all()\n",
    "\n",
    "for cl in collections:\n",
    "    raw_af = cl.artifacts.filter(key__endswith=\"raw_expr.h5ad\").first()\n",
    "    matching_rows = hubmap_metadata[\n",
    "        hubmap_metadata[\"raw_expr_url\"].str.endswith(raw_af.key, na=False)\n",
    "    ]\n",
    "\n",
    "    if not matching_rows.empty:\n",
    "        uuid = matching_rows.index[0]\n",
    "\n",
    "        cl.key = uuid\n",
    "        cl.save()"
   ]
  },
  {
   "cell_type": "code",
   "execution_count": 4,
   "metadata": {},
   "outputs": [
    {
     "name": "stdout",
     "output_type": "stream",
     "text": [
      "\u001b[94m•\u001b[0m please hit CTRL + s to save the notebook in your editor .... still waiting  \u001b[92m✓\u001b[0m\n",
      "\u001b[92m→\u001b[0m finished Run('lUqtHWbI') after 2m at 2025-02-25 10:03:18 UTC\n",
      "\u001b[92m→\u001b[0m go to: https://lamin.ai/laminlabs/hubmap/transform/TPXJFJE0HBDW0000\n",
      "\u001b[92m→\u001b[0m to update your notebook from the CLI, run: lamin save /home/lukas/code/hubmap_registration/update_scrna_keys.ipynb\n"
     ]
    }
   ],
   "source": [
    "ln.finish()"
   ]
  }
 ],
 "metadata": {
  "kernelspec": {
   "display_name": "lamindb",
   "language": "python",
   "name": "python3"
  },
  "language_info": {
   "codemirror_mode": {
    "name": "ipython",
    "version": 3
   },
   "file_extension": ".py",
   "mimetype": "text/x-python",
   "name": "python",
   "nbconvert_exporter": "python",
   "pygments_lexer": "ipython3",
   "version": "3.12.8"
  }
 },
 "nbformat": 4,
 "nbformat_minor": 2
}
