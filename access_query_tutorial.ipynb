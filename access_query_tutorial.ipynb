{
 "cells": [
  {
   "cell_type": "markdown",
   "metadata": {},
   "source": [
    "# Tutorial: Accessing datasets in `laminlabs/hubmap`"
   ]
  },
  {
   "cell_type": "markdown",
   "metadata": {},
   "source": [
    "Here, we show how the HubMAP instance is structured and how datasets and be queried and accessed."
   ]
  },
  {
   "cell_type": "markdown",
   "metadata": {},
   "source": [
    "HubMAP associates several 'data products', which are the single raw datasets, into higher level 'datasets'.\n",
    "For example, the single-cell dataset [HBM983.LKMP.544](https://portal.hubmapconsortium.org/browse/dataset/20ee458e5ee361717b68ca72caf6044e) has four data products:\n",
    "\n",
    "1. [expr.h5ad](https://assets.hubmapconsortium.org/f6eb890063d13698feb11d39fa61e45a/expr.h5ad)\n",
    "2. [raw_expr.h5ad](https://assets.hubmapconsortium.org/f6eb890063d13698feb11d39fa61e45a/raw_expr.h5ad)\n",
    "3. [secondary_analysis.h5ad](https://assets.hubmapconsortium.org/f6eb890063d13698feb11d39fa61e45a/secondary_analysis.h5ad)\n",
    "4. [scvelo_annotated.h5ad](https://assets.hubmapconsortium.org/f6eb890063d13698feb11d39fa61e45a/scvelo_annotated.h5ad)\n",
    "\n",
    "The [laminlabs/hubmap](https://lamin.ai/laminlabs/hubmap) registers these data products as `ln.Artifact` that jointly form a `ln.Collection`."
   ]
  },
  {
   "cell_type": "code",
   "execution_count": 1,
   "metadata": {},
   "outputs": [
    {
     "name": "stdout",
     "output_type": "stream",
     "text": [
      "\u001b[92m→\u001b[0m connected lamindb: laminlabs/hubmap\n",
      "\u001b[92m→\u001b[0m found notebook access_query_tutorial.ipynb, making new version\n",
      "\u001b[92m→\u001b[0m created Transform('TMDTNYfmBzK10002'), started new Run('lOYN3nI7...') at 2025-05-26 10:42:17 UTC\n",
      "\u001b[92m→\u001b[0m notebook imports: anndata==0.10.9 h5py==3.13.0 lamindb==1.5.3 pandas==2.2.3\n"
     ]
    }
   ],
   "source": [
    "import lamindb as ln\n",
    "import h5py\n",
    "import pandas as pd\n",
    "import anndata as ad\n",
    "\n",
    "assert ln.setup.settings.instance.slug == \"laminlabs/hubmap\"\n",
    "\n",
    "ln.track(\"TMDTNYfmBzK1\")"
   ]
  },
  {
   "cell_type": "markdown",
   "metadata": {},
   "source": [
    "## Getting HubMAP datasets and data products"
   ]
  },
  {
   "cell_type": "markdown",
   "metadata": {},
   "source": [
    "The `key` attribute of `ln.Artifact` and `ln.Collection` corresponds to the IDs of the URLs.\n",
    "For example, the id in the URL https://portal.hubmapconsortium.org/browse/dataset/20ee458e5ee361717b68ca72caf6044e is the `key` of the corresponding collection:"
   ]
  },
  {
   "cell_type": "code",
   "execution_count": 2,
   "metadata": {},
   "outputs": [
    {
     "data": {
      "text/plain": [
       "Collection(uid='xvmP4QeSH584JUbg0000', is_latest=True, key='20ee458e5ee361717b68ca72caf6044e', description='RNAseq data from the small intestine of a 67-year-old white female', hash='bxpInd96BItVhxWNhgQStw', space_id=1, created_by_id=5, run_id=35, created_at=2025-05-21 11:15:36 UTC)"
      ]
     },
     "execution_count": 2,
     "metadata": {},
     "output_type": "execute_result"
    }
   ],
   "source": [
    "small_intenstine_collection = ln.Collection.get(key=\"20ee458e5ee361717b68ca72caf6044e\")\n",
    "small_intenstine_collection"
   ]
  },
  {
   "cell_type": "markdown",
   "metadata": {},
   "source": [
    "We can get all associated data products like:"
   ]
  },
  {
   "cell_type": "code",
   "execution_count": 3,
   "metadata": {},
   "outputs": [
    {
     "data": {
      "text/html": [
       "<div>\n",
       "<style scoped>\n",
       "    .dataframe tbody tr th:only-of-type {\n",
       "        vertical-align: middle;\n",
       "    }\n",
       "\n",
       "    .dataframe tbody tr th {\n",
       "        vertical-align: top;\n",
       "    }\n",
       "\n",
       "    .dataframe thead th {\n",
       "        text-align: right;\n",
       "    }\n",
       "</style>\n",
       "<table border=\"1\" class=\"dataframe\">\n",
       "  <thead>\n",
       "    <tr style=\"text-align: right;\">\n",
       "      <th></th>\n",
       "      <th>uid</th>\n",
       "      <th>key</th>\n",
       "      <th>description</th>\n",
       "      <th>suffix</th>\n",
       "      <th>kind</th>\n",
       "      <th>otype</th>\n",
       "      <th>size</th>\n",
       "      <th>hash</th>\n",
       "      <th>n_files</th>\n",
       "      <th>n_observations</th>\n",
       "      <th>_hash_type</th>\n",
       "      <th>_key_is_virtual</th>\n",
       "      <th>_overwrite_versions</th>\n",
       "      <th>space_id</th>\n",
       "      <th>storage_id</th>\n",
       "      <th>schema_id</th>\n",
       "      <th>version</th>\n",
       "      <th>is_latest</th>\n",
       "      <th>run_id</th>\n",
       "      <th>created_at</th>\n",
       "      <th>created_by_id</th>\n",
       "      <th>_aux</th>\n",
       "      <th>_branch_code</th>\n",
       "    </tr>\n",
       "    <tr>\n",
       "      <th>id</th>\n",
       "      <th></th>\n",
       "      <th></th>\n",
       "      <th></th>\n",
       "      <th></th>\n",
       "      <th></th>\n",
       "      <th></th>\n",
       "      <th></th>\n",
       "      <th></th>\n",
       "      <th></th>\n",
       "      <th></th>\n",
       "      <th></th>\n",
       "      <th></th>\n",
       "      <th></th>\n",
       "      <th></th>\n",
       "      <th></th>\n",
       "      <th></th>\n",
       "      <th></th>\n",
       "      <th></th>\n",
       "      <th></th>\n",
       "      <th></th>\n",
       "      <th></th>\n",
       "      <th></th>\n",
       "      <th></th>\n",
       "    </tr>\n",
       "  </thead>\n",
       "  <tbody>\n",
       "    <tr>\n",
       "      <th>28</th>\n",
       "      <td>AzqCWQAKLMV3iTMA0000</td>\n",
       "      <td>f6eb890063d13698feb11d39fa61e45a/raw_expr.h5ad</td>\n",
       "      <td>RNAseq data from the small intestine of a 67-y...</td>\n",
       "      <td>.h5ad</td>\n",
       "      <td>None</td>\n",
       "      <td>AnnData</td>\n",
       "      <td>67867992</td>\n",
       "      <td>of_TeLP6cet2JBj3o_kZmQ</td>\n",
       "      <td>None</td>\n",
       "      <td>6000.0</td>\n",
       "      <td>md5-etag</td>\n",
       "      <td>False</td>\n",
       "      <td>False</td>\n",
       "      <td>1</td>\n",
       "      <td>2</td>\n",
       "      <td>None</td>\n",
       "      <td>None</td>\n",
       "      <td>True</td>\n",
       "      <td>11</td>\n",
       "      <td>2025-01-28 14:16:35.355582+00:00</td>\n",
       "      <td>3</td>\n",
       "      <td>None</td>\n",
       "      <td>1</td>\n",
       "    </tr>\n",
       "    <tr>\n",
       "      <th>29</th>\n",
       "      <td>fWN781TxuZibkBOR0000</td>\n",
       "      <td>f6eb890063d13698feb11d39fa61e45a/secondary_ana...</td>\n",
       "      <td>RNAseq data from the small intestine of a 67-y...</td>\n",
       "      <td>.h5ad</td>\n",
       "      <td>None</td>\n",
       "      <td>AnnData</td>\n",
       "      <td>888111371</td>\n",
       "      <td>ian3P5CN68AAvoDMC6sZLw</td>\n",
       "      <td>None</td>\n",
       "      <td>5956.0</td>\n",
       "      <td>md5-etag</td>\n",
       "      <td>False</td>\n",
       "      <td>False</td>\n",
       "      <td>1</td>\n",
       "      <td>2</td>\n",
       "      <td>None</td>\n",
       "      <td>None</td>\n",
       "      <td>True</td>\n",
       "      <td>11</td>\n",
       "      <td>2025-01-28 14:16:39.348589+00:00</td>\n",
       "      <td>3</td>\n",
       "      <td>None</td>\n",
       "      <td>1</td>\n",
       "    </tr>\n",
       "    <tr>\n",
       "      <th>876</th>\n",
       "      <td>dYhDR2fx8dccLWer0000</td>\n",
       "      <td>f6eb890063d13698feb11d39fa61e45a/scvelo_annota...</td>\n",
       "      <td>RNAseq data from the small intestine of a 67-y...</td>\n",
       "      <td>.h5ad</td>\n",
       "      <td>None</td>\n",
       "      <td>AnnData</td>\n",
       "      <td>641007602</td>\n",
       "      <td>HxvPzL_Pkx6ncEJJcS_GWw</td>\n",
       "      <td>None</td>\n",
       "      <td>NaN</td>\n",
       "      <td>md5-etag</td>\n",
       "      <td>False</td>\n",
       "      <td>False</td>\n",
       "      <td>1</td>\n",
       "      <td>2</td>\n",
       "      <td>None</td>\n",
       "      <td>None</td>\n",
       "      <td>True</td>\n",
       "      <td>35</td>\n",
       "      <td>2025-05-21 11:15:19.475249+00:00</td>\n",
       "      <td>5</td>\n",
       "      <td>None</td>\n",
       "      <td>1</td>\n",
       "    </tr>\n",
       "    <tr>\n",
       "      <th>30</th>\n",
       "      <td>enXVzwjw4voS8UCb0000</td>\n",
       "      <td>f6eb890063d13698feb11d39fa61e45a/expr.h5ad</td>\n",
       "      <td>RNAseq data from the small intestine of a 67-y...</td>\n",
       "      <td>.h5ad</td>\n",
       "      <td>None</td>\n",
       "      <td>AnnData</td>\n",
       "      <td>139737320</td>\n",
       "      <td>kR476u81gwXI6rEbXzNBvQ</td>\n",
       "      <td>None</td>\n",
       "      <td>6000.0</td>\n",
       "      <td>md5-etag</td>\n",
       "      <td>False</td>\n",
       "      <td>False</td>\n",
       "      <td>1</td>\n",
       "      <td>2</td>\n",
       "      <td>None</td>\n",
       "      <td>None</td>\n",
       "      <td>True</td>\n",
       "      <td>11</td>\n",
       "      <td>2025-01-28 14:16:43.385980+00:00</td>\n",
       "      <td>3</td>\n",
       "      <td>None</td>\n",
       "      <td>1</td>\n",
       "    </tr>\n",
       "  </tbody>\n",
       "</table>\n",
       "</div>"
      ],
      "text/plain": [
       "                      uid                                                key  \\\n",
       "id                                                                             \n",
       "28   AzqCWQAKLMV3iTMA0000     f6eb890063d13698feb11d39fa61e45a/raw_expr.h5ad   \n",
       "29   fWN781TxuZibkBOR0000  f6eb890063d13698feb11d39fa61e45a/secondary_ana...   \n",
       "876  dYhDR2fx8dccLWer0000  f6eb890063d13698feb11d39fa61e45a/scvelo_annota...   \n",
       "30   enXVzwjw4voS8UCb0000         f6eb890063d13698feb11d39fa61e45a/expr.h5ad   \n",
       "\n",
       "                                           description suffix  kind    otype  \\\n",
       "id                                                                             \n",
       "28   RNAseq data from the small intestine of a 67-y...  .h5ad  None  AnnData   \n",
       "29   RNAseq data from the small intestine of a 67-y...  .h5ad  None  AnnData   \n",
       "876  RNAseq data from the small intestine of a 67-y...  .h5ad  None  AnnData   \n",
       "30   RNAseq data from the small intestine of a 67-y...  .h5ad  None  AnnData   \n",
       "\n",
       "          size                    hash n_files  n_observations _hash_type  \\\n",
       "id                                                                          \n",
       "28    67867992  of_TeLP6cet2JBj3o_kZmQ    None          6000.0   md5-etag   \n",
       "29   888111371  ian3P5CN68AAvoDMC6sZLw    None          5956.0   md5-etag   \n",
       "876  641007602  HxvPzL_Pkx6ncEJJcS_GWw    None             NaN   md5-etag   \n",
       "30   139737320  kR476u81gwXI6rEbXzNBvQ    None          6000.0   md5-etag   \n",
       "\n",
       "     _key_is_virtual  _overwrite_versions  space_id  storage_id schema_id  \\\n",
       "id                                                                          \n",
       "28             False                False         1           2      None   \n",
       "29             False                False         1           2      None   \n",
       "876            False                False         1           2      None   \n",
       "30             False                False         1           2      None   \n",
       "\n",
       "    version  is_latest  run_id                       created_at  \\\n",
       "id                                                                \n",
       "28     None       True      11 2025-01-28 14:16:35.355582+00:00   \n",
       "29     None       True      11 2025-01-28 14:16:39.348589+00:00   \n",
       "876    None       True      35 2025-05-21 11:15:19.475249+00:00   \n",
       "30     None       True      11 2025-01-28 14:16:43.385980+00:00   \n",
       "\n",
       "     created_by_id  _aux  _branch_code  \n",
       "id                                      \n",
       "28               3  None             1  \n",
       "29               3  None             1  \n",
       "876              5  None             1  \n",
       "30               3  None             1  "
      ]
     },
     "execution_count": 3,
     "metadata": {},
     "output_type": "execute_result"
    }
   ],
   "source": [
    "small_intenstine_collection.artifacts.all().df()"
   ]
  },
  {
   "cell_type": "markdown",
   "metadata": {},
   "source": [
    "Note the key of these four `Artifacts` which corresponds to the assets URL.\n",
    "For example, https://assets.hubmapconsortium.org/f6eb890063d13698feb11d39fa61e45a/expr.h5ad is the direct URL to the `expr.h5ad` data product.\n",
    "\n",
    "Artifacts can be directly loaded:"
   ]
  },
  {
   "cell_type": "code",
   "execution_count": 4,
   "metadata": {},
   "outputs": [],
   "source": [
    "small_intenstine_af = (\n",
    "    small_intenstine_collection.artifacts.filter(key__icontains=\"raw_expr.h5ad\")\n",
    "    .distinct()\n",
    "    .one()\n",
    ")\n",
    "adata = small_intenstine_af.load()"
   ]
  },
  {
   "cell_type": "code",
   "execution_count": 5,
   "metadata": {},
   "outputs": [
    {
     "data": {
      "text/plain": [
       "AnnData object with n_obs × n_vars = 6000 × 98000\n",
       "    var: 'hugo_symbol'"
      ]
     },
     "execution_count": 5,
     "metadata": {},
     "output_type": "execute_result"
    }
   ],
   "source": [
    "adata"
   ]
  },
  {
   "cell_type": "markdown",
   "metadata": {},
   "source": [
    "## Querying single-cell RNA sequencing datasets"
   ]
  },
  {
   "cell_type": "markdown",
   "metadata": {},
   "source": [
    "Currently, only the `Artifacts` of the `raw_expr.h5ad` data products are labeled with metadata.\n",
    "The available metadata includes `ln.Reference`, `bt.Tissue`, `bt.Disease`, `bt.ExperimentalFactor`, and many more.\n",
    "Please have a look at [the instance](https://lamin.ai/laminlabs/hubmap) for more details."
   ]
  },
  {
   "cell_type": "code",
   "execution_count": 6,
   "metadata": {},
   "outputs": [
    {
     "data": {
      "text/plain": [
       "AnnData object with n_obs × n_vars = 52534 × 60286\n",
       "    obs: 'cell_id'\n",
       "    var: 'hugo_symbol'\n",
       "    layers: 'spliced', 'spliced_unspliced_sum', 'unspliced'"
      ]
     },
     "execution_count": 6,
     "metadata": {},
     "output_type": "execute_result"
    }
   ],
   "source": [
    "# Get one dataset with a specific type of heart failure\n",
    "heart_failure_adata = (\n",
    "    ln.Artifact.filter(diseases__name=\"heart failure with reduced ejection fraction\")\n",
    "    .first()\n",
    "    .load()\n",
    ")\n",
    "\n",
    "heart_failure_adata"
   ]
  },
  {
   "cell_type": "markdown",
   "metadata": {},
   "source": [
    "## Querying bulk RNA sequencing datasets"
   ]
  },
  {
   "cell_type": "markdown",
   "metadata": {},
   "source": [
    "Bulk datasets contain a single file: expression_matrices.h5, which is a `hdf5` file containing transcript by sample matrices of TPM and number of reads. \n",
    "These files are labeled with metadata, including `ln.Reference`, `bt.Tissue`, `bt.Disease`, `bt.ExperimentalFactor`, and many more. \n",
    "To make the expression data usable with standard analysis workflows, we first read the TPM and raw count matrices from the file and then convert them into a single AnnData object. \n",
    "In this object, raw read counts are stored in .X, and TPM values are added as a separate layer under `.layers[\"tpm\"]`."
   ]
  },
  {
   "cell_type": "code",
   "execution_count": 7,
   "metadata": {},
   "outputs": [],
   "source": [
    "# Get one placenta tissue dataset:\n",
    "placenta_data = ln.Artifact.filter(tissues__name=\"placenta\").first().cache()"
   ]
  },
  {
   "cell_type": "code",
   "execution_count": 8,
   "metadata": {},
   "outputs": [],
   "source": [
    "def load_matrix(group):\n",
    "    values = group[\"block0_values\"][:]\n",
    "    columns = group[\"block0_items\"][:].astype(str)\n",
    "    index = group[\"axis1\"][:].astype(str)\n",
    "\n",
    "    return pd.DataFrame(values, index=index, columns=columns)\n",
    "\n",
    "\n",
    "with h5py.File(placenta_data, \"r\") as f:\n",
    "    tpm_df = load_matrix(f[\"tpm\"])\n",
    "    reads_df = load_matrix(f[\"num_reads\"])"
   ]
  },
  {
   "cell_type": "code",
   "execution_count": 9,
   "metadata": {},
   "outputs": [],
   "source": [
    "# Use raw read counts as the main matrix\n",
    "placenta_adata = ad.AnnData(X=reads_df.values)\n",
    "placenta_adata.obs_names = reads_df.index\n",
    "placenta_adata.var_names = reads_df.columns\n",
    "\n",
    "# Store TPM normalized values in a layer\n",
    "placenta_adata.layers[\"tpm\"] = tpm_df.values\n",
    "\n",
    "# Add identifiers\n",
    "placenta_adata.obs[\"sample_id\"] = placenta_adata.obs_names\n",
    "placenta_adata.var[\"gene_id\"] = placenta_adata.var_names"
   ]
  },
  {
   "cell_type": "code",
   "execution_count": 10,
   "metadata": {},
   "outputs": [
    {
     "data": {
      "text/plain": [
       "AnnData object with n_obs × n_vars = 1 × 612302\n",
       "    obs: 'sample_id'\n",
       "    var: 'gene_id'\n",
       "    layers: 'tpm'"
      ]
     },
     "execution_count": 10,
     "metadata": {},
     "output_type": "execute_result"
    }
   ],
   "source": [
    "placenta_adata"
   ]
  },
  {
   "cell_type": "code",
   "execution_count": 11,
   "metadata": {},
   "outputs": [
    {
     "name": "stdout",
     "output_type": "stream",
     "text": [
      "\u001b[94m•\u001b[0m please hit CMD + s to save the notebook in your editor .. \u001b[92m✓\u001b[0m\n",
      "\u001b[92m→\u001b[0m finished Run('lOYN3nI7') after 22s at 2025-05-26 10:42:39 UTC\n",
      "\u001b[92m→\u001b[0m go to: https://lamin.ai/laminlabs/hubmap/transform/TMDTNYfmBzK10002\n",
      "\u001b[92m→\u001b[0m to update your notebook from the CLI, run: lamin save /Users/altananamsaraeva/Desktop/Lamin/hubmap-registration/access_query_tutorial.ipynb\n"
     ]
    }
   ],
   "source": [
    "ln.finish()"
   ]
  }
 ],
 "metadata": {
  "kernelspec": {
   "display_name": "lamindb",
   "language": "python",
   "name": "python3"
  },
  "language_info": {
   "codemirror_mode": {
    "name": "ipython",
    "version": 3
   },
   "file_extension": ".py",
   "mimetype": "text/x-python",
   "name": "python",
   "nbconvert_exporter": "python",
   "pygments_lexer": "ipython3",
   "version": "3.12.8"
  }
 },
 "nbformat": 4,
 "nbformat_minor": 2
}
