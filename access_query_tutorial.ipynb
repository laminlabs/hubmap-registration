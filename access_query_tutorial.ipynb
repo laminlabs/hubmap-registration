{
 "cells": [
  {
   "cell_type": "markdown",
   "metadata": {},
   "source": [
    "# Tutorial: Accessing single-cell datasets in `laminlabs/hubmap`"
   ]
  },
  {
   "cell_type": "markdown",
   "metadata": {},
   "source": [
    "Here, we show how the HubMAP instance is structured and how datasets and be queried and accessed."
   ]
  },
  {
   "cell_type": "markdown",
   "metadata": {},
   "source": [
    "HubMAP associates several 'data products', which are the single raw datasets, into higher level 'datasets'.\n",
    "For example, the dataset [HBM983.LKMP.544](https://portal.hubmapconsortium.org/browse/dataset/20ee458e5ee361717b68ca72caf6044e) has three data products:\n",
    "\n",
    "1. [raw_expr.h5ad](https://assets.hubmapconsortium.org/f6eb890063d13698feb11d39fa61e45a/raw_expr.h5ad)\n",
    "1. [expr.h5ad](https://assets.hubmapconsortium.org/f6eb890063d13698feb11d39fa61e45a/expr.h5ad)\n",
    "2. [secondary_analysis.h5ad](https://assets.hubmapconsortium.org/f6eb890063d13698feb11d39fa61e45a/secondary_analysis.h5ad)\n",
    "3. [scvelo_annotated.h5ad](https://assets.hubmapconsortium.org/f6eb890063d13698feb11d39fa61e45a/scvelo_annotated.h5ad)\n",
    "\n",
    "The [laminlabs/hubmap](https://lamin.ai/laminlabs/hubmap) registers these data products as `ln.Artifact` that jointly form a `ln.Collection`."
   ]
  },
  {
   "cell_type": "code",
   "execution_count": 2,
   "metadata": {},
   "outputs": [
    {
     "name": "stdout",
     "output_type": "stream",
     "text": [
      "\u001b[92m→\u001b[0m connected lamindb: laminlabs/hubmap\n",
      "\u001b[92m→\u001b[0m created Transform('TMDTNYfmBzK10000'), started new Run('l8TeOLsI...') at 2025-02-25 12:57:28 UTC\n",
      "\u001b[92m→\u001b[0m notebook imports: bionty==1.1.0 lamindb==1.1.0\n"
     ]
    }
   ],
   "source": [
    "import lamindb as ln\n",
    "\n",
    "assert ln.setup.settings.instance.slug == \"laminlabs/hubmap\"\n",
    "\n",
    "ln.track()"
   ]
  },
  {
   "cell_type": "markdown",
   "metadata": {},
   "source": [
    "## Getting HubMAP datasets and data products"
   ]
  },
  {
   "cell_type": "markdown",
   "metadata": {},
   "source": [
    "The `key` attribute of `ln.Artifact` and `ln.Collection` corresponds to the IDs of the URLs.\n",
    "For example, the id in the URL https://portal.hubmapconsortium.org/browse/dataset/20ee458e5ee361717b68ca72caf6044e is the `key` of the corresponding collection:"
   ]
  },
  {
   "cell_type": "code",
   "execution_count": 3,
   "metadata": {},
   "outputs": [
    {
     "data": {
      "text/plain": [
       "Collection(uid='QjQSiso1qPlnX6iX0000', is_latest=True, key='20ee458e5ee361717b68ca72caf6044e', description='RNAseq data from the small intestine of a 67.0-year-old white female', hash='jF6aG3Nd4qQHBvY8v8Q8dg', created_by_id=3, space_id=1, run_id=11, created_at=2025-01-28 14:17:01 UTC)"
      ]
     },
     "execution_count": 3,
     "metadata": {},
     "output_type": "execute_result"
    }
   ],
   "source": [
    "small_intenstine_collection = ln.Collection.get(key=\"20ee458e5ee361717b68ca72caf6044e\")\n",
    "small_intenstine_collection"
   ]
  },
  {
   "cell_type": "markdown",
   "metadata": {},
   "source": [
    "We can get all associated data products like:"
   ]
  },
  {
   "cell_type": "code",
   "execution_count": 4,
   "metadata": {},
   "outputs": [
    {
     "data": {
      "text/html": [
       "<div>\n",
       "<style scoped>\n",
       "    .dataframe tbody tr th:only-of-type {\n",
       "        vertical-align: middle;\n",
       "    }\n",
       "\n",
       "    .dataframe tbody tr th {\n",
       "        vertical-align: top;\n",
       "    }\n",
       "\n",
       "    .dataframe thead th {\n",
       "        text-align: right;\n",
       "    }\n",
       "</style>\n",
       "<table border=\"1\" class=\"dataframe\">\n",
       "  <thead>\n",
       "    <tr style=\"text-align: right;\">\n",
       "      <th></th>\n",
       "      <th>uid</th>\n",
       "      <th>key</th>\n",
       "      <th>description</th>\n",
       "      <th>suffix</th>\n",
       "      <th>kind</th>\n",
       "      <th>otype</th>\n",
       "      <th>size</th>\n",
       "      <th>hash</th>\n",
       "      <th>n_files</th>\n",
       "      <th>n_observations</th>\n",
       "      <th>_hash_type</th>\n",
       "      <th>_key_is_virtual</th>\n",
       "      <th>_overwrite_versions</th>\n",
       "      <th>space_id</th>\n",
       "      <th>storage_id</th>\n",
       "      <th>schema_id</th>\n",
       "      <th>version</th>\n",
       "      <th>is_latest</th>\n",
       "      <th>run_id</th>\n",
       "      <th>created_at</th>\n",
       "      <th>created_by_id</th>\n",
       "      <th>_aux</th>\n",
       "      <th>_branch_code</th>\n",
       "    </tr>\n",
       "    <tr>\n",
       "      <th>id</th>\n",
       "      <th></th>\n",
       "      <th></th>\n",
       "      <th></th>\n",
       "      <th></th>\n",
       "      <th></th>\n",
       "      <th></th>\n",
       "      <th></th>\n",
       "      <th></th>\n",
       "      <th></th>\n",
       "      <th></th>\n",
       "      <th></th>\n",
       "      <th></th>\n",
       "      <th></th>\n",
       "      <th></th>\n",
       "      <th></th>\n",
       "      <th></th>\n",
       "      <th></th>\n",
       "      <th></th>\n",
       "      <th></th>\n",
       "      <th></th>\n",
       "      <th></th>\n",
       "      <th></th>\n",
       "      <th></th>\n",
       "    </tr>\n",
       "  </thead>\n",
       "  <tbody>\n",
       "    <tr>\n",
       "      <th>28</th>\n",
       "      <td>AzqCWQAKLMV3iTMA0000</td>\n",
       "      <td>f6eb890063d13698feb11d39fa61e45a/raw_expr.h5ad</td>\n",
       "      <td>RNAseq data from the small intestine of a 67.0...</td>\n",
       "      <td>.h5ad</td>\n",
       "      <td>None</td>\n",
       "      <td>AnnData</td>\n",
       "      <td>67867992</td>\n",
       "      <td>of_TeLP6cet2JBj3o_kZmQ</td>\n",
       "      <td>None</td>\n",
       "      <td>6000</td>\n",
       "      <td>md5-etag</td>\n",
       "      <td>False</td>\n",
       "      <td>False</td>\n",
       "      <td>1</td>\n",
       "      <td>2</td>\n",
       "      <td>None</td>\n",
       "      <td>None</td>\n",
       "      <td>True</td>\n",
       "      <td>11</td>\n",
       "      <td>2025-01-28 14:16:35.355582+00:00</td>\n",
       "      <td>3</td>\n",
       "      <td>None</td>\n",
       "      <td>1</td>\n",
       "    </tr>\n",
       "    <tr>\n",
       "      <th>29</th>\n",
       "      <td>fWN781TxuZibkBOR0000</td>\n",
       "      <td>f6eb890063d13698feb11d39fa61e45a/secondary_ana...</td>\n",
       "      <td>RNAseq data from the small intestine of a 67.0...</td>\n",
       "      <td>.h5ad</td>\n",
       "      <td>None</td>\n",
       "      <td>AnnData</td>\n",
       "      <td>888111371</td>\n",
       "      <td>ian3P5CN68AAvoDMC6sZLw</td>\n",
       "      <td>None</td>\n",
       "      <td>5956</td>\n",
       "      <td>md5-etag</td>\n",
       "      <td>False</td>\n",
       "      <td>False</td>\n",
       "      <td>1</td>\n",
       "      <td>2</td>\n",
       "      <td>None</td>\n",
       "      <td>None</td>\n",
       "      <td>True</td>\n",
       "      <td>11</td>\n",
       "      <td>2025-01-28 14:16:39.348589+00:00</td>\n",
       "      <td>3</td>\n",
       "      <td>None</td>\n",
       "      <td>1</td>\n",
       "    </tr>\n",
       "    <tr>\n",
       "      <th>30</th>\n",
       "      <td>enXVzwjw4voS8UCb0000</td>\n",
       "      <td>f6eb890063d13698feb11d39fa61e45a/expr.h5ad</td>\n",
       "      <td>RNAseq data from the small intestine of a 67.0...</td>\n",
       "      <td>.h5ad</td>\n",
       "      <td>None</td>\n",
       "      <td>AnnData</td>\n",
       "      <td>139737320</td>\n",
       "      <td>kR476u81gwXI6rEbXzNBvQ</td>\n",
       "      <td>None</td>\n",
       "      <td>6000</td>\n",
       "      <td>md5-etag</td>\n",
       "      <td>False</td>\n",
       "      <td>False</td>\n",
       "      <td>1</td>\n",
       "      <td>2</td>\n",
       "      <td>None</td>\n",
       "      <td>None</td>\n",
       "      <td>True</td>\n",
       "      <td>11</td>\n",
       "      <td>2025-01-28 14:16:43.385980+00:00</td>\n",
       "      <td>3</td>\n",
       "      <td>None</td>\n",
       "      <td>1</td>\n",
       "    </tr>\n",
       "  </tbody>\n",
       "</table>\n",
       "</div>"
      ],
      "text/plain": [
       "                     uid                                                key  \\\n",
       "id                                                                            \n",
       "28  AzqCWQAKLMV3iTMA0000     f6eb890063d13698feb11d39fa61e45a/raw_expr.h5ad   \n",
       "29  fWN781TxuZibkBOR0000  f6eb890063d13698feb11d39fa61e45a/secondary_ana...   \n",
       "30  enXVzwjw4voS8UCb0000         f6eb890063d13698feb11d39fa61e45a/expr.h5ad   \n",
       "\n",
       "                                          description suffix  kind    otype  \\\n",
       "id                                                                            \n",
       "28  RNAseq data from the small intestine of a 67.0...  .h5ad  None  AnnData   \n",
       "29  RNAseq data from the small intestine of a 67.0...  .h5ad  None  AnnData   \n",
       "30  RNAseq data from the small intestine of a 67.0...  .h5ad  None  AnnData   \n",
       "\n",
       "         size                    hash n_files  n_observations _hash_type  \\\n",
       "id                                                                         \n",
       "28   67867992  of_TeLP6cet2JBj3o_kZmQ    None            6000   md5-etag   \n",
       "29  888111371  ian3P5CN68AAvoDMC6sZLw    None            5956   md5-etag   \n",
       "30  139737320  kR476u81gwXI6rEbXzNBvQ    None            6000   md5-etag   \n",
       "\n",
       "    _key_is_virtual  _overwrite_versions  space_id  storage_id schema_id  \\\n",
       "id                                                                         \n",
       "28            False                False         1           2      None   \n",
       "29            False                False         1           2      None   \n",
       "30            False                False         1           2      None   \n",
       "\n",
       "   version  is_latest  run_id                       created_at  created_by_id  \\\n",
       "id                                                                              \n",
       "28    None       True      11 2025-01-28 14:16:35.355582+00:00              3   \n",
       "29    None       True      11 2025-01-28 14:16:39.348589+00:00              3   \n",
       "30    None       True      11 2025-01-28 14:16:43.385980+00:00              3   \n",
       "\n",
       "    _aux  _branch_code  \n",
       "id                      \n",
       "28  None             1  \n",
       "29  None             1  \n",
       "30  None             1  "
      ]
     },
     "execution_count": 4,
     "metadata": {},
     "output_type": "execute_result"
    }
   ],
   "source": [
    "small_intenstine_collection.artifacts.all().df()"
   ]
  },
  {
   "cell_type": "markdown",
   "metadata": {},
   "source": [
    "Note the key of these three `Artifacts` which corresponds to the assets URL.\n",
    "For example, https://assets.hubmapconsortium.org/f6eb890063d13698feb11d39fa61e45a/expr.h5ad is the direct URL to the `expr.h5ad` data product.\n",
    "\n",
    "Artifacts can be directly loaded:"
   ]
  },
  {
   "cell_type": "code",
   "execution_count": 5,
   "metadata": {},
   "outputs": [],
   "source": [
    "small_intenstine_af = (\n",
    "    small_intenstine_collection.artifacts.filter(key__icontains=\"raw_expr.h5ad\")\n",
    "    .distinct()\n",
    "    .one()\n",
    ")\n",
    "adata = small_intenstine_af.load()"
   ]
  },
  {
   "cell_type": "code",
   "execution_count": 6,
   "metadata": {},
   "outputs": [
    {
     "data": {
      "text/plain": [
       "AnnData object with n_obs × n_vars = 6000 × 98000\n",
       "    var: 'hugo_symbol'"
      ]
     },
     "execution_count": 6,
     "metadata": {},
     "output_type": "execute_result"
    }
   ],
   "source": [
    "adata"
   ]
  },
  {
   "cell_type": "markdown",
   "metadata": {},
   "source": [
    "## Querying single-cell datasets"
   ]
  },
  {
   "cell_type": "markdown",
   "metadata": {},
   "source": [
    "Currently, only the `Artifacts` of the `raw_expr.h5ad` data products are labeled with metadata.\n",
    "The available metadata includes `ln.Reference`, `bt.Tissue`, `bt.Disease`, `bt.ExperimentalFactor`, and many more.\n",
    "Please have a look at [the instance](https://lamin.ai/laminlabs/hubmap) for more details."
   ]
  },
  {
   "cell_type": "code",
   "execution_count": 9,
   "metadata": {},
   "outputs": [
    {
     "name": "stdout",
     "output_type": "stream",
     "text": [
      "... synchronizing expr.h5ad: 100.0%\n"
     ]
    },
    {
     "data": {
      "text/plain": [
       "AnnData object with n_obs × n_vars = 52534 × 60286\n",
       "    obs: 'cell_id'\n",
       "    var: 'hugo_symbol'\n",
       "    layers: 'spliced', 'spliced_unspliced_sum', 'unspliced'"
      ]
     },
     "execution_count": 9,
     "metadata": {},
     "output_type": "execute_result"
    }
   ],
   "source": [
    "# Get one dataset with a specific type of heart failure\n",
    "heart_failure_adata = (\n",
    "    ln.Artifact.filter(diseases__name=\"heart failure with reduced ejection fraction\")\n",
    "    .first()\n",
    "    .load()\n",
    ")\n",
    "heart_failure_adata"
   ]
  },
  {
   "cell_type": "code",
   "execution_count": 10,
   "metadata": {},
   "outputs": [
    {
     "name": "stdout",
     "output_type": "stream",
     "text": [
      "\u001b[94m•\u001b[0m please hit CTRL + s to save the notebook in your editor .... still waiting .....\n",
      ". \u001b[92m✓\u001b[0m\n",
      "\u001b[93m!\u001b[0m cells [(0, 2), (6, 9)] were not run consecutively\n",
      "\u001b[92m→\u001b[0m finished Run('l8TeOLsI') after 2m at 2025-02-25 12:59:54 UTC\n",
      "\u001b[92m→\u001b[0m go to: https://lamin.ai/laminlabs/hubmap/transform/TMDTNYfmBzK10000\n",
      "\u001b[92m→\u001b[0m to update your notebook from the CLI, run: lamin save /home/lukas/code/hubmap_registration/access_query_tutorial.ipynb\n"
     ]
    }
   ],
   "source": [
    "ln.finish()"
   ]
  }
 ],
 "metadata": {
  "kernelspec": {
   "display_name": "lamindb",
   "language": "python",
   "name": "python3"
  },
  "language_info": {
   "codemirror_mode": {
    "name": "ipython",
    "version": 3
   },
   "file_extension": ".py",
   "mimetype": "text/x-python",
   "name": "python",
   "nbconvert_exporter": "python",
   "pygments_lexer": "ipython3",
   "version": "3.12.8"
  }
 },
 "nbformat": 4,
 "nbformat_minor": 2
}
