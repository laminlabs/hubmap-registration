{
 "cells": [
  {
   "cell_type": "markdown",
   "id": "fe959749",
   "metadata": {},
   "source": [
    "# Register bulk metadata\n",
    "\n",
    "Standardized columns:\n",
    "- `tissue`\n",
    "- `ethnicity`\n",
    "- `sex`\n",
    "- `diseases` # contains lists of terms\n",
    "- `suspension_type`\n",
    "- `assay`\n",
    "- `donor_id`\n",
    "- `biosample`\n",
    "- `tissue_type`"
   ]
  },
  {
   "cell_type": "code",
   "execution_count": 1,
   "id": "7ff0cffe",
   "metadata": {},
   "outputs": [
    {
     "name": "stdout",
     "output_type": "stream",
     "text": [
      "\u001b[92m→\u001b[0m connected lamindb: laminlabs/hubmap\n",
      "\u001b[92m→\u001b[0m loaded Transform('7vMsNv3hPGOg0000'), re-started Run('d5irYBZF...') at 2025-05-13 11:54:44 UTC\n",
      "\u001b[92m→\u001b[0m notebook imports: bionty==1.3.0 lamindb==1.4.0 wetlab==1.2.0\n"
     ]
    }
   ],
   "source": [
    "import lamindb as ln\n",
    "import bionty as bt\n",
    "import wetlab as wl\n",
    "\n",
    "ln.track()"
   ]
  },
  {
   "cell_type": "code",
   "execution_count": 2,
   "id": "cff9ad89",
   "metadata": {},
   "outputs": [
    {
     "data": {
      "text/html": [
       "<div>\n",
       "<style scoped>\n",
       "    .dataframe tbody tr th:only-of-type {\n",
       "        vertical-align: middle;\n",
       "    }\n",
       "\n",
       "    .dataframe tbody tr th {\n",
       "        vertical-align: top;\n",
       "    }\n",
       "\n",
       "    .dataframe thead th {\n",
       "        text-align: right;\n",
       "    }\n",
       "</style>\n",
       "<table border=\"1\" class=\"dataframe\">\n",
       "  <thead>\n",
       "    <tr style=\"text-align: right;\">\n",
       "      <th></th>\n",
       "      <th>assay</th>\n",
       "      <th>rnaseq_assay_method</th>\n",
       "      <th>title</th>\n",
       "      <th>group_name</th>\n",
       "      <th>consortium</th>\n",
       "      <th>doi</th>\n",
       "      <th>publication_date</th>\n",
       "      <th>status</th>\n",
       "      <th>dataset_type</th>\n",
       "      <th>processing</th>\n",
       "      <th>organ</th>\n",
       "      <th>sample_category</th>\n",
       "      <th>analyte_class</th>\n",
       "      <th>bmi</th>\n",
       "      <th>age</th>\n",
       "      <th>ethnicity</th>\n",
       "      <th>sex</th>\n",
       "      <th>diseases</th>\n",
       "      <th>donor_id</th>\n",
       "      <th>sample_id</th>\n",
       "      <th>ancestor_id</th>\n",
       "      <th>expression_matrices_url</th>\n",
       "    </tr>\n",
       "    <tr>\n",
       "      <th>uuid</th>\n",
       "      <th></th>\n",
       "      <th></th>\n",
       "      <th></th>\n",
       "      <th></th>\n",
       "      <th></th>\n",
       "      <th></th>\n",
       "      <th></th>\n",
       "      <th></th>\n",
       "      <th></th>\n",
       "      <th></th>\n",
       "      <th></th>\n",
       "      <th></th>\n",
       "      <th></th>\n",
       "      <th></th>\n",
       "      <th></th>\n",
       "      <th></th>\n",
       "      <th></th>\n",
       "      <th></th>\n",
       "      <th></th>\n",
       "      <th></th>\n",
       "      <th></th>\n",
       "      <th></th>\n",
       "    </tr>\n",
       "  </thead>\n",
       "  <tbody>\n",
       "    <tr>\n",
       "      <th>2c77b1cdf33dbed3dbfb74e4b578300e</th>\n",
       "      <td>bulk RNA</td>\n",
       "      <td>NEBNext Ultra II RNA Library Prep Kit</td>\n",
       "      <td>RNAseq data from the large intestine of a 67-y...</td>\n",
       "      <td>Stanford TMC</td>\n",
       "      <td>HuBMAP</td>\n",
       "      <td>10.35079/HBM756.GJDX.884</td>\n",
       "      <td>2020-08-22</td>\n",
       "      <td>protected</td>\n",
       "      <td>RNAseq</td>\n",
       "      <td>raw</td>\n",
       "      <td>LI</td>\n",
       "      <td>block</td>\n",
       "      <td>RNA</td>\n",
       "      <td>30.2</td>\n",
       "      <td>67</td>\n",
       "      <td>White</td>\n",
       "      <td>Female</td>\n",
       "      <td>[Hypertension, Coronary Artery Disease, Cardia...</td>\n",
       "      <td>HBM279.WPZP.978</td>\n",
       "      <td>HBM488.XJKW.383</td>\n",
       "      <td>d0cb764459fd1d1c6f04fdce2e982831</td>\n",
       "      <td>https://assets.hubmapconsortium.org/9e7b040f23...</td>\n",
       "    </tr>\n",
       "    <tr>\n",
       "      <th>f84c8edc36a65f248c2649ebbe52ad35</th>\n",
       "      <td>bulk RNA</td>\n",
       "      <td>NEBNext Ultra II RNA Library Prep Kit</td>\n",
       "      <td>RNAseq data from the large intestine of a 67-y...</td>\n",
       "      <td>Stanford TMC</td>\n",
       "      <td>HuBMAP</td>\n",
       "      <td>10.35079/HBM454.ZWSD.895</td>\n",
       "      <td>2020-08-22</td>\n",
       "      <td>protected</td>\n",
       "      <td>RNAseq</td>\n",
       "      <td>raw</td>\n",
       "      <td>LI</td>\n",
       "      <td>block</td>\n",
       "      <td>RNA</td>\n",
       "      <td>30.2</td>\n",
       "      <td>67</td>\n",
       "      <td>White</td>\n",
       "      <td>Female</td>\n",
       "      <td>[Hypertension, Coronary Artery Disease, Cardia...</td>\n",
       "      <td>HBM279.WPZP.978</td>\n",
       "      <td>HBM875.RVTT.868</td>\n",
       "      <td>3d742332ef8ca26f34f7ee5b9da3381c</td>\n",
       "      <td>https://assets.hubmapconsortium.org/1c141b1558...</td>\n",
       "    </tr>\n",
       "    <tr>\n",
       "      <th>311837bf483627cc967e40092a251096</th>\n",
       "      <td>bulk RNA</td>\n",
       "      <td>NEBNext Ultra II RNA Library Prep Kit</td>\n",
       "      <td>RNAseq data from the small intestine of a 67-y...</td>\n",
       "      <td>Stanford TMC</td>\n",
       "      <td>HuBMAP</td>\n",
       "      <td>10.35079/HBM656.ZCCL.743</td>\n",
       "      <td>2020-08-22</td>\n",
       "      <td>protected</td>\n",
       "      <td>RNAseq</td>\n",
       "      <td>raw</td>\n",
       "      <td>SI</td>\n",
       "      <td>block</td>\n",
       "      <td>RNA</td>\n",
       "      <td>30.2</td>\n",
       "      <td>67</td>\n",
       "      <td>White</td>\n",
       "      <td>Female</td>\n",
       "      <td>[Hypertension, Coronary Artery Disease, Cardia...</td>\n",
       "      <td>HBM279.WPZP.978</td>\n",
       "      <td>HBM229.NKWB.488</td>\n",
       "      <td>35e16f13caab262f446836f63cf4ad42</td>\n",
       "      <td>https://assets.hubmapconsortium.org/a8a603e704...</td>\n",
       "    </tr>\n",
       "    <tr>\n",
       "      <th>c67e024e8fcc25166aac2e2e883208df</th>\n",
       "      <td>bulk-RNA</td>\n",
       "      <td>KAPA RNA HyperPrep Kit with RiboErase</td>\n",
       "      <td>RNAseq data from the placenta of a 34-year-old...</td>\n",
       "      <td>TMC - University of California San Diego focus...</td>\n",
       "      <td>HuBMAP</td>\n",
       "      <td>10.35079/HBM669.BFZR.956</td>\n",
       "      <td>2025-02-26</td>\n",
       "      <td>protected</td>\n",
       "      <td>RNAseq</td>\n",
       "      <td>raw</td>\n",
       "      <td>PL</td>\n",
       "      <td>block</td>\n",
       "      <td>RNA</td>\n",
       "      <td></td>\n",
       "      <td></td>\n",
       "      <td></td>\n",
       "      <td></td>\n",
       "      <td>[normal]</td>\n",
       "      <td>HBM683.TPQL.293</td>\n",
       "      <td>HBM265.XLDG.695</td>\n",
       "      <td>0236e72a6ce04abc0008ac2a40cf1b35</td>\n",
       "      <td>https://assets.hubmapconsortium.org/7d7ba54632...</td>\n",
       "    </tr>\n",
       "    <tr>\n",
       "      <th>73507265c43d750e6ec5e48d1e2e0b92</th>\n",
       "      <td>bulk-RNA</td>\n",
       "      <td>KAPA RNA HyperPrep Kit with RiboErase</td>\n",
       "      <td>RNAseq data from the placenta of a 34-year-old...</td>\n",
       "      <td>TMC - University of California San Diego focus...</td>\n",
       "      <td>HuBMAP</td>\n",
       "      <td>10.35079/HBM765.RPVQ.584</td>\n",
       "      <td>2025-02-26</td>\n",
       "      <td>protected</td>\n",
       "      <td>RNAseq</td>\n",
       "      <td>raw</td>\n",
       "      <td>PL</td>\n",
       "      <td>block</td>\n",
       "      <td>RNA</td>\n",
       "      <td></td>\n",
       "      <td></td>\n",
       "      <td></td>\n",
       "      <td></td>\n",
       "      <td>[normal]</td>\n",
       "      <td>HBM864.XRGJ.897</td>\n",
       "      <td>HBM464.GLHP.566</td>\n",
       "      <td>c97c86db1d6c7f62445c06d70289c87a</td>\n",
       "      <td>https://assets.hubmapconsortium.org/fc80dbe141...</td>\n",
       "    </tr>\n",
       "  </tbody>\n",
       "</table>\n",
       "</div>"
      ],
      "text/plain": [
       "                                     assay  \\\n",
       "uuid                                         \n",
       "2c77b1cdf33dbed3dbfb74e4b578300e  bulk RNA   \n",
       "f84c8edc36a65f248c2649ebbe52ad35  bulk RNA   \n",
       "311837bf483627cc967e40092a251096  bulk RNA   \n",
       "c67e024e8fcc25166aac2e2e883208df  bulk-RNA   \n",
       "73507265c43d750e6ec5e48d1e2e0b92  bulk-RNA   \n",
       "\n",
       "                                                    rnaseq_assay_method  \\\n",
       "uuid                                                                      \n",
       "2c77b1cdf33dbed3dbfb74e4b578300e  NEBNext Ultra II RNA Library Prep Kit   \n",
       "f84c8edc36a65f248c2649ebbe52ad35  NEBNext Ultra II RNA Library Prep Kit   \n",
       "311837bf483627cc967e40092a251096  NEBNext Ultra II RNA Library Prep Kit   \n",
       "c67e024e8fcc25166aac2e2e883208df  KAPA RNA HyperPrep Kit with RiboErase   \n",
       "73507265c43d750e6ec5e48d1e2e0b92  KAPA RNA HyperPrep Kit with RiboErase   \n",
       "\n",
       "                                                                              title  \\\n",
       "uuid                                                                                  \n",
       "2c77b1cdf33dbed3dbfb74e4b578300e  RNAseq data from the large intestine of a 67-y...   \n",
       "f84c8edc36a65f248c2649ebbe52ad35  RNAseq data from the large intestine of a 67-y...   \n",
       "311837bf483627cc967e40092a251096  RNAseq data from the small intestine of a 67-y...   \n",
       "c67e024e8fcc25166aac2e2e883208df  RNAseq data from the placenta of a 34-year-old...   \n",
       "73507265c43d750e6ec5e48d1e2e0b92  RNAseq data from the placenta of a 34-year-old...   \n",
       "\n",
       "                                                                         group_name  \\\n",
       "uuid                                                                                  \n",
       "2c77b1cdf33dbed3dbfb74e4b578300e                                       Stanford TMC   \n",
       "f84c8edc36a65f248c2649ebbe52ad35                                       Stanford TMC   \n",
       "311837bf483627cc967e40092a251096                                       Stanford TMC   \n",
       "c67e024e8fcc25166aac2e2e883208df  TMC - University of California San Diego focus...   \n",
       "73507265c43d750e6ec5e48d1e2e0b92  TMC - University of California San Diego focus...   \n",
       "\n",
       "                                 consortium                       doi  \\\n",
       "uuid                                                                    \n",
       "2c77b1cdf33dbed3dbfb74e4b578300e     HuBMAP  10.35079/HBM756.GJDX.884   \n",
       "f84c8edc36a65f248c2649ebbe52ad35     HuBMAP  10.35079/HBM454.ZWSD.895   \n",
       "311837bf483627cc967e40092a251096     HuBMAP  10.35079/HBM656.ZCCL.743   \n",
       "c67e024e8fcc25166aac2e2e883208df     HuBMAP  10.35079/HBM669.BFZR.956   \n",
       "73507265c43d750e6ec5e48d1e2e0b92     HuBMAP  10.35079/HBM765.RPVQ.584   \n",
       "\n",
       "                                 publication_date     status dataset_type  \\\n",
       "uuid                                                                        \n",
       "2c77b1cdf33dbed3dbfb74e4b578300e       2020-08-22  protected       RNAseq   \n",
       "f84c8edc36a65f248c2649ebbe52ad35       2020-08-22  protected       RNAseq   \n",
       "311837bf483627cc967e40092a251096       2020-08-22  protected       RNAseq   \n",
       "c67e024e8fcc25166aac2e2e883208df       2025-02-26  protected       RNAseq   \n",
       "73507265c43d750e6ec5e48d1e2e0b92       2025-02-26  protected       RNAseq   \n",
       "\n",
       "                                 processing organ sample_category  \\\n",
       "uuid                                                                \n",
       "2c77b1cdf33dbed3dbfb74e4b578300e        raw    LI           block   \n",
       "f84c8edc36a65f248c2649ebbe52ad35        raw    LI           block   \n",
       "311837bf483627cc967e40092a251096        raw    SI           block   \n",
       "c67e024e8fcc25166aac2e2e883208df        raw    PL           block   \n",
       "73507265c43d750e6ec5e48d1e2e0b92        raw    PL           block   \n",
       "\n",
       "                                 analyte_class   bmi age ethnicity     sex  \\\n",
       "uuid                                                                         \n",
       "2c77b1cdf33dbed3dbfb74e4b578300e           RNA  30.2  67     White  Female   \n",
       "f84c8edc36a65f248c2649ebbe52ad35           RNA  30.2  67     White  Female   \n",
       "311837bf483627cc967e40092a251096           RNA  30.2  67     White  Female   \n",
       "c67e024e8fcc25166aac2e2e883208df           RNA                               \n",
       "73507265c43d750e6ec5e48d1e2e0b92           RNA                               \n",
       "\n",
       "                                                                           diseases  \\\n",
       "uuid                                                                                  \n",
       "2c77b1cdf33dbed3dbfb74e4b578300e  [Hypertension, Coronary Artery Disease, Cardia...   \n",
       "f84c8edc36a65f248c2649ebbe52ad35  [Hypertension, Coronary Artery Disease, Cardia...   \n",
       "311837bf483627cc967e40092a251096  [Hypertension, Coronary Artery Disease, Cardia...   \n",
       "c67e024e8fcc25166aac2e2e883208df                                           [normal]   \n",
       "73507265c43d750e6ec5e48d1e2e0b92                                           [normal]   \n",
       "\n",
       "                                         donor_id        sample_id  \\\n",
       "uuid                                                                 \n",
       "2c77b1cdf33dbed3dbfb74e4b578300e  HBM279.WPZP.978  HBM488.XJKW.383   \n",
       "f84c8edc36a65f248c2649ebbe52ad35  HBM279.WPZP.978  HBM875.RVTT.868   \n",
       "311837bf483627cc967e40092a251096  HBM279.WPZP.978  HBM229.NKWB.488   \n",
       "c67e024e8fcc25166aac2e2e883208df  HBM683.TPQL.293  HBM265.XLDG.695   \n",
       "73507265c43d750e6ec5e48d1e2e0b92  HBM864.XRGJ.897  HBM464.GLHP.566   \n",
       "\n",
       "                                                       ancestor_id  \\\n",
       "uuid                                                                 \n",
       "2c77b1cdf33dbed3dbfb74e4b578300e  d0cb764459fd1d1c6f04fdce2e982831   \n",
       "f84c8edc36a65f248c2649ebbe52ad35  3d742332ef8ca26f34f7ee5b9da3381c   \n",
       "311837bf483627cc967e40092a251096  35e16f13caab262f446836f63cf4ad42   \n",
       "c67e024e8fcc25166aac2e2e883208df  0236e72a6ce04abc0008ac2a40cf1b35   \n",
       "73507265c43d750e6ec5e48d1e2e0b92  c97c86db1d6c7f62445c06d70289c87a   \n",
       "\n",
       "                                                            expression_matrices_url  \n",
       "uuid                                                                                 \n",
       "2c77b1cdf33dbed3dbfb74e4b578300e  https://assets.hubmapconsortium.org/9e7b040f23...  \n",
       "f84c8edc36a65f248c2649ebbe52ad35  https://assets.hubmapconsortium.org/1c141b1558...  \n",
       "311837bf483627cc967e40092a251096  https://assets.hubmapconsortium.org/a8a603e704...  \n",
       "c67e024e8fcc25166aac2e2e883208df  https://assets.hubmapconsortium.org/7d7ba54632...  \n",
       "73507265c43d750e6ec5e48d1e2e0b92  https://assets.hubmapconsortium.org/fc80dbe141...  "
      ]
     },
     "execution_count": 2,
     "metadata": {},
     "output_type": "execute_result"
    }
   ],
   "source": [
    "meta_df = ln.Artifact.get(\"j5RQEPmtKuTeo0lO0001\").load()\n",
    "meta_df.head()"
   ]
  },
  {
   "cell_type": "markdown",
   "id": "c9230b0a",
   "metadata": {},
   "source": [
    "## `Reference`"
   ]
  },
  {
   "cell_type": "code",
   "execution_count": 3,
   "id": "c3aff871",
   "metadata": {},
   "outputs": [],
   "source": [
    "reference_names = ln.Reference.inspect(meta_df.title, mute=True).non_validated\n",
    "try:\n",
    "    ln.settings.creation.search_names = False\n",
    "    references = []\n",
    "    for _, row in (\n",
    "        meta_df[[\"title\", \"doi\", \"publication_date\"]].drop_duplicates().iterrows()\n",
    "    ):\n",
    "        if row.title in reference_names:\n",
    "            references.append(\n",
    "                ln.Reference(name=row.title, doi=row.doi, date=row.publication_date)\n",
    "            )\n",
    "finally:\n",
    "    ln.settings.creation.search_names = True"
   ]
  },
  {
   "cell_type": "code",
   "execution_count": 4,
   "id": "ddec43a1",
   "metadata": {},
   "outputs": [],
   "source": [
    "ln.save(references)"
   ]
  },
  {
   "cell_type": "code",
   "execution_count": 5,
   "id": "4459d084",
   "metadata": {},
   "outputs": [
    {
     "data": {
      "text/plain": [
       "72"
      ]
     },
     "execution_count": 5,
     "metadata": {},
     "output_type": "execute_result"
    }
   ],
   "source": [
    "ln.Reference.filter(run_id=ln.context.run.id).count()"
   ]
  },
  {
   "cell_type": "markdown",
   "id": "b908930b",
   "metadata": {},
   "source": [
    "## Tissue"
   ]
  },
  {
   "cell_type": "code",
   "execution_count": 6,
   "id": "16ad1e59",
   "metadata": {},
   "outputs": [
    {
     "data": {
      "text/plain": [
       "array(['LI', 'SI', 'PL'], dtype=object)"
      ]
     },
     "execution_count": 6,
     "metadata": {},
     "output_type": "execute_result"
    }
   ],
   "source": [
    "meta_df.organ.unique()"
   ]
  },
  {
   "cell_type": "code",
   "execution_count": 7,
   "id": "a753af96",
   "metadata": {},
   "outputs": [],
   "source": [
    "mapper = {\n",
    "    \"LY\": \"lymph node\",\n",
    "    \"TH\": \"thymus\",\n",
    "    \"LI\": \"large intestine\",\n",
    "    \"SI\": \"small intestine\",\n",
    "    \"SP\": \"spleen\",\n",
    "    \"HT\": \"heart\",\n",
    "    \"LK\": \"kidney (left)\",\n",
    "    \"RK\": \"kidney (right)\",\n",
    "    \"LL\": \"lung (left)\",\n",
    "    \"RL\": \"lung (right)\",\n",
    "    \"LV\": \"liver\",\n",
    "    \"LN\": \"knee (left)\",\n",
    "    \"RN\": \"knee (right)\",\n",
    "    \"BL\": \"bladder organ\",\n",
    "    \"PL\": \"placenta\",\n",
    "}\n",
    "meta_df[\"tissue\"] = meta_df.organ.map(mapper)"
   ]
  },
  {
   "cell_type": "code",
   "execution_count": 8,
   "id": "cc88d97e",
   "metadata": {},
   "outputs": [],
   "source": [
    "try:\n",
    "    ln.settings.creation.search_names = False\n",
    "    for name in [\n",
    "        \"kidney (left)\",\n",
    "        \"kidney (right)\",\n",
    "        \"lung (right)\",\n",
    "        \"knee (right)\",\n",
    "        \"knee (left)\",\n",
    "    ]:\n",
    "        tissue = bt.Tissue.filter(name=name).one_or_none()\n",
    "        if tissue is None:\n",
    "            tissue = bt.Tissue(name=name).save()\n",
    "            parent = bt.Tissue.get(name=name.split(\" \")[0])\n",
    "            tissue.parents.add(parent)\n",
    "finally:\n",
    "    ln.settings.creation.search_names = True"
   ]
  },
  {
   "cell_type": "code",
   "execution_count": 9,
   "id": "9fa9c2df",
   "metadata": {},
   "outputs": [
    {
     "data": {
      "text/plain": [
       "[]"
      ]
     },
     "execution_count": 9,
     "metadata": {},
     "output_type": "execute_result"
    }
   ],
   "source": [
    "bt.Tissue.inspect(meta_df.tissue).non_validated"
   ]
  },
  {
   "cell_type": "code",
   "execution_count": 10,
   "id": "62768ab0",
   "metadata": {},
   "outputs": [
    {
     "data": {
      "text/plain": [
       "0"
      ]
     },
     "execution_count": 10,
     "metadata": {},
     "output_type": "execute_result"
    }
   ],
   "source": [
    "bt.Tissue.filter(run_id=ln.context.run.id).count()"
   ]
  },
  {
   "cell_type": "markdown",
   "id": "d2649347",
   "metadata": {},
   "source": [
    "## Ethnicity"
   ]
  },
  {
   "cell_type": "code",
   "execution_count": 11,
   "id": "c66a005d",
   "metadata": {},
   "outputs": [
    {
     "data": {
      "text/plain": [
       "array(['White', ''], dtype=object)"
      ]
     },
     "execution_count": 11,
     "metadata": {},
     "output_type": "execute_result"
    }
   ],
   "source": [
    "meta_df.ethnicity.unique()"
   ]
  },
  {
   "cell_type": "code",
   "execution_count": 12,
   "id": "790dc44c",
   "metadata": {},
   "outputs": [],
   "source": [
    "meta_df[\"ethnicity\"] = meta_df.ethnicity.map(\n",
    "    {\n",
    "        \"\": \"na\",\n",
    "        \"Black or African American\": \"African American\",\n",
    "        \"White\": \"European\",\n",
    "        \"Unknown\": \"unknown\",\n",
    "    }\n",
    ")"
   ]
  },
  {
   "cell_type": "code",
   "execution_count": 13,
   "id": "af957246",
   "metadata": {},
   "outputs": [
    {
     "data": {
      "text/plain": [
       "[]"
      ]
     },
     "execution_count": 13,
     "metadata": {},
     "output_type": "execute_result"
    }
   ],
   "source": [
    "bt.Ethnicity.inspect(meta_df.ethnicity).non_validated"
   ]
  },
  {
   "cell_type": "markdown",
   "id": "25f74071",
   "metadata": {},
   "source": [
    "## Sex"
   ]
  },
  {
   "cell_type": "code",
   "execution_count": 14,
   "id": "0ad06bce",
   "metadata": {},
   "outputs": [
    {
     "data": {
      "text/plain": [
       "array(['Female', ''], dtype=object)"
      ]
     },
     "execution_count": 14,
     "metadata": {},
     "output_type": "execute_result"
    }
   ],
   "source": [
    "meta_df[\"sex\"].unique()"
   ]
  },
  {
   "cell_type": "code",
   "execution_count": 15,
   "id": "3b4e5173",
   "metadata": {},
   "outputs": [],
   "source": [
    "meta_df[\"sex\"] = meta_df.sex.str.lower().replace([\"\"], \"unknown\")"
   ]
  },
  {
   "cell_type": "code",
   "execution_count": 16,
   "id": "246a83d8",
   "metadata": {},
   "outputs": [
    {
     "data": {
      "text/plain": [
       "[]"
      ]
     },
     "execution_count": 16,
     "metadata": {},
     "output_type": "execute_result"
    }
   ],
   "source": [
    "bt.Phenotype.inspect(meta_df.sex).non_validated"
   ]
  },
  {
   "cell_type": "markdown",
   "id": "a5aa1de7",
   "metadata": {},
   "source": [
    "## Disease"
   ]
  },
  {
   "cell_type": "code",
   "execution_count": 17,
   "id": "a7e8f2f2",
   "metadata": {},
   "outputs": [
    {
     "data": {
      "text/plain": [
       "['Cardiac Arrest', 'Coronary Artery Disease', 'Hypertension', 'normal']"
      ]
     },
     "execution_count": 17,
     "metadata": {},
     "output_type": "execute_result"
    }
   ],
   "source": [
    "diseases = list(set(meta_df.diseases.apply(list).sum()))\n",
    "diseases"
   ]
  },
  {
   "cell_type": "code",
   "execution_count": 18,
   "id": "d6193def",
   "metadata": {},
   "outputs": [],
   "source": [
    "synonyms_mapper = bt.Disease.standardize(diseases, return_mapper=True)"
   ]
  },
  {
   "cell_type": "code",
   "execution_count": 22,
   "id": "d0ba122d",
   "metadata": {},
   "outputs": [
    {
     "name": "stdout",
     "output_type": "stream",
     "text": [
      "\u001b[92m→\u001b[0m returning existing Disease record with same name: 'heart failure with reduced ejection fraction'\n"
     ]
    }
   ],
   "source": [
    "# https://www.ebi.ac.uk/ols4/ontologies/snomed/classes/http%253A%252F%252Fsnomed.info%252Fid%252F703272007\n",
    "# note: we use lower case for names to be consistent with mondo\n",
    "bt.Disease(\n",
    "    name=\"heart failure with reduced ejection fraction\", ontology_id=\"SNOMED:703272007\"\n",
    ").save()\n",
    "# the rest we map to mondo\n",
    "synonyms_mapper.update(\n",
    "    {\n",
    "        \"Hypertension\": \"hypertensive disorder\",\n",
    "        \"Hyperlipidimia\": \"hyperlipidemia\",\n",
    "        \"Autistic disorder\": \"autism\",\n",
    "    }\n",
    ")"
   ]
  },
  {
   "cell_type": "code",
   "execution_count": 23,
   "id": "4e5f57e9",
   "metadata": {},
   "outputs": [],
   "source": [
    "meta_df[\"diseases\"] = meta_df.diseases.apply(\n",
    "    lambda x: [synonyms_mapper.get(i, i) for i in x]\n",
    ")"
   ]
  },
  {
   "cell_type": "code",
   "execution_count": 24,
   "id": "e5a0c980",
   "metadata": {},
   "outputs": [
    {
     "data": {
      "text/plain": [
       "[]"
      ]
     },
     "execution_count": 24,
     "metadata": {},
     "output_type": "execute_result"
    }
   ],
   "source": [
    "bt.Disease.inspect(meta_df.diseases).non_validated"
   ]
  },
  {
   "cell_type": "markdown",
   "id": "b018feb8",
   "metadata": {},
   "source": [
    "## `suspension_type`"
   ]
  },
  {
   "cell_type": "code",
   "execution_count": 25,
   "id": "51245a9d",
   "metadata": {},
   "outputs": [
    {
     "data": {
      "text/plain": [
       "array(['bulk RNA', 'bulk-RNA'], dtype=object)"
      ]
     },
     "execution_count": 25,
     "metadata": {},
     "output_type": "execute_result"
    }
   ],
   "source": [
    "meta_df.assay.unique()"
   ]
  },
  {
   "cell_type": "code",
   "execution_count": 26,
   "id": "3d53ef7f",
   "metadata": {},
   "outputs": [],
   "source": [
    "meta_df[\"suspension_type\"] = meta_df.assay.map(\n",
    "    {\n",
    "        \"bulk RNA\": \"tissue\",\n",
    "        \"bulk-RNA\": \"tissue\",\n",
    "    }\n",
    ")"
   ]
  },
  {
   "cell_type": "code",
   "execution_count": 27,
   "id": "31ae0a56",
   "metadata": {},
   "outputs": [
    {
     "data": {
      "text/plain": [
       "[]"
      ]
     },
     "execution_count": 27,
     "metadata": {},
     "output_type": "execute_result"
    }
   ],
   "source": [
    "ln.ULabel.inspect(meta_df[\"suspension_type\"]).non_validated"
   ]
  },
  {
   "cell_type": "markdown",
   "id": "4e0e6393",
   "metadata": {},
   "source": [
    "## `assay`"
   ]
  },
  {
   "cell_type": "code",
   "execution_count": 28,
   "id": "6db3076a",
   "metadata": {},
   "outputs": [
    {
     "data": {
      "text/html": [
       "<div>\n",
       "<style scoped>\n",
       "    .dataframe tbody tr th:only-of-type {\n",
       "        vertical-align: middle;\n",
       "    }\n",
       "\n",
       "    .dataframe tbody tr th {\n",
       "        vertical-align: top;\n",
       "    }\n",
       "\n",
       "    .dataframe thead th {\n",
       "        text-align: right;\n",
       "    }\n",
       "</style>\n",
       "<table border=\"1\" class=\"dataframe\">\n",
       "  <thead>\n",
       "    <tr style=\"text-align: right;\">\n",
       "      <th></th>\n",
       "      <th>assay</th>\n",
       "      <th>rnaseq_assay_method</th>\n",
       "    </tr>\n",
       "    <tr>\n",
       "      <th>uuid</th>\n",
       "      <th></th>\n",
       "      <th></th>\n",
       "    </tr>\n",
       "  </thead>\n",
       "  <tbody>\n",
       "    <tr>\n",
       "      <th>2c77b1cdf33dbed3dbfb74e4b578300e</th>\n",
       "      <td>bulk RNA</td>\n",
       "      <td>NEBNext Ultra II RNA Library Prep Kit</td>\n",
       "    </tr>\n",
       "    <tr>\n",
       "      <th>c67e024e8fcc25166aac2e2e883208df</th>\n",
       "      <td>bulk-RNA</td>\n",
       "      <td>KAPA RNA HyperPrep Kit with RiboErase</td>\n",
       "    </tr>\n",
       "  </tbody>\n",
       "</table>\n",
       "</div>"
      ],
      "text/plain": [
       "                                     assay  \\\n",
       "uuid                                         \n",
       "2c77b1cdf33dbed3dbfb74e4b578300e  bulk RNA   \n",
       "c67e024e8fcc25166aac2e2e883208df  bulk-RNA   \n",
       "\n",
       "                                                    rnaseq_assay_method  \n",
       "uuid                                                                     \n",
       "2c77b1cdf33dbed3dbfb74e4b578300e  NEBNext Ultra II RNA Library Prep Kit  \n",
       "c67e024e8fcc25166aac2e2e883208df  KAPA RNA HyperPrep Kit with RiboErase  "
      ]
     },
     "execution_count": 28,
     "metadata": {},
     "output_type": "execute_result"
    }
   ],
   "source": [
    "meta_df[[\"assay\", \"rnaseq_assay_method\"]].drop_duplicates()"
   ]
  },
  {
   "cell_type": "code",
   "execution_count": 29,
   "id": "96ab15de",
   "metadata": {},
   "outputs": [],
   "source": [
    "mapper = {\n",
    "    \"NEBNext Ultra II RNA Library Prep Kit\": \"NEBNext Ultra II\",\n",
    "    \"KAPA RNA HyperPrep Kit with RiboErase\": \"KAPA RNA HyperPrep + RiboErase\",\n",
    "}"
   ]
  },
  {
   "cell_type": "code",
   "execution_count": 30,
   "id": "36f79302",
   "metadata": {},
   "outputs": [],
   "source": [
    "meta_df[\"assay\"] = meta_df.rnaseq_assay_method.replace(mapper)"
   ]
  },
  {
   "cell_type": "code",
   "execution_count": null,
   "id": "8482d49c",
   "metadata": {},
   "outputs": [
    {
     "name": "stdout",
     "output_type": "stream",
     "text": [
      "\u001b[93m!\u001b[0m received 2 unique terms, 78 empty/duplicated terms are ignored\n",
      "\u001b[93m!\u001b[0m \u001b[1;93m2 unique terms\u001b[0m (100.00%) are not validated for \u001b[3mname\u001b[0m: \u001b[1;93m'NEBNext Ultra II', 'KAPA RNA HyperPrep + RiboErase'\u001b[0m\n",
      "   couldn't validate \u001b[1;91m2 terms\u001b[0m: \u001b[1;91m'KAPA RNA HyperPrep + RiboErase', 'NEBNext Ultra II'\u001b[0m\n",
      "→  if you are sure, create new records via \u001b[3mExperimentalFactor()\u001b[0m and save to your registry\n"
     ]
    },
    {
     "data": {
      "text/plain": [
       "['NEBNext Ultra II', 'KAPA RNA HyperPrep + RiboErase']"
      ]
     },
     "execution_count": 31,
     "metadata": {},
     "output_type": "execute_result"
    }
   ],
   "source": [
    "bt.ExperimentalFactor.inspect(meta_df.assay).non_validated"
   ]
  },
  {
   "cell_type": "code",
   "execution_count": 32,
   "id": "8340cdc6",
   "metadata": {},
   "outputs": [
    {
     "data": {
      "text/plain": [
       "ExperimentalFactor(uid='4UF0VTfP', name='NEBNext Ultra II', space_id=1, created_by_id=5, run_id=28, created_at=2025-05-13 12:36:23 UTC)"
      ]
     },
     "execution_count": 32,
     "metadata": {},
     "output_type": "execute_result"
    }
   ],
   "source": [
    "bt.ExperimentalFactor(name=\"NEBNext Ultra II\").save()"
   ]
  },
  {
   "cell_type": "code",
   "execution_count": 33,
   "id": "637d4d17",
   "metadata": {},
   "outputs": [
    {
     "data": {
      "text/plain": [
       "ExperimentalFactor(uid='1wPXT1JO', name='KAPA RNA HyperPrep + RiboErase', space_id=1, created_by_id=5, run_id=28, created_at=2025-05-13 12:36:36 UTC)"
      ]
     },
     "execution_count": 33,
     "metadata": {},
     "output_type": "execute_result"
    }
   ],
   "source": [
    "bt.ExperimentalFactor(name=\"KAPA RNA HyperPrep + RiboErase\").save()"
   ]
  },
  {
   "cell_type": "code",
   "execution_count": 34,
   "id": "d9f67cfc",
   "metadata": {},
   "outputs": [
    {
     "data": {
      "text/plain": [
       "[]"
      ]
     },
     "execution_count": 34,
     "metadata": {},
     "output_type": "execute_result"
    }
   ],
   "source": [
    "bt.ExperimentalFactor.inspect(meta_df.assay).non_validated"
   ]
  },
  {
   "cell_type": "markdown",
   "id": "d1c21aaf",
   "metadata": {},
   "source": [
    "## `donor_id`"
   ]
  },
  {
   "cell_type": "code",
   "execution_count": 35,
   "id": "bd2bd30f",
   "metadata": {},
   "outputs": [],
   "source": [
    "ethnicities = bt.Ethnicity.lookup().dict()\n",
    "\n",
    "try:\n",
    "    ln.settings.creation.search_names = False\n",
    "    donors = []\n",
    "    for _, row in (\n",
    "        meta_df[[\"donor_id\", \"age\", \"bmi\", \"ethnicity\"]].drop_duplicates().iterrows()\n",
    "    ):\n",
    "        donor = wl.Donor.filter(name=row.donor_id).one_or_none()\n",
    "        if donor is None:\n",
    "            ethnicity = ethnicities.get(row.ethnicity)\n",
    "            if row.age == \"\":\n",
    "                age = None\n",
    "            else:\n",
    "                age = int(float(row.age))\n",
    "            bmi = None if row.bmi == \"\" else row.bmi\n",
    "            donor = wl.Donor(\n",
    "                name=row.donor_id,\n",
    "                batch=\"unknown\",\n",
    "                age=age,\n",
    "                bmi=bmi,\n",
    "                ethnicity=ethnicity,\n",
    "            )\n",
    "            donors.append(donor)\n",
    "finally:\n",
    "    ln.settings.creation.search_names = True"
   ]
  },
  {
   "cell_type": "code",
   "execution_count": 36,
   "id": "39e5b6cb",
   "metadata": {},
   "outputs": [],
   "source": [
    "ln.save(donors)"
   ]
  },
  {
   "cell_type": "markdown",
   "id": "2670721f",
   "metadata": {},
   "source": [
    "## `biosample`"
   ]
  },
  {
   "cell_type": "code",
   "execution_count": 37,
   "id": "1c07c489",
   "metadata": {},
   "outputs": [],
   "source": [
    "try:\n",
    "    ln.settings.creation.search_names = False\n",
    "    samples = []\n",
    "    for _, row in meta_df[[\"sample_id\"]].drop_duplicates().iterrows():\n",
    "        sample = wl.Biosample.filter(name=row.sample_id).one_or_none()\n",
    "        if sample is None:\n",
    "            sample = wl.Biosample(name=row.sample_id)\n",
    "            samples.append(sample)\n",
    "finally:\n",
    "    ln.settings.creation.search_names = True"
   ]
  },
  {
   "cell_type": "code",
   "execution_count": 38,
   "id": "cf6624cd",
   "metadata": {},
   "outputs": [],
   "source": [
    "ln.save(samples)"
   ]
  },
  {
   "cell_type": "markdown",
   "id": "8b3c3851",
   "metadata": {},
   "source": [
    "## `tissue_type`"
   ]
  },
  {
   "cell_type": "code",
   "execution_count": 39,
   "id": "168b12ac",
   "metadata": {},
   "outputs": [],
   "source": [
    "meta_df[\"tissue_type\"] = \"tissue\""
   ]
  },
  {
   "cell_type": "markdown",
   "id": "9f4f3c97",
   "metadata": {},
   "source": [
    "## `expression types`"
   ]
  },
  {
   "cell_type": "code",
   "execution_count": null,
   "id": "b090b0f7",
   "metadata": {},
   "outputs": [
    {
     "name": "stdout",
     "output_type": "stream",
     "text": [
      "\u001b[92m→\u001b[0m returning existing ULabel record with same name: 'expression_type'\n",
      "\u001b[92m→\u001b[0m returning existing ULabel record with same name: 'raw'\n",
      "\u001b[92m→\u001b[0m returning existing ULabel record with same name: 'expr'\n",
      "\u001b[92m→\u001b[0m returning existing ULabel record with same name: 'secondary'\n",
      "\u001b[92m→\u001b[0m returning existing ULabel record with same name: 'scvelo'\n"
     ]
    }
   ],
   "source": [
    "expression_type = ln.ULabel(name=\"expression_type\").save()\n",
    "raw_ul = ln.ULabel(name=\"raw\").save()\n",
    "expr_ul = ln.ULabel(name=\"expr\").save()\n",
    "secondary_ul = ln.ULabel(name=\"secondary\").save()\n",
    "scvelo_ul = ln.ULabel(name=\"scvelo\").save()\n",
    "expression_type.children.set([raw_ul, expr_ul, secondary_ul, scvelo_ul])"
   ]
  },
  {
   "cell_type": "markdown",
   "id": "13b9fcaf",
   "metadata": {},
   "source": [
    "## Save the curated metadata table"
   ]
  },
  {
   "cell_type": "code",
   "execution_count": 41,
   "id": "02182c43",
   "metadata": {},
   "outputs": [
    {
     "name": "stdout",
     "output_type": "stream",
     "text": [
      "... uploading ajd285FK90Z0ZBN10000.parquet: 100.0%\n"
     ]
    },
    {
     "data": {
      "text/plain": [
       "Artifact(uid='ajd285FK90Z0ZBN10000', is_latest=True, key='hubmap_metadata/meta_bulkrna_curated.parquet', suffix='.parquet', kind='dataset', otype='DataFrame', size=27584, hash='DuX0LjX_BxPtkFSk30MA0Q', n_observations=80, space_id=1, storage_id=1, run_id=28, created_by_id=5, created_at=2025-05-13 12:52:27 UTC)"
      ]
     },
     "execution_count": 41,
     "metadata": {},
     "output_type": "execute_result"
    }
   ],
   "source": [
    "artifact = ln.Artifact.from_df(\n",
    "    meta_df, key=\"hubmap_metadata/meta_bulkrna_curated.parquet\"\n",
    ").save()\n",
    "artifact"
   ]
  },
  {
   "cell_type": "code",
   "execution_count": 42,
   "id": "128bb655",
   "metadata": {},
   "outputs": [
    {
     "name": "stdout",
     "output_type": "stream",
     "text": [
      "\u001b[94m•\u001b[0m please hit CMD + s to save the notebook in your editor . \u001b[92m✓\u001b[0m\n",
      "\u001b[93m!\u001b[0m cells [(18, 22), (30, None), (None, 32), (39, None), (None, 41)] were not run consecutively\n",
      "\u001b[92m→\u001b[0m finished Run('d5irYBZF') after 57m at 2025-05-13 12:52:34 UTC\n",
      "\u001b[92m→\u001b[0m go to: https://lamin.ai/laminlabs/hubmap/transform/7vMsNv3hPGOg0000\n",
      "\u001b[92m→\u001b[0m to update your notebook from the CLI, run: lamin save /Users/altananamsaraeva/Desktop/Lamin/hubmap-registration/bulk/register-bulk-metadata.ipynb\n"
     ]
    }
   ],
   "source": [
    "ln.finish()"
   ]
  }
 ],
 "metadata": {
  "jupytext": {
   "cell_metadata_filter": "-all",
   "main_language": "python",
   "notebook_metadata_filter": "-all"
  },
  "kernelspec": {
   "display_name": "lamindb",
   "language": "python",
   "name": "python3"
  },
  "language_info": {
   "codemirror_mode": {
    "name": "ipython",
    "version": 3
   },
   "file_extension": ".py",
   "mimetype": "text/x-python",
   "name": "python",
   "nbconvert_exporter": "python",
   "pygments_lexer": "ipython3",
   "version": "3.12.8"
  }
 },
 "nbformat": 4,
 "nbformat_minor": 5
}
