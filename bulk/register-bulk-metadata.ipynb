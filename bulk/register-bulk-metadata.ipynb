{
 "cells": [
  {
   "cell_type": "markdown",
   "id": "fe959749",
   "metadata": {},
   "source": [
    "# Register bulk metadata\n",
    "\n",
    "Standardized columns:\n",
    "- `tissue`\n",
    "- `ethnicity`\n",
    "- `sex`\n",
    "- `diseases` # contains lists of terms\n",
    "- `suspension_type`\n",
    "- `assay`\n",
    "- `donor_id`\n",
    "- `biosample`\n",
    "- `tissue_type`"
   ]
  },
  {
   "cell_type": "code",
   "execution_count": 1,
   "id": "7ff0cffe",
   "metadata": {},
   "outputs": [
    {
     "name": "stdout",
     "output_type": "stream",
     "text": [
      "\u001b[92m→\u001b[0m connected lamindb: laminlabs/hubmap\n",
      "\u001b[92m→\u001b[0m found notebook register-bulk-metadata.ipynb, making new version -- anticipating changes\n",
      "\u001b[92m→\u001b[0m created Transform('7vMsNv3hPGOg0003'), started new Run('wiaQ6S7G...') at 2025-05-21 13:22:14 UTC\n",
      "\u001b[92m→\u001b[0m notebook imports: bionty==1.3.2 lamindb==1.5.3 wetlab==1.2.0\n",
      "\u001b[94m•\u001b[0m recommendation: to identify the notebook across renames, pass the uid: ln.track(\"7vMsNv3hPGOg\")\n"
     ]
    }
   ],
   "source": [
    "import lamindb as ln\n",
    "import bionty as bt\n",
    "import wetlab as wl\n",
    "\n",
    "ln.track()"
   ]
  },
  {
   "cell_type": "code",
   "execution_count": 2,
   "id": "cff9ad89",
   "metadata": {},
   "outputs": [
    {
     "data": {
      "text/html": [
       "<div>\n",
       "<style scoped>\n",
       "    .dataframe tbody tr th:only-of-type {\n",
       "        vertical-align: middle;\n",
       "    }\n",
       "\n",
       "    .dataframe tbody tr th {\n",
       "        vertical-align: top;\n",
       "    }\n",
       "\n",
       "    .dataframe thead th {\n",
       "        text-align: right;\n",
       "    }\n",
       "</style>\n",
       "<table border=\"1\" class=\"dataframe\">\n",
       "  <thead>\n",
       "    <tr style=\"text-align: right;\">\n",
       "      <th></th>\n",
       "      <th>uuid</th>\n",
       "      <th>assay</th>\n",
       "      <th>rnaseq_assay_method</th>\n",
       "      <th>title</th>\n",
       "      <th>group_name</th>\n",
       "      <th>consortium</th>\n",
       "      <th>doi</th>\n",
       "      <th>publication_date</th>\n",
       "      <th>status</th>\n",
       "      <th>dataset_type</th>\n",
       "      <th>processing</th>\n",
       "      <th>organ</th>\n",
       "      <th>sample_category</th>\n",
       "      <th>analyte_class</th>\n",
       "      <th>bmi</th>\n",
       "      <th>age</th>\n",
       "      <th>ethnicity</th>\n",
       "      <th>sex</th>\n",
       "      <th>diseases</th>\n",
       "      <th>donor_id</th>\n",
       "      <th>sample_id</th>\n",
       "      <th>ancestor_id</th>\n",
       "      <th>expression_matrices_url</th>\n",
       "    </tr>\n",
       "  </thead>\n",
       "  <tbody>\n",
       "    <tr>\n",
       "      <th>0</th>\n",
       "      <td>2c77b1cdf33dbed3dbfb74e4b578300e</td>\n",
       "      <td>bulk RNA</td>\n",
       "      <td>NEBNext Ultra II RNA Library Prep Kit</td>\n",
       "      <td>RNAseq data from the large intestine of a 67-y...</td>\n",
       "      <td>Stanford TMC</td>\n",
       "      <td>HuBMAP</td>\n",
       "      <td>10.35079/HBM756.GJDX.884</td>\n",
       "      <td>2020-08-22</td>\n",
       "      <td>protected</td>\n",
       "      <td>RNAseq</td>\n",
       "      <td>raw</td>\n",
       "      <td>LI</td>\n",
       "      <td>block</td>\n",
       "      <td>RNA</td>\n",
       "      <td>30.2</td>\n",
       "      <td>67</td>\n",
       "      <td>White</td>\n",
       "      <td>Female</td>\n",
       "      <td>[Hypertension, Coronary Artery Disease, Cardia...</td>\n",
       "      <td>HBM279.WPZP.978</td>\n",
       "      <td>HBM488.XJKW.383</td>\n",
       "      <td>d0cb764459fd1d1c6f04fdce2e982831</td>\n",
       "      <td>https://assets.hubmapconsortium.org/9e7b040f23...</td>\n",
       "    </tr>\n",
       "    <tr>\n",
       "      <th>1</th>\n",
       "      <td>f84c8edc36a65f248c2649ebbe52ad35</td>\n",
       "      <td>bulk RNA</td>\n",
       "      <td>NEBNext Ultra II RNA Library Prep Kit</td>\n",
       "      <td>RNAseq data from the large intestine of a 67-y...</td>\n",
       "      <td>Stanford TMC</td>\n",
       "      <td>HuBMAP</td>\n",
       "      <td>10.35079/HBM454.ZWSD.895</td>\n",
       "      <td>2020-08-22</td>\n",
       "      <td>protected</td>\n",
       "      <td>RNAseq</td>\n",
       "      <td>raw</td>\n",
       "      <td>LI</td>\n",
       "      <td>block</td>\n",
       "      <td>RNA</td>\n",
       "      <td>30.2</td>\n",
       "      <td>67</td>\n",
       "      <td>White</td>\n",
       "      <td>Female</td>\n",
       "      <td>[Hypertension, Coronary Artery Disease, Cardia...</td>\n",
       "      <td>HBM279.WPZP.978</td>\n",
       "      <td>HBM875.RVTT.868</td>\n",
       "      <td>3d742332ef8ca26f34f7ee5b9da3381c</td>\n",
       "      <td>https://assets.hubmapconsortium.org/1c141b1558...</td>\n",
       "    </tr>\n",
       "    <tr>\n",
       "      <th>2</th>\n",
       "      <td>311837bf483627cc967e40092a251096</td>\n",
       "      <td>bulk RNA</td>\n",
       "      <td>NEBNext Ultra II RNA Library Prep Kit</td>\n",
       "      <td>RNAseq data from the small intestine of a 67-y...</td>\n",
       "      <td>Stanford TMC</td>\n",
       "      <td>HuBMAP</td>\n",
       "      <td>10.35079/HBM656.ZCCL.743</td>\n",
       "      <td>2020-08-22</td>\n",
       "      <td>protected</td>\n",
       "      <td>RNAseq</td>\n",
       "      <td>raw</td>\n",
       "      <td>SI</td>\n",
       "      <td>block</td>\n",
       "      <td>RNA</td>\n",
       "      <td>30.2</td>\n",
       "      <td>67</td>\n",
       "      <td>White</td>\n",
       "      <td>Female</td>\n",
       "      <td>[Hypertension, Coronary Artery Disease, Cardia...</td>\n",
       "      <td>HBM279.WPZP.978</td>\n",
       "      <td>HBM229.NKWB.488</td>\n",
       "      <td>35e16f13caab262f446836f63cf4ad42</td>\n",
       "      <td>https://assets.hubmapconsortium.org/a8a603e704...</td>\n",
       "    </tr>\n",
       "    <tr>\n",
       "      <th>3</th>\n",
       "      <td>c67e024e8fcc25166aac2e2e883208df</td>\n",
       "      <td>bulk-RNA</td>\n",
       "      <td>KAPA RNA HyperPrep Kit with RiboErase</td>\n",
       "      <td>RNAseq data from the placenta of a 34-year-old...</td>\n",
       "      <td>TMC - University of California San Diego focus...</td>\n",
       "      <td>HuBMAP</td>\n",
       "      <td>10.35079/HBM669.BFZR.956</td>\n",
       "      <td>2025-02-26</td>\n",
       "      <td>protected</td>\n",
       "      <td>RNAseq</td>\n",
       "      <td>raw</td>\n",
       "      <td>PL</td>\n",
       "      <td>block</td>\n",
       "      <td>RNA</td>\n",
       "      <td></td>\n",
       "      <td></td>\n",
       "      <td></td>\n",
       "      <td></td>\n",
       "      <td>[normal]</td>\n",
       "      <td>HBM683.TPQL.293</td>\n",
       "      <td>HBM265.XLDG.695</td>\n",
       "      <td>0236e72a6ce04abc0008ac2a40cf1b35</td>\n",
       "      <td>https://assets.hubmapconsortium.org/7d7ba54632...</td>\n",
       "    </tr>\n",
       "    <tr>\n",
       "      <th>4</th>\n",
       "      <td>73507265c43d750e6ec5e48d1e2e0b92</td>\n",
       "      <td>bulk-RNA</td>\n",
       "      <td>KAPA RNA HyperPrep Kit with RiboErase</td>\n",
       "      <td>RNAseq data from the placenta of a 34-year-old...</td>\n",
       "      <td>TMC - University of California San Diego focus...</td>\n",
       "      <td>HuBMAP</td>\n",
       "      <td>10.35079/HBM765.RPVQ.584</td>\n",
       "      <td>2025-02-26</td>\n",
       "      <td>protected</td>\n",
       "      <td>RNAseq</td>\n",
       "      <td>raw</td>\n",
       "      <td>PL</td>\n",
       "      <td>block</td>\n",
       "      <td>RNA</td>\n",
       "      <td></td>\n",
       "      <td></td>\n",
       "      <td></td>\n",
       "      <td></td>\n",
       "      <td>[normal]</td>\n",
       "      <td>HBM864.XRGJ.897</td>\n",
       "      <td>HBM464.GLHP.566</td>\n",
       "      <td>c97c86db1d6c7f62445c06d70289c87a</td>\n",
       "      <td>https://assets.hubmapconsortium.org/fc80dbe141...</td>\n",
       "    </tr>\n",
       "  </tbody>\n",
       "</table>\n",
       "</div>"
      ],
      "text/plain": [
       "                               uuid     assay  \\\n",
       "0  2c77b1cdf33dbed3dbfb74e4b578300e  bulk RNA   \n",
       "1  f84c8edc36a65f248c2649ebbe52ad35  bulk RNA   \n",
       "2  311837bf483627cc967e40092a251096  bulk RNA   \n",
       "3  c67e024e8fcc25166aac2e2e883208df  bulk-RNA   \n",
       "4  73507265c43d750e6ec5e48d1e2e0b92  bulk-RNA   \n",
       "\n",
       "                     rnaseq_assay_method  \\\n",
       "0  NEBNext Ultra II RNA Library Prep Kit   \n",
       "1  NEBNext Ultra II RNA Library Prep Kit   \n",
       "2  NEBNext Ultra II RNA Library Prep Kit   \n",
       "3  KAPA RNA HyperPrep Kit with RiboErase   \n",
       "4  KAPA RNA HyperPrep Kit with RiboErase   \n",
       "\n",
       "                                               title  \\\n",
       "0  RNAseq data from the large intestine of a 67-y...   \n",
       "1  RNAseq data from the large intestine of a 67-y...   \n",
       "2  RNAseq data from the small intestine of a 67-y...   \n",
       "3  RNAseq data from the placenta of a 34-year-old...   \n",
       "4  RNAseq data from the placenta of a 34-year-old...   \n",
       "\n",
       "                                          group_name consortium  \\\n",
       "0                                       Stanford TMC     HuBMAP   \n",
       "1                                       Stanford TMC     HuBMAP   \n",
       "2                                       Stanford TMC     HuBMAP   \n",
       "3  TMC - University of California San Diego focus...     HuBMAP   \n",
       "4  TMC - University of California San Diego focus...     HuBMAP   \n",
       "\n",
       "                        doi publication_date     status dataset_type  \\\n",
       "0  10.35079/HBM756.GJDX.884       2020-08-22  protected       RNAseq   \n",
       "1  10.35079/HBM454.ZWSD.895       2020-08-22  protected       RNAseq   \n",
       "2  10.35079/HBM656.ZCCL.743       2020-08-22  protected       RNAseq   \n",
       "3  10.35079/HBM669.BFZR.956       2025-02-26  protected       RNAseq   \n",
       "4  10.35079/HBM765.RPVQ.584       2025-02-26  protected       RNAseq   \n",
       "\n",
       "  processing organ sample_category analyte_class   bmi age ethnicity     sex  \\\n",
       "0        raw    LI           block           RNA  30.2  67     White  Female   \n",
       "1        raw    LI           block           RNA  30.2  67     White  Female   \n",
       "2        raw    SI           block           RNA  30.2  67     White  Female   \n",
       "3        raw    PL           block           RNA                               \n",
       "4        raw    PL           block           RNA                               \n",
       "\n",
       "                                            diseases         donor_id  \\\n",
       "0  [Hypertension, Coronary Artery Disease, Cardia...  HBM279.WPZP.978   \n",
       "1  [Hypertension, Coronary Artery Disease, Cardia...  HBM279.WPZP.978   \n",
       "2  [Hypertension, Coronary Artery Disease, Cardia...  HBM279.WPZP.978   \n",
       "3                                           [normal]  HBM683.TPQL.293   \n",
       "4                                           [normal]  HBM864.XRGJ.897   \n",
       "\n",
       "         sample_id                       ancestor_id  \\\n",
       "0  HBM488.XJKW.383  d0cb764459fd1d1c6f04fdce2e982831   \n",
       "1  HBM875.RVTT.868  3d742332ef8ca26f34f7ee5b9da3381c   \n",
       "2  HBM229.NKWB.488  35e16f13caab262f446836f63cf4ad42   \n",
       "3  HBM265.XLDG.695  0236e72a6ce04abc0008ac2a40cf1b35   \n",
       "4  HBM464.GLHP.566  c97c86db1d6c7f62445c06d70289c87a   \n",
       "\n",
       "                             expression_matrices_url  \n",
       "0  https://assets.hubmapconsortium.org/9e7b040f23...  \n",
       "1  https://assets.hubmapconsortium.org/1c141b1558...  \n",
       "2  https://assets.hubmapconsortium.org/a8a603e704...  \n",
       "3  https://assets.hubmapconsortium.org/7d7ba54632...  \n",
       "4  https://assets.hubmapconsortium.org/fc80dbe141...  "
      ]
     },
     "execution_count": 2,
     "metadata": {},
     "output_type": "execute_result"
    }
   ],
   "source": [
    "meta_df = ln.Artifact.get(\"j5RQEPmtKuTeo0lO0002\").load()\n",
    "meta_df.head()"
   ]
  },
  {
   "cell_type": "markdown",
   "id": "c9230b0a",
   "metadata": {},
   "source": [
    "## `Reference`"
   ]
  },
  {
   "cell_type": "code",
   "execution_count": 3,
   "id": "5ba36f8b",
   "metadata": {},
   "outputs": [
    {
     "name": "stdout",
     "output_type": "stream",
     "text": [
      "Updating reference name from 'RNAseq data from the large intestine of a 67-year-old white female - 10.35079/HBM756.GJDX.884' to 'RNAseq data from the large intestine of a 67-year-old white female' for DOI 10.35079/HBM756.GJDX.884\n",
      "Updating reference name from 'RNAseq data from the large intestine of a 67-year-old white female - 10.35079/HBM454.ZWSD.895' to 'RNAseq data from the large intestine of a 67-year-old white female' for DOI 10.35079/HBM454.ZWSD.895\n",
      "Updating reference name from 'RNAseq data from the small intestine of a 67-year-old white female - 10.35079/HBM656.ZCCL.743' to 'RNAseq data from the small intestine of a 67-year-old white female' for DOI 10.35079/HBM656.ZCCL.743\n",
      "Updating reference name from 'RNAseq data from the large intestine of a 67-year-old white female - 10.35079/HBM954.PCBD.364' to 'RNAseq data from the large intestine of a 67-year-old white female' for DOI 10.35079/HBM954.PCBD.364\n",
      "Updating reference name from 'RNAseq data from the small intestine of a 67-year-old white female - 10.35079/HBM672.XGNL.299' to 'RNAseq data from the small intestine of a 67-year-old white female' for DOI 10.35079/HBM672.XGNL.299\n",
      "Updating reference name from 'RNAseq data from the large intestine of a 67-year-old white female - 10.35079/HBM946.HHKL.578' to 'RNAseq data from the large intestine of a 67-year-old white female' for DOI 10.35079/HBM946.HHKL.578\n",
      "Updating reference name from 'RNAseq data from the small intestine of a 67-year-old white female - 10.35079/HBM634.HGLT.739' to 'RNAseq data from the small intestine of a 67-year-old white female' for DOI 10.35079/HBM634.HGLT.739\n",
      "Updating reference name from 'RNAseq data from the small intestine of a 67-year-old white female - 10.35079/HBM855.VBLX.337' to 'RNAseq data from the small intestine of a 67-year-old white female' for DOI 10.35079/HBM855.VBLX.337\n"
     ]
    }
   ],
   "source": [
    "existing_refs_by_doi = {ref.doi: ref for ref in ln.Reference.filter() if ref.doi}\n",
    "existing_refs_by_name = {ref.name: ref for ref in ln.Reference.filter() if ref.name}\n",
    "\n",
    "reference_names = ln.Reference.inspect(meta_df.title, mute=True).non_validated\n",
    "\n",
    "\n",
    "def make_unique_name(title: str, doi: str) -> str:\n",
    "    return f\"{title} - {doi}\"\n",
    "\n",
    "\n",
    "try:\n",
    "    ln.settings.creation.search_names = False\n",
    "    references = []\n",
    "\n",
    "    for _, row in (\n",
    "        meta_df[[\"title\", \"doi\", \"publication_date\"]].drop_duplicates().iterrows()\n",
    "    ):\n",
    "        raw_title = row.title\n",
    "        doi = row.doi\n",
    "        publication_date = row.publication_date\n",
    "\n",
    "        if doi in existing_refs_by_doi:\n",
    "            ref = existing_refs_by_doi[doi]\n",
    "            if ref.name != raw_title:\n",
    "                print(\n",
    "                    f\"Updating reference name from '{ref.name}' to '{raw_title}' for DOI {doi}\"\n",
    "                )\n",
    "                ref.name = raw_title\n",
    "                ref.save()\n",
    "\n",
    "        elif raw_title in existing_refs_by_name:\n",
    "            # title already exists, but DOI is different: resolve conflict\n",
    "            ref = existing_refs_by_name[raw_title]\n",
    "            if ref.doi != doi:\n",
    "                new_title = make_unique_name(raw_title, doi)\n",
    "                print(\n",
    "                    f\"Conflict: '{raw_title}' already exists with DOI {ref.doi}. Creating new reference with title '{new_title}' for DOI {doi}.\"\n",
    "                )\n",
    "                references.append(\n",
    "                    ln.Reference(name=new_title, doi=doi, date=publication_date)\n",
    "                )\n",
    "\n",
    "        elif raw_title in reference_names:\n",
    "            references.append(\n",
    "                ln.Reference(name=raw_title, doi=doi, date=publication_date)\n",
    "            )\n",
    "\n",
    "finally:\n",
    "    ln.settings.creation.search_names = True"
   ]
  },
  {
   "cell_type": "code",
   "execution_count": 4,
   "id": "44f3d0c9",
   "metadata": {},
   "outputs": [
    {
     "data": {
      "text/plain": [
       "[]"
      ]
     },
     "execution_count": 4,
     "metadata": {},
     "output_type": "execute_result"
    }
   ],
   "source": [
    "references"
   ]
  },
  {
   "cell_type": "code",
   "execution_count": 5,
   "id": "ddec43a1",
   "metadata": {},
   "outputs": [],
   "source": [
    "ln.save(references)"
   ]
  },
  {
   "cell_type": "code",
   "execution_count": 6,
   "id": "4459d084",
   "metadata": {},
   "outputs": [
    {
     "data": {
      "text/plain": [
       "0"
      ]
     },
     "execution_count": 6,
     "metadata": {},
     "output_type": "execute_result"
    }
   ],
   "source": [
    "ln.Reference.filter(run_id=ln.context.run.id).count()"
   ]
  },
  {
   "cell_type": "markdown",
   "id": "b908930b",
   "metadata": {},
   "source": [
    "## Tissue"
   ]
  },
  {
   "cell_type": "code",
   "execution_count": 7,
   "id": "16ad1e59",
   "metadata": {},
   "outputs": [
    {
     "data": {
      "text/plain": [
       "array(['LI', 'SI', 'PL'], dtype=object)"
      ]
     },
     "execution_count": 7,
     "metadata": {},
     "output_type": "execute_result"
    }
   ],
   "source": [
    "meta_df.organ.unique()"
   ]
  },
  {
   "cell_type": "code",
   "execution_count": 8,
   "id": "a753af96",
   "metadata": {},
   "outputs": [],
   "source": [
    "mapper = {\n",
    "    \"LY\": \"lymph node\",\n",
    "    \"TH\": \"thymus\",\n",
    "    \"LI\": \"large intestine\",\n",
    "    \"SI\": \"small intestine\",\n",
    "    \"SP\": \"spleen\",\n",
    "    \"HT\": \"heart\",\n",
    "    \"LK\": \"kidney (left)\",\n",
    "    \"RK\": \"kidney (right)\",\n",
    "    \"LL\": \"lung (left)\",\n",
    "    \"RL\": \"lung (right)\",\n",
    "    \"LV\": \"liver\",\n",
    "    \"LN\": \"knee (left)\",\n",
    "    \"RN\": \"knee (right)\",\n",
    "    \"BL\": \"bladder organ\",\n",
    "    \"PL\": \"placenta\",\n",
    "}\n",
    "\n",
    "meta_df[\"tissue\"] = meta_df.organ.map(mapper)"
   ]
  },
  {
   "cell_type": "code",
   "execution_count": 9,
   "id": "cc88d97e",
   "metadata": {},
   "outputs": [],
   "source": [
    "try:\n",
    "    ln.settings.creation.search_names = False\n",
    "\n",
    "    for name in [\n",
    "        \"kidney (left)\",\n",
    "        \"kidney (right)\",\n",
    "        \"lung (right)\",\n",
    "        \"knee (right)\",\n",
    "        \"knee (left)\",\n",
    "    ]:\n",
    "        tissue = bt.Tissue.filter(name=name).one_or_none()\n",
    "        if tissue is None:\n",
    "            tissue = bt.Tissue(name=name).save()\n",
    "            parent = bt.Tissue.get(name=name.split(\" \")[0])\n",
    "            tissue.parents.add(parent)\n",
    "finally:\n",
    "    ln.settings.creation.search_names = True"
   ]
  },
  {
   "cell_type": "code",
   "execution_count": 10,
   "id": "9fa9c2df",
   "metadata": {},
   "outputs": [
    {
     "data": {
      "text/plain": [
       "[]"
      ]
     },
     "execution_count": 10,
     "metadata": {},
     "output_type": "execute_result"
    }
   ],
   "source": [
    "bt.Tissue.inspect(meta_df.tissue).non_validated"
   ]
  },
  {
   "cell_type": "code",
   "execution_count": 11,
   "id": "62768ab0",
   "metadata": {},
   "outputs": [
    {
     "data": {
      "text/plain": [
       "0"
      ]
     },
     "execution_count": 11,
     "metadata": {},
     "output_type": "execute_result"
    }
   ],
   "source": [
    "bt.Tissue.filter(run_id=ln.context.run.id).count()"
   ]
  },
  {
   "cell_type": "markdown",
   "id": "d2649347",
   "metadata": {},
   "source": [
    "## Ethnicity"
   ]
  },
  {
   "cell_type": "code",
   "execution_count": 12,
   "id": "c66a005d",
   "metadata": {},
   "outputs": [
    {
     "data": {
      "text/plain": [
       "array(['White', ''], dtype=object)"
      ]
     },
     "execution_count": 12,
     "metadata": {},
     "output_type": "execute_result"
    }
   ],
   "source": [
    "meta_df.ethnicity.unique()"
   ]
  },
  {
   "cell_type": "code",
   "execution_count": 13,
   "id": "790dc44c",
   "metadata": {},
   "outputs": [],
   "source": [
    "meta_df[\"ethnicity\"] = meta_df.ethnicity.map(\n",
    "    {\n",
    "        \"\": \"na\",\n",
    "        \"Black or African American\": \"African American\",\n",
    "        \"White\": \"European\",\n",
    "        \"Unknown\": \"unknown\",\n",
    "    }\n",
    ")"
   ]
  },
  {
   "cell_type": "code",
   "execution_count": 14,
   "id": "af957246",
   "metadata": {},
   "outputs": [
    {
     "data": {
      "text/plain": [
       "[]"
      ]
     },
     "execution_count": 14,
     "metadata": {},
     "output_type": "execute_result"
    }
   ],
   "source": [
    "bt.Ethnicity.inspect(meta_df.ethnicity).non_validated"
   ]
  },
  {
   "cell_type": "markdown",
   "id": "25f74071",
   "metadata": {},
   "source": [
    "## Sex"
   ]
  },
  {
   "cell_type": "code",
   "execution_count": 15,
   "id": "0ad06bce",
   "metadata": {},
   "outputs": [
    {
     "data": {
      "text/plain": [
       "array(['Female', ''], dtype=object)"
      ]
     },
     "execution_count": 15,
     "metadata": {},
     "output_type": "execute_result"
    }
   ],
   "source": [
    "meta_df[\"sex\"].unique()"
   ]
  },
  {
   "cell_type": "code",
   "execution_count": 16,
   "id": "3b4e5173",
   "metadata": {},
   "outputs": [],
   "source": [
    "meta_df[\"sex\"] = meta_df.sex.str.lower().replace([\"\"], \"unknown\")"
   ]
  },
  {
   "cell_type": "code",
   "execution_count": 17,
   "id": "246a83d8",
   "metadata": {},
   "outputs": [
    {
     "data": {
      "text/plain": [
       "[]"
      ]
     },
     "execution_count": 17,
     "metadata": {},
     "output_type": "execute_result"
    }
   ],
   "source": [
    "bt.Phenotype.inspect(meta_df.sex).non_validated"
   ]
  },
  {
   "cell_type": "markdown",
   "id": "a5aa1de7",
   "metadata": {},
   "source": [
    "## Disease"
   ]
  },
  {
   "cell_type": "code",
   "execution_count": 18,
   "id": "a7e8f2f2",
   "metadata": {},
   "outputs": [
    {
     "data": {
      "text/plain": [
       "['normal', 'Coronary Artery Disease', 'Hypertension', 'Cardiac Arrest']"
      ]
     },
     "execution_count": 18,
     "metadata": {},
     "output_type": "execute_result"
    }
   ],
   "source": [
    "diseases = list(set(meta_df.diseases.apply(list).sum()))\n",
    "diseases"
   ]
  },
  {
   "cell_type": "code",
   "execution_count": 19,
   "id": "d6193def",
   "metadata": {},
   "outputs": [],
   "source": [
    "synonyms_mapper = bt.Disease.standardize(diseases, return_mapper=True)"
   ]
  },
  {
   "cell_type": "code",
   "execution_count": 20,
   "id": "d0ba122d",
   "metadata": {},
   "outputs": [
    {
     "name": "stdout",
     "output_type": "stream",
     "text": [
      "\u001b[92m→\u001b[0m returning existing Disease record with same name: 'heart failure with reduced ejection fraction'\n"
     ]
    }
   ],
   "source": [
    "# https://www.ebi.ac.uk/ols4/ontologies/snomed/classes/http%253A%252F%252Fsnomed.info%252Fid%252F703272007\n",
    "# note: we use lower case for names to be consistent with mondo\n",
    "bt.Disease(\n",
    "    name=\"heart failure with reduced ejection fraction\", ontology_id=\"SNOMED:703272007\"\n",
    ").save()\n",
    "# the rest we map to mondo\n",
    "synonyms_mapper.update(\n",
    "    {\n",
    "        \"Hypertension\": \"hypertensive disorder\",\n",
    "        \"Hyperlipidimia\": \"hyperlipidemia\",\n",
    "        \"Autistic disorder\": \"autism\",\n",
    "    }\n",
    ")"
   ]
  },
  {
   "cell_type": "code",
   "execution_count": 21,
   "id": "4e5f57e9",
   "metadata": {},
   "outputs": [],
   "source": [
    "meta_df[\"diseases\"] = meta_df.diseases.apply(\n",
    "    lambda x: [synonyms_mapper.get(i, i) for i in x]\n",
    ")"
   ]
  },
  {
   "cell_type": "code",
   "execution_count": 22,
   "id": "e5a0c980",
   "metadata": {},
   "outputs": [
    {
     "data": {
      "text/plain": [
       "[]"
      ]
     },
     "execution_count": 22,
     "metadata": {},
     "output_type": "execute_result"
    }
   ],
   "source": [
    "bt.Disease.inspect(meta_df.diseases).non_validated"
   ]
  },
  {
   "cell_type": "markdown",
   "id": "b018feb8",
   "metadata": {},
   "source": [
    "## `suspension_type`"
   ]
  },
  {
   "cell_type": "code",
   "execution_count": 23,
   "id": "51245a9d",
   "metadata": {},
   "outputs": [
    {
     "data": {
      "text/plain": [
       "array(['bulk RNA', 'bulk-RNA'], dtype=object)"
      ]
     },
     "execution_count": 23,
     "metadata": {},
     "output_type": "execute_result"
    }
   ],
   "source": [
    "meta_df.assay.unique()"
   ]
  },
  {
   "cell_type": "code",
   "execution_count": 24,
   "id": "565bdd48",
   "metadata": {},
   "outputs": [],
   "source": [
    "suspension_type = ln.ULabel(name=\"bulk\").save()"
   ]
  },
  {
   "cell_type": "code",
   "execution_count": 25,
   "id": "3d53ef7f",
   "metadata": {},
   "outputs": [],
   "source": [
    "meta_df[\"suspension_type\"] = meta_df.assay.map(\n",
    "    {\n",
    "        \"bulk RNA\": \"bulk\",\n",
    "        \"bulk-RNA\": \"bulk\",\n",
    "    }\n",
    ")"
   ]
  },
  {
   "cell_type": "code",
   "execution_count": 26,
   "id": "31ae0a56",
   "metadata": {},
   "outputs": [
    {
     "data": {
      "text/plain": [
       "[]"
      ]
     },
     "execution_count": 26,
     "metadata": {},
     "output_type": "execute_result"
    }
   ],
   "source": [
    "ln.ULabel.inspect(meta_df[\"suspension_type\"]).non_validated"
   ]
  },
  {
   "cell_type": "markdown",
   "id": "4e0e6393",
   "metadata": {},
   "source": [
    "## `assay`"
   ]
  },
  {
   "cell_type": "code",
   "execution_count": 27,
   "id": "6db3076a",
   "metadata": {},
   "outputs": [
    {
     "data": {
      "text/html": [
       "<div>\n",
       "<style scoped>\n",
       "    .dataframe tbody tr th:only-of-type {\n",
       "        vertical-align: middle;\n",
       "    }\n",
       "\n",
       "    .dataframe tbody tr th {\n",
       "        vertical-align: top;\n",
       "    }\n",
       "\n",
       "    .dataframe thead th {\n",
       "        text-align: right;\n",
       "    }\n",
       "</style>\n",
       "<table border=\"1\" class=\"dataframe\">\n",
       "  <thead>\n",
       "    <tr style=\"text-align: right;\">\n",
       "      <th></th>\n",
       "      <th>assay</th>\n",
       "      <th>rnaseq_assay_method</th>\n",
       "    </tr>\n",
       "  </thead>\n",
       "  <tbody>\n",
       "    <tr>\n",
       "      <th>0</th>\n",
       "      <td>bulk RNA</td>\n",
       "      <td>NEBNext Ultra II RNA Library Prep Kit</td>\n",
       "    </tr>\n",
       "    <tr>\n",
       "      <th>3</th>\n",
       "      <td>bulk-RNA</td>\n",
       "      <td>KAPA RNA HyperPrep Kit with RiboErase</td>\n",
       "    </tr>\n",
       "  </tbody>\n",
       "</table>\n",
       "</div>"
      ],
      "text/plain": [
       "      assay                    rnaseq_assay_method\n",
       "0  bulk RNA  NEBNext Ultra II RNA Library Prep Kit\n",
       "3  bulk-RNA  KAPA RNA HyperPrep Kit with RiboErase"
      ]
     },
     "execution_count": 27,
     "metadata": {},
     "output_type": "execute_result"
    }
   ],
   "source": [
    "meta_df[[\"assay\", \"rnaseq_assay_method\"]].drop_duplicates()"
   ]
  },
  {
   "cell_type": "code",
   "execution_count": 28,
   "id": "96ab15de",
   "metadata": {},
   "outputs": [],
   "source": [
    "mapper = {\n",
    "    \"NEBNext Ultra II RNA Library Prep Kit\": \"NEBNext Ultra II\",\n",
    "    \"KAPA RNA HyperPrep Kit with RiboErase\": \"KAPA RNA HyperPrep + RiboErase\",\n",
    "}"
   ]
  },
  {
   "cell_type": "code",
   "execution_count": 29,
   "id": "36f79302",
   "metadata": {},
   "outputs": [],
   "source": [
    "meta_df[\"assay\"] = meta_df.rnaseq_assay_method.replace(mapper)"
   ]
  },
  {
   "cell_type": "code",
   "execution_count": 30,
   "id": "8482d49c",
   "metadata": {},
   "outputs": [
    {
     "data": {
      "text/plain": [
       "[]"
      ]
     },
     "execution_count": 30,
     "metadata": {},
     "output_type": "execute_result"
    }
   ],
   "source": [
    "bt.ExperimentalFactor.inspect(meta_df.assay).non_validated"
   ]
  },
  {
   "cell_type": "markdown",
   "id": "d1c21aaf",
   "metadata": {},
   "source": [
    "## `donor_id`"
   ]
  },
  {
   "cell_type": "code",
   "execution_count": 31,
   "id": "bd2bd30f",
   "metadata": {},
   "outputs": [],
   "source": [
    "ethnicities = bt.Ethnicity.lookup().dict()\n",
    "\n",
    "try:\n",
    "    ln.settings.creation.search_names = False\n",
    "    donors = []\n",
    "    for _, row in (\n",
    "        meta_df[[\"donor_id\", \"age\", \"bmi\", \"ethnicity\"]].drop_duplicates().iterrows()\n",
    "    ):\n",
    "        donor = wl.Donor.filter(name=row.donor_id).one_or_none()\n",
    "        if donor is None:\n",
    "            ethnicity = ethnicities.get(row.ethnicity)\n",
    "            if row.age == \"\":\n",
    "                age = None\n",
    "            else:\n",
    "                age = int(float(row.age))\n",
    "            bmi = None if row.bmi == \"\" else row.bmi\n",
    "            donor = wl.Donor(\n",
    "                name=row.donor_id,\n",
    "                batch=\"unknown\",\n",
    "                age=age,\n",
    "                bmi=bmi,\n",
    "                ethnicity=ethnicity,\n",
    "            )\n",
    "            donors.append(donor)\n",
    "finally:\n",
    "    ln.settings.creation.search_names = True"
   ]
  },
  {
   "cell_type": "code",
   "execution_count": 32,
   "id": "39e5b6cb",
   "metadata": {},
   "outputs": [],
   "source": [
    "ln.save(donors)"
   ]
  },
  {
   "cell_type": "markdown",
   "id": "2670721f",
   "metadata": {},
   "source": [
    "## `biosample`"
   ]
  },
  {
   "cell_type": "code",
   "execution_count": 33,
   "id": "1c07c489",
   "metadata": {},
   "outputs": [],
   "source": [
    "try:\n",
    "    ln.settings.creation.search_names = False\n",
    "    samples = []\n",
    "    for _, row in meta_df[[\"sample_id\"]].drop_duplicates().iterrows():\n",
    "        sample = wl.Biosample.filter(name=row.sample_id).one_or_none()\n",
    "        if sample is None:\n",
    "            sample = wl.Biosample(name=row.sample_id)\n",
    "            samples.append(sample)\n",
    "finally:\n",
    "    ln.settings.creation.search_names = True"
   ]
  },
  {
   "cell_type": "code",
   "execution_count": 34,
   "id": "cf6624cd",
   "metadata": {},
   "outputs": [],
   "source": [
    "ln.save(samples)"
   ]
  },
  {
   "cell_type": "markdown",
   "id": "8b3c3851",
   "metadata": {},
   "source": [
    "## `tissue_type`"
   ]
  },
  {
   "cell_type": "code",
   "execution_count": 35,
   "id": "168b12ac",
   "metadata": {},
   "outputs": [],
   "source": [
    "meta_df[\"tissue_type\"] = \"tissue\""
   ]
  },
  {
   "cell_type": "markdown",
   "id": "9f4f3c97",
   "metadata": {},
   "source": [
    "## `expression types`"
   ]
  },
  {
   "cell_type": "code",
   "execution_count": 36,
   "id": "b090b0f7",
   "metadata": {},
   "outputs": [],
   "source": [
    "expr_bulk_ul = ln.ULabel(name=\"expr_bulk\").save()"
   ]
  },
  {
   "cell_type": "markdown",
   "id": "13b9fcaf",
   "metadata": {},
   "source": [
    "## Save the curated metadata table"
   ]
  },
  {
   "cell_type": "code",
   "execution_count": 37,
   "id": "02182c43",
   "metadata": {},
   "outputs": [
    {
     "name": "stdout",
     "output_type": "stream",
     "text": [
      "\u001b[92m→\u001b[0m creating new artifact version for key='hubmap_metadata/meta_bulkrna_curated.parquet' (storage: 's3://lamin-us-west-2/sznqFqn7xUoI')\n",
      "... uploading ajd285FK90Z0ZBN10003.parquet: 100.0%\n",
      "\u001b[93m!\u001b[0m replacing the existing cache path /Users/altananamsaraeva/Library/Caches/lamindb/lamin-us-west-2/sznqFqn7xUoI/hubmap_metadata/meta_bulkrna_curated.parquet\n"
     ]
    },
    {
     "data": {
      "text/plain": [
       "Artifact(uid='ajd285FK90Z0ZBN10003', is_latest=True, key='hubmap_metadata/meta_bulkrna_curated.parquet', suffix='.parquet', kind='dataset', otype='DataFrame', size=28019, hash='7xdDz4GOFFGPP7uHFzqfpg', n_observations=80, space_id=1, storage_id=1, run_id=37, created_by_id=5, created_at=2025-05-21 13:35:18 UTC)"
      ]
     },
     "execution_count": 37,
     "metadata": {},
     "output_type": "execute_result"
    }
   ],
   "source": [
    "artifact = ln.Artifact.from_df(\n",
    "    meta_df, key=\"hubmap_metadata/meta_bulkrna_curated.parquet\"\n",
    ").save()\n",
    "artifact"
   ]
  },
  {
   "cell_type": "code",
   "execution_count": 38,
   "id": "128bb655",
   "metadata": {},
   "outputs": [
    {
     "name": "stdout",
     "output_type": "stream",
     "text": [
      "\u001b[94m•\u001b[0m please hit CMD + s to save the notebook in your editor . \u001b[92m✓\u001b[0m\n",
      "\u001b[92m→\u001b[0m finished Run('wiaQ6S7G') after 13m at 2025-05-21 13:35:25 UTC\n",
      "\u001b[92m→\u001b[0m go to: https://lamin.ai/laminlabs/hubmap/transform/7vMsNv3hPGOg0003\n",
      "\u001b[92m→\u001b[0m to update your notebook from the CLI, run: lamin save /Users/altananamsaraeva/Desktop/Lamin/hubmap-registration/bulk/register-bulk-metadata.ipynb\n"
     ]
    }
   ],
   "source": [
    "ln.finish()"
   ]
  }
 ],
 "metadata": {
  "jupytext": {
   "cell_metadata_filter": "-all",
   "main_language": "python",
   "notebook_metadata_filter": "-all"
  },
  "kernelspec": {
   "display_name": "lamin_new",
   "language": "python",
   "name": "lamin_new"
  },
  "language_info": {
   "codemirror_mode": {
    "name": "ipython",
    "version": 3
   },
   "file_extension": ".py",
   "mimetype": "text/x-python",
   "name": "python",
   "nbconvert_exporter": "python",
   "pygments_lexer": "ipython3",
   "version": "3.12.2"
  }
 },
 "nbformat": 4,
 "nbformat_minor": 5
}
