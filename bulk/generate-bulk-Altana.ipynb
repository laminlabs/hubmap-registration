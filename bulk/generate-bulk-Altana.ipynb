{
 "cells": [
  {
   "cell_type": "markdown",
   "metadata": {},
   "source": [
    "# Generate bulk RNA metadata table"
   ]
  },
  {
   "cell_type": "code",
   "execution_count": null,
   "metadata": {},
   "outputs": [],
   "source": [
    "import os\n",
    "import sys\n",
    "\n",
    "sys.path.append(os.path.abspath(\"../\"))\n",
    "\n",
    "import pandas as pd\n",
    "import lamindb as ln\n",
    "\n",
    "from query import create_hubmap_metadata_df, BulkseqDataset\n",
    "\n",
    "assert ln.setup.settings.instance.slug == \"laminlabs/hubmap\""
   ]
  },
  {
   "cell_type": "code",
   "execution_count": null,
   "metadata": {},
   "outputs": [],
   "source": [
    "ln.track(\"0R8HzkUaLFvQ0000\")"
   ]
  },
  {
   "cell_type": "code",
   "execution_count": null,
   "metadata": {},
   "outputs": [],
   "source": [
    "df = pd.read_csv(\n",
    "    ln.Artifact.using(\"laminlabs/hubmap\").get(\"9G4UaeVKSY0zy7SX0001\").cache(), sep=\"\\t\"\n",
    ")\n",
    "\n",
    "# Include all assays here for which we want to get metadata information\n",
    "bulk_assays = [\n",
    "    \"bulk RNA\",\n",
    "    \"bulk-RNA\",\n",
    "]"
   ]
  },
  {
   "cell_type": "code",
   "execution_count": null,
   "metadata": {},
   "outputs": [],
   "source": [
    "bulk_metadata_df = create_hubmap_metadata_df(\n",
    "    df,\n",
    "    file_types=[\n",
    "        \"expression_matrices.h5\",\n",
    "    ],\n",
    "    dataset_class=BulkseqDataset,\n",
    "    assay_filter=bulk_assays,\n",
    ")\n",
    "bulk_metadata_df"
   ]
  },
  {
   "cell_type": "code",
   "execution_count": null,
   "metadata": {},
   "outputs": [],
   "source": [
    "bulk_af = ln.Artifact.from_df(\n",
    "    bulk_metadata_df,\n",
    "    key=\"hubmap_metadata/meta_bulkrna_original.parquet\",\n",
    "    description=\"Bulk RNA metadata information to use for ingestion.\",\n",
    ").save()"
   ]
  },
  {
   "cell_type": "code",
   "execution_count": null,
   "metadata": {},
   "outputs": [],
   "source": [
    "ln.finish()"
   ]
  }
 ],
 "metadata": {
  "kernelspec": {
   "display_name": "lamin",
   "language": "python",
   "name": "lamin"
  },
  "language_info": {
   "codemirror_mode": {
    "name": "ipython",
    "version": 3
   },
   "file_extension": ".py",
   "mimetype": "text/x-python",
   "name": "python",
   "nbconvert_exporter": "python",
   "pygments_lexer": "ipython3",
   "version": "3.12.9"
  }
 },
 "nbformat": 4,
 "nbformat_minor": 2
}
