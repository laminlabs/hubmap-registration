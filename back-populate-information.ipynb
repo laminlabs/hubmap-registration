{
 "cells": [
  {
   "cell_type": "markdown",
   "metadata": {},
   "source": [
    "# Back populate information"
   ]
  },
  {
   "cell_type": "code",
   "execution_count": 1,
   "metadata": {},
   "outputs": [
    {
     "name": "stdout",
     "output_type": "stream",
     "text": [
      "\u001b[92m→\u001b[0m connected lamindb: laminlabs/hubmap\n",
      "\u001b[92m→\u001b[0m there already is a notebook with `key` 'back_populate_information.ipynb', creating new version 'e3g1FX1ScMqe0001'\n",
      "\u001b[92m→\u001b[0m created Transform('e3g1FX1ScMqe0001'), started new Run('fPegtXNt...') at 2025-01-31 16:35:01 UTC\n",
      "\u001b[92m→\u001b[0m notebook imports: bionty==1.0.0 lamindb==1.0.5\n"
     ]
    }
   ],
   "source": [
    "import lamindb as ln\n",
    "import bionty as bt\n",
    "\n",
    "assert ln.setup.settings.instance.slug == \"laminlabs/hubmap\"\n",
    "\n",
    "ln.track(\"e3g1FX1ScMqe0001\")"
   ]
  },
  {
   "cell_type": "markdown",
   "metadata": {},
   "source": [
    "## Backpopulate Disease normal"
   ]
  },
  {
   "cell_type": "code",
   "execution_count": 2,
   "metadata": {},
   "outputs": [],
   "source": [
    "expr_artifacts = ln.Artifact.filter(ulabels__name=\"expr\").all()"
   ]
  },
  {
   "cell_type": "code",
   "execution_count": 3,
   "metadata": {},
   "outputs": [],
   "source": [
    "for af in expr_artifacts:\n",
    "    if len(af.diseases.all()) == 0:\n",
    "        af.diseases.add(bt.Disease(name=\"normal\"))"
   ]
  },
  {
   "cell_type": "markdown",
   "metadata": {},
   "source": [
    "## Backpopulate n_observations"
   ]
  },
  {
   "cell_type": "code",
   "execution_count": 4,
   "metadata": {},
   "outputs": [],
   "source": [
    "from lamindb.core.storage._anndata_accessor import _anndata_n_observations\n",
    "\n",
    "for af in ln.Artifact.filter(otype=\"AnnData\").all():\n",
    "    if not af.n_observations:\n",
    "        af.n_observations = _anndata_n_observations(af.path)\n",
    "        af.save()"
   ]
  },
  {
   "cell_type": "code",
   "execution_count": 5,
   "metadata": {},
   "outputs": [
    {
     "name": "stdout",
     "output_type": "stream",
     "text": [
      "\u001b[94m•\u001b[0m please hit CTRL + s to save the notebook in your editor .... still waiting ... \u001b[92m✓\u001b[0m\n",
      "\u001b[92m→\u001b[0m finished Run('fPegtXNt') after 54s at 2025-01-31 16:35:56 UTC\n",
      "\u001b[92m→\u001b[0m go to: https://lamin.ai/laminlabs/hubmap/transform/e3g1FX1ScMqe0001\n",
      "\u001b[92m→\u001b[0m to update your notebook from the CLI, run: lamin save /home/lukas/code/hubmap_registration/back_populate_information.ipynb\n"
     ]
    }
   ],
   "source": [
    "ln.finish()"
   ]
  }
 ],
 "metadata": {
  "kernelspec": {
   "display_name": "lamindb",
   "language": "python",
   "name": "python3"
  },
  "language_info": {
   "codemirror_mode": {
    "name": "ipython",
    "version": 3
   },
   "file_extension": ".py",
   "mimetype": "text/x-python",
   "name": "python",
   "nbconvert_exporter": "python",
   "pygments_lexer": "ipython3",
   "version": "3.12.8"
  }
 },
 "nbformat": 4,
 "nbformat_minor": 2
}
