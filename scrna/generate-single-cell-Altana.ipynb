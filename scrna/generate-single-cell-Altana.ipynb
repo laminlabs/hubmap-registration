{
 "cells": [
  {
   "cell_type": "markdown",
   "metadata": {},
   "source": [
    "# Generate single-cell metadata table"
   ]
  },
  {
   "cell_type": "code",
   "execution_count": null,
   "metadata": {},
   "outputs": [],
   "source": [
    "import os\n",
    "import sys\n",
    "\n",
    "sys.path.append(os.path.abspath(\"../\"))\n",
    "\n",
    "import pandas as pd\n",
    "import lamindb as ln\n",
    "\n",
    "from query import create_hubmap_metadata_df, scRNAseqDataset\n",
    "\n",
    "assert ln.setup.settings.instance.slug == \"laminlabs/hubmap\""
   ]
  },
  {
   "cell_type": "code",
   "execution_count": null,
   "metadata": {},
   "outputs": [],
   "source": [
    "ln.track(\"oWI9cCguyzHn0005\")"
   ]
  },
  {
   "cell_type": "code",
   "execution_count": null,
   "metadata": {},
   "outputs": [],
   "source": [
    "df = pd.read_csv(\n",
    "    ln.Artifact.using(\"laminlabs/hubmap\").get(\"9G4UaeVKSY0zy7SX0001\").cache(), sep=\"\\t\"\n",
    ")\n",
    "\n",
    "# Include all assays here for which we want to get metadata information\n",
    "single_cell_assays = [\n",
    "    \"scRNAseq-10xGenomics\",\n",
    "    \"snRNAseq\",\n",
    "    \"snRNAseq-10xGenomics-v3\",\n",
    "    \"sciRNAseq\",\n",
    "    \"scRNAseq-10xGenomics-v3\",\n",
    "    \"scRNAseq-10xGenomics-v2\",\n",
    "]"
   ]
  },
  {
   "cell_type": "code",
   "execution_count": null,
   "metadata": {},
   "outputs": [],
   "source": [
    "single_cell_metadata_df = create_hubmap_metadata_df(\n",
    "    df,\n",
    "    file_types=[\n",
    "        \"raw_expr.h5ad\",\n",
    "        \"out.h5ad\",\n",
    "        \"expr.h5ad\",\n",
    "        \"secondary_analysis.h5ad\",\n",
    "        \"scvelo.h5ad\",\n",
    "        \"scvelo_annotated.h5ad\",\n",
    "    ],\n",
    "    dataset_class=scRNAseqDataset,\n",
    "    assay_filter=single_cell_assays,\n",
    ")\n",
    "single_cell_metadata_df"
   ]
  },
  {
   "cell_type": "code",
   "execution_count": null,
   "metadata": {},
   "outputs": [],
   "source": [
    "sc_af = ln.Artifact.from_df(\n",
    "    single_cell_metadata_df,\n",
    "    key=\"hubmap_metadata/meta_scrna_original.parquet\",\n",
    "    description=\"Single-cell metadata information to use for ingestion.\",\n",
    ").save()"
   ]
  },
  {
   "cell_type": "code",
   "execution_count": null,
   "metadata": {},
   "outputs": [],
   "source": [
    "ln.finish()"
   ]
  }
 ],
 "metadata": {
  "kernelspec": {
   "display_name": "lamin",
   "language": "python",
   "name": "python3"
  },
  "language_info": {
   "codemirror_mode": {
    "name": "ipython",
    "version": 3
   },
   "file_extension": ".py",
   "mimetype": "text/x-python",
   "name": "python",
   "nbconvert_exporter": "python",
   "pygments_lexer": "ipython3",
   "version": "3.12.9"
  }
 },
 "nbformat": 4,
 "nbformat_minor": 2
}
