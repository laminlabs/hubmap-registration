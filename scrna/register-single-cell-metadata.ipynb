{
 "cells": [
  {
   "cell_type": "markdown",
   "id": "fe959749",
   "metadata": {},
   "source": [
    "# Register single-cell metadata\n",
    "\n",
    "Standardized columns:\n",
    "- `tissue`\n",
    "- `ethnicity`\n",
    "- `sex`\n",
    "- `diseases` # contains lists of terms\n",
    "- `suspension_type`\n",
    "- `assay`\n",
    "- `donor_id`\n",
    "- `biosample`\n",
    "- `tissue_type`"
   ]
  },
  {
   "cell_type": "code",
   "execution_count": 1,
   "id": "7ff0cffe",
   "metadata": {},
   "outputs": [
    {
     "name": "stdout",
     "output_type": "stream",
     "text": [
      "\u001b[92m→\u001b[0m connected lamindb: laminlabs/hubmap\n",
      "\u001b[92m→\u001b[0m loaded Transform('5znJrS1UjwCi0004'), re-started Run('s4c83M0s...') at 2025-05-13 11:41:53 UTC\n",
      "\u001b[92m→\u001b[0m notebook imports: bionty==1.3.0 lamindb==1.4.0 wetlab==1.2.0\n"
     ]
    }
   ],
   "source": [
    "import lamindb as ln\n",
    "import bionty as bt\n",
    "import wetlab as wl\n",
    "\n",
    "ln.track(\"5znJrS1UjwCi0004\")"
   ]
  },
  {
   "cell_type": "code",
   "execution_count": 2,
   "id": "cff9ad89",
   "metadata": {},
   "outputs": [
    {
     "data": {
      "text/html": [
       "<div>\n",
       "<style scoped>\n",
       "    .dataframe tbody tr th:only-of-type {\n",
       "        vertical-align: middle;\n",
       "    }\n",
       "\n",
       "    .dataframe tbody tr th {\n",
       "        vertical-align: top;\n",
       "    }\n",
       "\n",
       "    .dataframe thead th {\n",
       "        text-align: right;\n",
       "    }\n",
       "</style>\n",
       "<table border=\"1\" class=\"dataframe\">\n",
       "  <thead>\n",
       "    <tr style=\"text-align: right;\">\n",
       "      <th></th>\n",
       "      <th>assay</th>\n",
       "      <th>rnaseq_assay_method</th>\n",
       "      <th>title</th>\n",
       "      <th>group_name</th>\n",
       "      <th>consortium</th>\n",
       "      <th>doi</th>\n",
       "      <th>publication_date</th>\n",
       "      <th>status</th>\n",
       "      <th>dataset_type</th>\n",
       "      <th>processing</th>\n",
       "      <th>organ</th>\n",
       "      <th>sample_category</th>\n",
       "      <th>analyte_class</th>\n",
       "      <th>bmi</th>\n",
       "      <th>age</th>\n",
       "      <th>ethnicity</th>\n",
       "      <th>sex</th>\n",
       "      <th>diseases</th>\n",
       "      <th>donor_id</th>\n",
       "      <th>sample_id</th>\n",
       "      <th>ancestor_id</th>\n",
       "      <th>raw_expr_url</th>\n",
       "      <th>expr_url</th>\n",
       "      <th>secondary_analysis_url</th>\n",
       "      <th>scvelo_url</th>\n",
       "    </tr>\n",
       "    <tr>\n",
       "      <th>uuid</th>\n",
       "      <th></th>\n",
       "      <th></th>\n",
       "      <th></th>\n",
       "      <th></th>\n",
       "      <th></th>\n",
       "      <th></th>\n",
       "      <th></th>\n",
       "      <th></th>\n",
       "      <th></th>\n",
       "      <th></th>\n",
       "      <th></th>\n",
       "      <th></th>\n",
       "      <th></th>\n",
       "      <th></th>\n",
       "      <th></th>\n",
       "      <th></th>\n",
       "      <th></th>\n",
       "      <th></th>\n",
       "      <th></th>\n",
       "      <th></th>\n",
       "      <th></th>\n",
       "      <th></th>\n",
       "      <th></th>\n",
       "      <th></th>\n",
       "      <th></th>\n",
       "    </tr>\n",
       "  </thead>\n",
       "  <tbody>\n",
       "    <tr>\n",
       "      <th>8776e9183d5f85d90535a0b1b3b4e32a</th>\n",
       "      <td>scRNAseq-10xGenomics</td>\n",
       "      <td>Single Cell 3' v3</td>\n",
       "      <td>RNAseq data from the thymus of a 18-year-old b...</td>\n",
       "      <td>University of Florida TMC</td>\n",
       "      <td>HuBMAP</td>\n",
       "      <td>10.35079/HBM724.ZKSM.924</td>\n",
       "      <td>2020-08-22</td>\n",
       "      <td>protected</td>\n",
       "      <td>RNAseq</td>\n",
       "      <td>raw</td>\n",
       "      <td>TH</td>\n",
       "      <td>suspension</td>\n",
       "      <td>RNA</td>\n",
       "      <td>27.1</td>\n",
       "      <td>18</td>\n",
       "      <td>Black or African American</td>\n",
       "      <td>Male</td>\n",
       "      <td>[normal]</td>\n",
       "      <td>HBM678.JKBB.893</td>\n",
       "      <td>HBM365.LNPG.969</td>\n",
       "      <td>268e8fb044f82a1497b5fd17918500ea</td>\n",
       "      <td>https://assets.hubmapconsortium.org/81a9fa68b2...</td>\n",
       "      <td></td>\n",
       "      <td></td>\n",
       "      <td></td>\n",
       "    </tr>\n",
       "    <tr>\n",
       "      <th>c03acf2de0caff5e5850e0f76d555e1b</th>\n",
       "      <td>scRNAseq-10xGenomics</td>\n",
       "      <td>Single Cell 3' v3</td>\n",
       "      <td>RNAseq data from the thymus of a 18-year-old b...</td>\n",
       "      <td>University of Florida TMC</td>\n",
       "      <td>HuBMAP</td>\n",
       "      <td>10.35079/HBM457.SQKR.279</td>\n",
       "      <td>2020-08-22</td>\n",
       "      <td>protected</td>\n",
       "      <td>RNAseq</td>\n",
       "      <td>raw</td>\n",
       "      <td>TH</td>\n",
       "      <td>suspension</td>\n",
       "      <td>RNA</td>\n",
       "      <td>27.1</td>\n",
       "      <td>18</td>\n",
       "      <td>Black or African American</td>\n",
       "      <td>Male</td>\n",
       "      <td>[normal]</td>\n",
       "      <td>HBM678.JKBB.893</td>\n",
       "      <td>HBM363.KHLF.497</td>\n",
       "      <td>ac972fb45d1dc05548ecf400229a8038</td>\n",
       "      <td>https://assets.hubmapconsortium.org/e8d642084f...</td>\n",
       "      <td></td>\n",
       "      <td></td>\n",
       "      <td></td>\n",
       "    </tr>\n",
       "    <tr>\n",
       "      <th>b29f62452b8e333ffc62d2e69caa18fa</th>\n",
       "      <td>snRNAseq</td>\n",
       "      <td>3`</td>\n",
       "      <td>RNAseq data from the large intestine of a 67-y...</td>\n",
       "      <td>Stanford TMC</td>\n",
       "      <td>HuBMAP</td>\n",
       "      <td>10.35079/HBM444.XJKC.552</td>\n",
       "      <td>2020-08-22</td>\n",
       "      <td>protected</td>\n",
       "      <td>RNAseq</td>\n",
       "      <td>raw</td>\n",
       "      <td>LI</td>\n",
       "      <td>block</td>\n",
       "      <td>RNA</td>\n",
       "      <td>30.2</td>\n",
       "      <td>67</td>\n",
       "      <td>White</td>\n",
       "      <td>Female</td>\n",
       "      <td>[Hypertension, Coronary Artery Disease, Cardia...</td>\n",
       "      <td>HBM279.WPZP.978</td>\n",
       "      <td>HBM588.GSHN.453</td>\n",
       "      <td>e4ee92c09a755f8889cb8c37a669e160</td>\n",
       "      <td>https://assets.hubmapconsortium.org/c019a1cd35...</td>\n",
       "      <td></td>\n",
       "      <td></td>\n",
       "      <td></td>\n",
       "    </tr>\n",
       "    <tr>\n",
       "      <th>a5234e06fed9a14ee8d29c5aa0258ba5</th>\n",
       "      <td>scRNAseq-10xGenomics</td>\n",
       "      <td>Single Cell 3' v3</td>\n",
       "      <td>RNAseq data from the lymph node of a 1-year-ol...</td>\n",
       "      <td>University of Florida TMC</td>\n",
       "      <td>HuBMAP</td>\n",
       "      <td>10.35079/HBM252.HMBK.543</td>\n",
       "      <td>2020-08-22</td>\n",
       "      <td>protected</td>\n",
       "      <td>RNAseq</td>\n",
       "      <td>raw</td>\n",
       "      <td>LY</td>\n",
       "      <td>suspension</td>\n",
       "      <td>RNA</td>\n",
       "      <td>21.8</td>\n",
       "      <td>1</td>\n",
       "      <td>White</td>\n",
       "      <td>Male</td>\n",
       "      <td>[normal]</td>\n",
       "      <td>HBM638.SMWG.276</td>\n",
       "      <td>HBM789.XWDB.222</td>\n",
       "      <td>6c717082627f452935b9f63d2d93f023</td>\n",
       "      <td>https://assets.hubmapconsortium.org/0576b972e0...</td>\n",
       "      <td></td>\n",
       "      <td></td>\n",
       "      <td></td>\n",
       "    </tr>\n",
       "    <tr>\n",
       "      <th>20ee458e5ee361717b68ca72caf6044e</th>\n",
       "      <td>snRNAseq-10xGenomics-v3</td>\n",
       "      <td>10x Chromium Single Cell 3' Reagent Kits v3.1</td>\n",
       "      <td>RNAseq data from the small intestine of a 67-y...</td>\n",
       "      <td>Stanford TMC</td>\n",
       "      <td>HuBMAP</td>\n",
       "      <td>10.35079/HBM983.LKMP.544</td>\n",
       "      <td>2022-11-30</td>\n",
       "      <td>protected</td>\n",
       "      <td>RNAseq</td>\n",
       "      <td>raw</td>\n",
       "      <td>SI</td>\n",
       "      <td>block</td>\n",
       "      <td>RNA</td>\n",
       "      <td>30.2</td>\n",
       "      <td>67</td>\n",
       "      <td>White</td>\n",
       "      <td>Female</td>\n",
       "      <td>[Hypertension, Coronary Artery Disease, Cardia...</td>\n",
       "      <td>HBM279.WPZP.978</td>\n",
       "      <td>HBM555.LQJW.397</td>\n",
       "      <td>e80cd8fab25ec8e9cb41e3872e2129c7</td>\n",
       "      <td>https://assets.hubmapconsortium.org/f6eb890063...</td>\n",
       "      <td>https://assets.hubmapconsortium.org/f6eb890063...</td>\n",
       "      <td>https://assets.hubmapconsortium.org/f6eb890063...</td>\n",
       "      <td>https://assets.hubmapconsortium.org/f6eb890063...</td>\n",
       "    </tr>\n",
       "  </tbody>\n",
       "</table>\n",
       "</div>"
      ],
      "text/plain": [
       "                                                    assay  \\\n",
       "uuid                                                        \n",
       "8776e9183d5f85d90535a0b1b3b4e32a     scRNAseq-10xGenomics   \n",
       "c03acf2de0caff5e5850e0f76d555e1b     scRNAseq-10xGenomics   \n",
       "b29f62452b8e333ffc62d2e69caa18fa                 snRNAseq   \n",
       "a5234e06fed9a14ee8d29c5aa0258ba5     scRNAseq-10xGenomics   \n",
       "20ee458e5ee361717b68ca72caf6044e  snRNAseq-10xGenomics-v3   \n",
       "\n",
       "                                                            rnaseq_assay_method  \\\n",
       "uuid                                                                              \n",
       "8776e9183d5f85d90535a0b1b3b4e32a                              Single Cell 3' v3   \n",
       "c03acf2de0caff5e5850e0f76d555e1b                              Single Cell 3' v3   \n",
       "b29f62452b8e333ffc62d2e69caa18fa                                             3`   \n",
       "a5234e06fed9a14ee8d29c5aa0258ba5                              Single Cell 3' v3   \n",
       "20ee458e5ee361717b68ca72caf6044e  10x Chromium Single Cell 3' Reagent Kits v3.1   \n",
       "\n",
       "                                                                              title  \\\n",
       "uuid                                                                                  \n",
       "8776e9183d5f85d90535a0b1b3b4e32a  RNAseq data from the thymus of a 18-year-old b...   \n",
       "c03acf2de0caff5e5850e0f76d555e1b  RNAseq data from the thymus of a 18-year-old b...   \n",
       "b29f62452b8e333ffc62d2e69caa18fa  RNAseq data from the large intestine of a 67-y...   \n",
       "a5234e06fed9a14ee8d29c5aa0258ba5  RNAseq data from the lymph node of a 1-year-ol...   \n",
       "20ee458e5ee361717b68ca72caf6044e  RNAseq data from the small intestine of a 67-y...   \n",
       "\n",
       "                                                 group_name consortium  \\\n",
       "uuid                                                                     \n",
       "8776e9183d5f85d90535a0b1b3b4e32a  University of Florida TMC     HuBMAP   \n",
       "c03acf2de0caff5e5850e0f76d555e1b  University of Florida TMC     HuBMAP   \n",
       "b29f62452b8e333ffc62d2e69caa18fa               Stanford TMC     HuBMAP   \n",
       "a5234e06fed9a14ee8d29c5aa0258ba5  University of Florida TMC     HuBMAP   \n",
       "20ee458e5ee361717b68ca72caf6044e               Stanford TMC     HuBMAP   \n",
       "\n",
       "                                                       doi publication_date  \\\n",
       "uuid                                                                          \n",
       "8776e9183d5f85d90535a0b1b3b4e32a  10.35079/HBM724.ZKSM.924       2020-08-22   \n",
       "c03acf2de0caff5e5850e0f76d555e1b  10.35079/HBM457.SQKR.279       2020-08-22   \n",
       "b29f62452b8e333ffc62d2e69caa18fa  10.35079/HBM444.XJKC.552       2020-08-22   \n",
       "a5234e06fed9a14ee8d29c5aa0258ba5  10.35079/HBM252.HMBK.543       2020-08-22   \n",
       "20ee458e5ee361717b68ca72caf6044e  10.35079/HBM983.LKMP.544       2022-11-30   \n",
       "\n",
       "                                     status dataset_type processing organ  \\\n",
       "uuid                                                                        \n",
       "8776e9183d5f85d90535a0b1b3b4e32a  protected       RNAseq        raw    TH   \n",
       "c03acf2de0caff5e5850e0f76d555e1b  protected       RNAseq        raw    TH   \n",
       "b29f62452b8e333ffc62d2e69caa18fa  protected       RNAseq        raw    LI   \n",
       "a5234e06fed9a14ee8d29c5aa0258ba5  protected       RNAseq        raw    LY   \n",
       "20ee458e5ee361717b68ca72caf6044e  protected       RNAseq        raw    SI   \n",
       "\n",
       "                                 sample_category analyte_class   bmi age  \\\n",
       "uuid                                                                       \n",
       "8776e9183d5f85d90535a0b1b3b4e32a      suspension           RNA  27.1  18   \n",
       "c03acf2de0caff5e5850e0f76d555e1b      suspension           RNA  27.1  18   \n",
       "b29f62452b8e333ffc62d2e69caa18fa           block           RNA  30.2  67   \n",
       "a5234e06fed9a14ee8d29c5aa0258ba5      suspension           RNA  21.8   1   \n",
       "20ee458e5ee361717b68ca72caf6044e           block           RNA  30.2  67   \n",
       "\n",
       "                                                  ethnicity     sex  \\\n",
       "uuid                                                                  \n",
       "8776e9183d5f85d90535a0b1b3b4e32a  Black or African American    Male   \n",
       "c03acf2de0caff5e5850e0f76d555e1b  Black or African American    Male   \n",
       "b29f62452b8e333ffc62d2e69caa18fa                      White  Female   \n",
       "a5234e06fed9a14ee8d29c5aa0258ba5                      White    Male   \n",
       "20ee458e5ee361717b68ca72caf6044e                      White  Female   \n",
       "\n",
       "                                                                           diseases  \\\n",
       "uuid                                                                                  \n",
       "8776e9183d5f85d90535a0b1b3b4e32a                                           [normal]   \n",
       "c03acf2de0caff5e5850e0f76d555e1b                                           [normal]   \n",
       "b29f62452b8e333ffc62d2e69caa18fa  [Hypertension, Coronary Artery Disease, Cardia...   \n",
       "a5234e06fed9a14ee8d29c5aa0258ba5                                           [normal]   \n",
       "20ee458e5ee361717b68ca72caf6044e  [Hypertension, Coronary Artery Disease, Cardia...   \n",
       "\n",
       "                                         donor_id        sample_id  \\\n",
       "uuid                                                                 \n",
       "8776e9183d5f85d90535a0b1b3b4e32a  HBM678.JKBB.893  HBM365.LNPG.969   \n",
       "c03acf2de0caff5e5850e0f76d555e1b  HBM678.JKBB.893  HBM363.KHLF.497   \n",
       "b29f62452b8e333ffc62d2e69caa18fa  HBM279.WPZP.978  HBM588.GSHN.453   \n",
       "a5234e06fed9a14ee8d29c5aa0258ba5  HBM638.SMWG.276  HBM789.XWDB.222   \n",
       "20ee458e5ee361717b68ca72caf6044e  HBM279.WPZP.978  HBM555.LQJW.397   \n",
       "\n",
       "                                                       ancestor_id  \\\n",
       "uuid                                                                 \n",
       "8776e9183d5f85d90535a0b1b3b4e32a  268e8fb044f82a1497b5fd17918500ea   \n",
       "c03acf2de0caff5e5850e0f76d555e1b  ac972fb45d1dc05548ecf400229a8038   \n",
       "b29f62452b8e333ffc62d2e69caa18fa  e4ee92c09a755f8889cb8c37a669e160   \n",
       "a5234e06fed9a14ee8d29c5aa0258ba5  6c717082627f452935b9f63d2d93f023   \n",
       "20ee458e5ee361717b68ca72caf6044e  e80cd8fab25ec8e9cb41e3872e2129c7   \n",
       "\n",
       "                                                                       raw_expr_url  \\\n",
       "uuid                                                                                  \n",
       "8776e9183d5f85d90535a0b1b3b4e32a  https://assets.hubmapconsortium.org/81a9fa68b2...   \n",
       "c03acf2de0caff5e5850e0f76d555e1b  https://assets.hubmapconsortium.org/e8d642084f...   \n",
       "b29f62452b8e333ffc62d2e69caa18fa  https://assets.hubmapconsortium.org/c019a1cd35...   \n",
       "a5234e06fed9a14ee8d29c5aa0258ba5  https://assets.hubmapconsortium.org/0576b972e0...   \n",
       "20ee458e5ee361717b68ca72caf6044e  https://assets.hubmapconsortium.org/f6eb890063...   \n",
       "\n",
       "                                                                           expr_url  \\\n",
       "uuid                                                                                  \n",
       "8776e9183d5f85d90535a0b1b3b4e32a                                                      \n",
       "c03acf2de0caff5e5850e0f76d555e1b                                                      \n",
       "b29f62452b8e333ffc62d2e69caa18fa                                                      \n",
       "a5234e06fed9a14ee8d29c5aa0258ba5                                                      \n",
       "20ee458e5ee361717b68ca72caf6044e  https://assets.hubmapconsortium.org/f6eb890063...   \n",
       "\n",
       "                                                             secondary_analysis_url  \\\n",
       "uuid                                                                                  \n",
       "8776e9183d5f85d90535a0b1b3b4e32a                                                      \n",
       "c03acf2de0caff5e5850e0f76d555e1b                                                      \n",
       "b29f62452b8e333ffc62d2e69caa18fa                                                      \n",
       "a5234e06fed9a14ee8d29c5aa0258ba5                                                      \n",
       "20ee458e5ee361717b68ca72caf6044e  https://assets.hubmapconsortium.org/f6eb890063...   \n",
       "\n",
       "                                                                         scvelo_url  \n",
       "uuid                                                                                 \n",
       "8776e9183d5f85d90535a0b1b3b4e32a                                                     \n",
       "c03acf2de0caff5e5850e0f76d555e1b                                                     \n",
       "b29f62452b8e333ffc62d2e69caa18fa                                                     \n",
       "a5234e06fed9a14ee8d29c5aa0258ba5                                                     \n",
       "20ee458e5ee361717b68ca72caf6044e  https://assets.hubmapconsortium.org/f6eb890063...  "
      ]
     },
     "execution_count": 2,
     "metadata": {},
     "output_type": "execute_result"
    }
   ],
   "source": [
    "meta_df = ln.Artifact.get(\"ZmKRFUAwmX5RK9d80005\").load()\n",
    "meta_df.head()"
   ]
  },
  {
   "cell_type": "markdown",
   "id": "c9230b0a",
   "metadata": {},
   "source": [
    "## `Reference`"
   ]
  },
  {
   "cell_type": "code",
   "execution_count": 3,
   "id": "c3aff871",
   "metadata": {},
   "outputs": [],
   "source": [
    "reference_names = ln.Reference.inspect(meta_df.title, mute=True).non_validated\n",
    "try:\n",
    "    ln.settings.creation.search_names = False\n",
    "    references = []\n",
    "    for _, row in (\n",
    "        meta_df[[\"title\", \"doi\", \"publication_date\"]].drop_duplicates().iterrows()\n",
    "    ):\n",
    "        if row.title in reference_names:\n",
    "            references.append(\n",
    "                ln.Reference(name=row.title, doi=row.doi, date=row.publication_date)\n",
    "            )\n",
    "finally:\n",
    "    ln.settings.creation.search_names = True"
   ]
  },
  {
   "cell_type": "code",
   "execution_count": 4,
   "id": "73a119a6",
   "metadata": {},
   "outputs": [
    {
     "data": {
      "text/plain": [
       "[Reference(uid='0HqBBb3etF1z', name='RNAseq data from the thymus of a 18-year-old black or african american male', is_type=False, doi='10.35079/HBM724.ZKSM.924', date=2020-08-22, space_id=1, created_by_id=5, run_id=27, created_at=<django.db.models.expressions.DatabaseDefault object at 0x163a07e00>),\n",
       " Reference(uid='Qcbk5RluPmVS', name='RNAseq data from the thymus of a 18-year-old black or african american male', is_type=False, doi='10.35079/HBM457.SQKR.279', date=2020-08-22, space_id=1, created_by_id=5, run_id=27, created_at=<django.db.models.expressions.DatabaseDefault object at 0x16399fdd0>),\n",
       " Reference(uid='HTtAm6KTNs3Q', name='RNAseq data from the large intestine of a 67-year-old white female', is_type=False, doi='10.35079/HBM444.XJKC.552', date=2020-08-22, space_id=1, created_by_id=5, run_id=27, created_at=<django.db.models.expressions.DatabaseDefault object at 0x163a04a10>),\n",
       " Reference(uid='IfiwbjZBjdjE', name='RNAseq data from the lymph node of a 1-year-old white male', is_type=False, doi='10.35079/HBM252.HMBK.543', date=2020-08-22, space_id=1, created_by_id=5, run_id=27, created_at=<django.db.models.expressions.DatabaseDefault object at 0x13786a240>),\n",
       " Reference(uid='2JzkNjoffhJ5', name='RNAseq data from the small intestine of a 67-year-old white female', is_type=False, doi='10.35079/HBM983.LKMP.544', date=2022-11-30, space_id=1, created_by_id=5, run_id=27, created_at=<django.db.models.expressions.DatabaseDefault object at 0x13505e840>),\n",
       " Reference(uid='8j3Wc14mOb97', name='RNAseq data from the spleen of a 18-year-old white male', is_type=False, doi='10.35079/HBM376.TQFR.354', date=2021-05-02, space_id=1, created_by_id=5, run_id=27, created_at=<django.db.models.expressions.DatabaseDefault object at 0x136f31f10>),\n",
       " Reference(uid='lUSPQlkJMQET', name='RNAseq data from the large intestine of a 24-year-old white female', is_type=False, doi='10.35079/HBM846.LZNC.567', date=2021-04-21, space_id=1, created_by_id=5, run_id=27, created_at=<django.db.models.expressions.DatabaseDefault object at 0x1353cf8f0>),\n",
       " Reference(uid='9nz1FxqYZQcR', name='RNAseq data from the large intestine of a 24-year-old white female', is_type=False, doi='10.35079/HBM974.CTTF.889', date=2021-04-21, space_id=1, created_by_id=5, run_id=27, created_at=<django.db.models.expressions.DatabaseDefault object at 0x136f32150>),\n",
       " Reference(uid='oAedfjNYjWcL', name='RNAseq data from the large intestine of a 24-year-old white female', is_type=False, doi='10.35079/HBM947.LJKB.895', date=2023-04-11, space_id=1, created_by_id=5, run_id=27, created_at=<django.db.models.expressions.DatabaseDefault object at 0x163945f70>),\n",
       " Reference(uid='67gvDnuQBoE2', name='RNAseq data from the small intestine of a 38-year-old white male', is_type=False, doi='10.35079/HBM895.RVGB.733', date=2022-11-30, space_id=1, created_by_id=5, run_id=27, created_at=<django.db.models.expressions.DatabaseDefault object at 0x1353cf0e0>),\n",
       " Reference(uid='pQLtQwQB706t', name='RNAseq data from the heart of a 43-year-old white male', is_type=False, doi='10.35079/HBM972.VRNF.956', date=2022-03-01, space_id=1, created_by_id=5, run_id=27, created_at=<django.db.models.expressions.DatabaseDefault object at 0x1379d94c0>),\n",
       " Reference(uid='vTBvuyrnlfAU', name='RNAseq data from the heart of a 53-year-old white male', is_type=False, doi='10.35079/HBM388.ZSNN.945', date=2022-03-01, space_id=1, created_by_id=5, run_id=27, created_at=<django.db.models.expressions.DatabaseDefault object at 0x134e17410>),\n",
       " Reference(uid='caZKj2W25c1l', name='RNAseq data from the heart of a 51-year-old white male', is_type=False, doi='10.35079/HBM667.ZCQC.777', date=2022-03-01, space_id=1, created_by_id=5, run_id=27, created_at=<django.db.models.expressions.DatabaseDefault object at 0x163a050a0>),\n",
       " Reference(uid='5wfXQkeiga03', name='RNAseq data from the kidney (left) of a 40-year-old white female', is_type=False, doi='10.35079/HBM369.FCNZ.863', date=2023-04-10, space_id=1, created_by_id=5, run_id=27, created_at=<django.db.models.expressions.DatabaseDefault object at 0x163945c70>),\n",
       " Reference(uid='2N7DpFL6gQsm', name='RNAseq data from the large intestine of a 37-year-old white male', is_type=False, doi='10.35079/HBM243.MXBM.589', date=2022-10-26, space_id=1, created_by_id=5, run_id=27, created_at=<django.db.models.expressions.DatabaseDefault object at 0x163a051f0>),\n",
       " Reference(uid='6FvPuD3GfRMU', name='RNAseq data from the large intestine of a 37-year-old white male', is_type=False, doi='10.35079/HBM433.SPRB.778', date=2022-10-26, space_id=1, created_by_id=5, run_id=27, created_at=<django.db.models.expressions.DatabaseDefault object at 0x1639e6fc0>),\n",
       " Reference(uid='cqyNZz5vZrJl', name='RNAseq data from the small intestine of a 37-year-old white male', is_type=False, doi='10.35079/HBM889.DMLC.292', date=2022-10-26, space_id=1, created_by_id=5, run_id=27, created_at=<django.db.models.expressions.DatabaseDefault object at 0x1639e4b90>),\n",
       " Reference(uid='XTPtwr2Kwca5', name='RNAseq data from the kidney (left) of a 25-year-old white female', is_type=False, doi='10.35079/HBM886.ZXXN.298', date=2021-06-29, space_id=1, created_by_id=5, run_id=27, created_at=<django.db.models.expressions.DatabaseDefault object at 0x1639e6e10>),\n",
       " Reference(uid='JcsJktQggtl6', name='RNAseq data from the spleen of a 14-year-old black or african american female', is_type=False, doi='10.35079/HBM984.GRBB.858', date=2020-08-22, space_id=1, created_by_id=5, run_id=27, created_at=<django.db.models.expressions.DatabaseDefault object at 0x136f669c0>),\n",
       " Reference(uid='VNcnLdr4T8ZM', name='RNAseq data from the kidney (right) of a 54-year-old white male', is_type=False, doi='10.35079/HBM826.RGXW.276', date=2021-06-29, space_id=1, created_by_id=5, run_id=27, created_at=<django.db.models.expressions.DatabaseDefault object at 0x163b1eba0>),\n",
       " Reference(uid='Mn9WSYsC2dGc', name='RNAseq data from the kidney (left) of a 66-year-old white male', is_type=False, doi='10.35079/HBM985.TJZD.778', date=2021-06-29, space_id=1, created_by_id=5, run_id=27, created_at=<django.db.models.expressions.DatabaseDefault object at 0x1379b1970>),\n",
       " Reference(uid='QCq0cAx7yz1d', name='RNAseq data from the small intestine of a 78-year-old black or african american male', is_type=False, doi='10.35079/HBM659.TVWH.432', date=2023-04-11, space_id=1, created_by_id=5, run_id=27, created_at=<django.db.models.expressions.DatabaseDefault object at 0x163b1e960>),\n",
       " Reference(uid='A5bOIPEofKUt', name='RNAseq data from the small intestine of a 78-year-old black or african american male', is_type=False, doi='10.35079/HBM463.QNLT.332', date=2023-04-11, space_id=1, created_by_id=5, run_id=27, created_at=<django.db.models.expressions.DatabaseDefault object at 0x163b1ec30>),\n",
       " Reference(uid='Z6kOzzvbgjr8', name='RNAseq data from the large intestine of a 78-year-old black or african american male', is_type=False, doi='10.35079/HBM979.DRXV.239', date=2023-04-11, space_id=1, created_by_id=5, run_id=27, created_at=<django.db.models.expressions.DatabaseDefault object at 0x163b1f440>),\n",
       " Reference(uid='npROJ0zImE5V', name='RNAseq data from the kidney (right) of a 75-year-old white female', is_type=False, doi='10.35079/HBM374.BXTC.899', date=2023-04-10, space_id=1, created_by_id=5, run_id=27, created_at=<django.db.models.expressions.DatabaseDefault object at 0x163b1f2f0>),\n",
       " Reference(uid='jdc8VrqozzSL', name='RNAseq data from the large intestine of a 37-year-old white male', is_type=False, doi='10.35079/HBM367.NSZK.788', date=2022-10-26, space_id=1, created_by_id=5, run_id=27, created_at=<django.db.models.expressions.DatabaseDefault object at 0x163b1f0b0>),\n",
       " Reference(uid='hnFpZEXKs8Wl', name='RNAseq data from the small intestine of a 30-year-old white male', is_type=False, doi='10.35079/HBM987.BFBR.496', date=2022-10-26, space_id=1, created_by_id=5, run_id=27, created_at=<django.db.models.expressions.DatabaseDefault object at 0x163b1f770>),\n",
       " Reference(uid='UWnYy0YxneZ7', name='RNAseq data from the large intestine of a 54-year-old black or african american female', is_type=False, doi='10.35079/HBM367.ZMBH.758', date=2022-10-26, space_id=1, created_by_id=5, run_id=27, created_at=<django.db.models.expressions.DatabaseDefault object at 0x163b1f950>),\n",
       " Reference(uid='OHCVtp4d4SVG', name='RNAseq data from the large intestine of a 54-year-old black or african american female', is_type=False, doi='10.35079/HBM949.PNXL.623', date=2022-10-26, space_id=1, created_by_id=5, run_id=27, created_at=<django.db.models.expressions.DatabaseDefault object at 0x1639e7d10>),\n",
       " Reference(uid='Re1xzTvJ48eB', name='RNAseq data from the large intestine of a 24-year-old white male', is_type=False, doi='10.35079/HBM557.VZPM.253', date=2022-10-26, space_id=1, created_by_id=5, run_id=27, created_at=<django.db.models.expressions.DatabaseDefault object at 0x163b1fb00>),\n",
       " Reference(uid='e8QfTc3r8Hg0', name='RNAseq data from the knee (left) of a 56-year-old white male', is_type=False, doi='10.35079/HBM586.WZDS.243', date=2023-12-18, space_id=1, created_by_id=5, run_id=27, created_at=<django.db.models.expressions.DatabaseDefault object at 0x163b1fad0>),\n",
       " Reference(uid='tkkSioCP4iZw', name='RNAseq data from the knee (right) of a 49-year-old white male', is_type=False, doi='10.35079/HBM853.LGKF.867', date=2023-12-18, space_id=1, created_by_id=5, run_id=27, created_at=<django.db.models.expressions.DatabaseDefault object at 0x163a05190>),\n",
       " Reference(uid='szpY2EsbRAMG', name='RNAseq data from the bladder of a 25-year-old white male', is_type=False, doi='10.35079/HBM943.ZXSC.662', date=2023-06-12, space_id=1, created_by_id=5, run_id=27, created_at=<django.db.models.expressions.DatabaseDefault object at 0x163b1f7d0>),\n",
       " Reference(uid='cr3FkwAMIPnH', name='RNAseq data from the knee (right) of a 27-year-old white female', is_type=False, doi='10.35079/HBM599.GLRZ.888', date=2022-09-22, space_id=1, created_by_id=5, run_id=27, created_at=<django.db.models.expressions.DatabaseDefault object at 0x163b1fe30>),\n",
       " Reference(uid='l0i0Hp1ZjuLd', name='RNAseq data from the lung (right) of a 37-year-old black or african american male', is_type=False, doi='10.35079/HBM969.CJQL.629', date=2021-06-29, space_id=1, created_by_id=5, run_id=27, created_at=<django.db.models.expressions.DatabaseDefault object at 0x163b1f7a0>),\n",
       " Reference(uid='emJqkAlfLtw7', name='RNAseq data from the lung (right) of a 37-year-old black or african american male', is_type=False, doi='10.35079/HBM347.VDHS.379', date=2021-06-29, space_id=1, created_by_id=5, run_id=27, created_at=<django.db.models.expressions.DatabaseDefault object at 0x163b1eb70>),\n",
       " Reference(uid='LjBD2PzB9FYy', name='RNAseq data from the liver of a 21-year-old white male', is_type=False, doi='10.35079/HBM872.LGVH.332', date=2023-08-23, space_id=1, created_by_id=5, run_id=27, created_at=<django.db.models.expressions.DatabaseDefault object at 0x163b1f680>),\n",
       " Reference(uid='ZNvvWemtdjMJ', name='RNAseq data from the heart of a 45-year-old white male', is_type=False, doi='10.35079/HBM965.GWBH.574', date=2022-03-01, space_id=1, created_by_id=5, run_id=27, created_at=<django.db.models.expressions.DatabaseDefault object at 0x1379b25d0>),\n",
       " Reference(uid='Yiu7FRBMVHev', name='RNAseq data from the kidney (left) of a 63-year-old white female', is_type=False, doi='10.35079/HBM537.LTFK.379', date=2021-06-29, space_id=1, created_by_id=5, run_id=27, created_at=<django.db.models.expressions.DatabaseDefault object at 0x163972db0>),\n",
       " Reference(uid='XawY6iwMervA', name='RNAseq data from the kidney (left) of a 69-year-old white female', is_type=False, doi='10.35079/HBM375.ZKZZ.765', date=2021-06-29, space_id=1, created_by_id=5, run_id=27, created_at=<django.db.models.expressions.DatabaseDefault object at 0x163a048c0>),\n",
       " Reference(uid='Ab68jBB3FBZy', name='RNAseq data from the spleen of a 20-year-old white male', is_type=False, doi='10.35079/HBM644.LHFR.583', date=2021-05-02, space_id=1, created_by_id=5, run_id=27, created_at=<django.db.models.expressions.DatabaseDefault object at 0x163cdc620>),\n",
       " Reference(uid='WkM2dqY11wU5', name='RNAseq data from the large intestine of a 67-year-old white female', is_type=False, doi='10.35079/HBM874.FDKQ.476', date=2022-11-30, space_id=1, created_by_id=5, run_id=27, created_at=<django.db.models.expressions.DatabaseDefault object at 0x163cdc0e0>),\n",
       " Reference(uid='gBR4AG6XxUUy', name='RNAseq data from the small intestine of a 38-year-old white male', is_type=False, doi='10.35079/HBM568.TFRG.449', date=2023-04-27, space_id=1, created_by_id=5, run_id=27, created_at=<django.db.models.expressions.DatabaseDefault object at 0x163cdce90>),\n",
       " Reference(uid='RhuDpPZpuFzM', name='RNAseq data from the small intestine of a 38-year-old white male', is_type=False, doi='10.35079/HBM427.SRRW.989', date=2023-04-27, space_id=1, created_by_id=5, run_id=27, created_at=<django.db.models.expressions.DatabaseDefault object at 0x163cdcda0>),\n",
       " Reference(uid='hw8QauhCGj6u', name='RNAseq data from the large intestine of a 67-year-old white female', is_type=False, doi='10.35079/HBM579.JKPM.857', date=2022-11-30, space_id=1, created_by_id=5, run_id=27, created_at=<django.db.models.expressions.DatabaseDefault object at 0x163cdd190>),\n",
       " Reference(uid='ZpsUnHHUq3Bk', name='RNAseq data from the small intestine of a 67-year-old white female', is_type=False, doi='10.35079/HBM967.JBBL.592', date=2022-11-30, space_id=1, created_by_id=5, run_id=27, created_at=<django.db.models.expressions.DatabaseDefault object at 0x163cdc140>),\n",
       " Reference(uid='3sPPJJnI8vAE', name='RNAseq data from the spleen of a 18-year-old white male', is_type=False, doi='10.35079/HBM626.FHJD.938', date=2021-05-02, space_id=1, created_by_id=5, run_id=27, created_at=<django.db.models.expressions.DatabaseDefault object at 0x163cdc3b0>),\n",
       " Reference(uid='fFhPs6ipB2gl', name='RNAseq data from the spleen of a 18-year-old white male', is_type=False, doi='10.35079/HBM743.FGPZ.867', date=2021-05-02, space_id=1, created_by_id=5, run_id=27, created_at=<django.db.models.expressions.DatabaseDefault object at 0x163cdd820>),\n",
       " Reference(uid='1JSX7VDnGqcK', name='RNAseq data from the large intestine of a 24-year-old white female', is_type=False, doi='10.35079/HBM342.FWKM.533', date=2023-04-11, space_id=1, created_by_id=5, run_id=27, created_at=<django.db.models.expressions.DatabaseDefault object at 0x163cdda90>),\n",
       " Reference(uid='jxdbBtCxbkZ3', name='RNAseq data from the small intestine of a 24-year-old white female', is_type=False, doi='10.35079/HBM382.VHCQ.532', date=2022-12-16, space_id=1, created_by_id=5, run_id=27, created_at=<django.db.models.expressions.DatabaseDefault object at 0x163cddb20>),\n",
       " Reference(uid='mXcDqL5sg4Zo', name='RNAseq data from the small intestine of a 24-year-old white female', is_type=False, doi='10.35079/HBM292.FTLJ.343', date=2022-12-16, space_id=1, created_by_id=5, run_id=27, created_at=<django.db.models.expressions.DatabaseDefault object at 0x163cddb80>),\n",
       " Reference(uid='ZmrpSsdXMpVO', name='RNAseq data from the small intestine of a 24-year-old white female', is_type=False, doi='10.35079/HBM364.JHKZ.383', date=2023-04-27, space_id=1, created_by_id=5, run_id=27, created_at=<django.db.models.expressions.DatabaseDefault object at 0x163cde0c0>),\n",
       " Reference(uid='z9PtYE12if6a', name='RNAseq data from the large intestine of a 38-year-old white male', is_type=False, doi='10.35079/HBM972.LWTD.655', date=2023-04-27, space_id=1, created_by_id=5, run_id=27, created_at=<django.db.models.expressions.DatabaseDefault object at 0x163cdd970>),\n",
       " Reference(uid='fDI7NLgQywvU', name='RNAseq data from the large intestine of a 38-year-old white male', is_type=False, doi='10.35079/HBM492.NPXK.885', date=2023-04-27, space_id=1, created_by_id=5, run_id=27, created_at=<django.db.models.expressions.DatabaseDefault object at 0x163cde120>),\n",
       " Reference(uid='InhMpeYK2jv4', name='RNAseq data from the heart of a 61-year-old white male', is_type=False, doi='10.35079/HBM945.QNRF.244', date=2022-03-08, space_id=1, created_by_id=5, run_id=27, created_at=<django.db.models.expressions.DatabaseDefault object at 0x163cde4e0>),\n",
       " Reference(uid='3umq3GL6wmdr', name='RNAseq data from the small intestine of a 37-year-old white male', is_type=False, doi='10.35079/HBM324.MKDC.693', date=2022-10-26, space_id=1, created_by_id=5, run_id=27, created_at=<django.db.models.expressions.DatabaseDefault object at 0x163cdd640>),\n",
       " Reference(uid='Q6pjkTuXLCQk', name='RNAseq data from the kidney (left) of a 25-year-old white female', is_type=False, doi='10.35079/HBM982.TTRB.258', date=2021-06-29, space_id=1, created_by_id=5, run_id=27, created_at=<django.db.models.expressions.DatabaseDefault object at 0x163cde0f0>),\n",
       " Reference(uid='MvpV6yycJZPQ', name='RNAseq data from the kidney (left) of a 66-year-old white male', is_type=False, doi='10.35079/HBM578.SRZG.769', date=2021-06-29, space_id=1, created_by_id=5, run_id=27, created_at=<django.db.models.expressions.DatabaseDefault object at 0x163cdec90>),\n",
       " Reference(uid='FkA7IIxN6Rf9', name='RNAseq data from the small intestine of a 78-year-old black or african american male', is_type=False, doi='10.35079/HBM254.XFHN.834', date=2022-11-30, space_id=1, created_by_id=5, run_id=27, created_at=<django.db.models.expressions.DatabaseDefault object at 0x163b1fc50>),\n",
       " Reference(uid='b3fGGG4lEQts', name='RNAseq data from the kidney (left) of a 66-year-old white male', is_type=False, doi='10.35079/HBM469.MJBC.894', date=2023-04-10, space_id=1, created_by_id=5, run_id=27, created_at=<django.db.models.expressions.DatabaseDefault object at 0x163cdf050>),\n",
       " Reference(uid='gh8tm7x0L6AA', name='RNAseq data from the kidney (right) of a 59-year-old white female', is_type=False, doi='10.35079/HBM232.KNBD.954', date=2023-04-10, space_id=1, created_by_id=5, run_id=27, created_at=<django.db.models.expressions.DatabaseDefault object at 0x163cdf560>),\n",
       " Reference(uid='2V4m6AF5XpF4', name='RNAseq data from the heart of a 45-year-old white male', is_type=False, doi='10.35079/HBM258.BWHR.287', date=2022-03-01, space_id=1, created_by_id=5, run_id=27, created_at=<django.db.models.expressions.DatabaseDefault object at 0x163cdf3e0>),\n",
       " Reference(uid='H3UdKjUTD4P9', name='RNAseq data from the lymph node of a 21-year-old black or african american female', is_type=False, doi='10.35079/HBM354.GTPP.329', date=2021-05-02, space_id=1, created_by_id=5, run_id=27, created_at=<django.db.models.expressions.DatabaseDefault object at 0x163cde660>),\n",
       " Reference(uid='xE34fTVImuuZ', name='RNAseq data from the kidney (right) of a 67-year-old white male', is_type=False, doi='10.35079/HBM734.DSQM.939', date=2023-04-10, space_id=1, created_by_id=5, run_id=27, created_at=<django.db.models.expressions.DatabaseDefault object at 0x163cdeed0>),\n",
       " Reference(uid='EWshXAIcYvKx', name='RNAseq data from the lung (right) of a 37-year-old black or african american male', is_type=False, doi='10.35079/HBM883.SPLD.238', date=2021-06-29, space_id=1, created_by_id=5, run_id=27, created_at=<django.db.models.expressions.DatabaseDefault object at 0x163cde780>),\n",
       " Reference(uid='10JLHgig6UTQ', name='RNAseq data from the lung (right) of a 37-year-old black or african american male', is_type=False, doi='10.35079/HBM695.VNZJ.522', date=2021-06-29, space_id=1, created_by_id=5, run_id=27, created_at=<django.db.models.expressions.DatabaseDefault object at 0x163cdcce0>),\n",
       " Reference(uid='cnLWaEIgPzNy', name='RNAseq data from the liver of a 44-year-old unknown male', is_type=False, doi='10.35079/HBM253.ZBQP.383', date=2022-03-03, space_id=1, created_by_id=5, run_id=27, created_at=<django.db.models.expressions.DatabaseDefault object at 0x163cdfb30>),\n",
       " Reference(uid='fkmdaf3NU07u', name='RNAseq data from the kidney (left) of a 41-year-old white male', is_type=False, doi='10.35079/HBM394.VPCK.634', date=2023-04-10, space_id=1, created_by_id=5, run_id=27, created_at=<django.db.models.expressions.DatabaseDefault object at 0x163cdfcb0>),\n",
       " Reference(uid='BegGoyab9pOx', name='RNAseq data from the kidney (left) of a 41-year-old white male', is_type=False, doi='10.35079/HBM729.HSHS.983', date=2023-04-10, space_id=1, created_by_id=5, run_id=27, created_at=<django.db.models.expressions.DatabaseDefault object at 0x163cdf920>),\n",
       " Reference(uid='7UhpPEFNP6vH', name='RNAseq data from the bladder of a 18-year-old white male', is_type=False, doi='10.35079/HBM777.JKQM.678', date=2023-06-12, space_id=1, created_by_id=5, run_id=27, created_at=<django.db.models.expressions.DatabaseDefault object at 0x163cde480>),\n",
       " Reference(uid='wwf2wnxZzYt5', name='RNAseq data from the kidney (left) of a 56-year-old black or african american male', is_type=False, doi='10.35079/HBM846.WXJK.587', date=2023-04-10, space_id=1, created_by_id=5, run_id=27, created_at=<django.db.models.expressions.DatabaseDefault object at 0x163cde4b0>),\n",
       " Reference(uid='fAW90XAraRaI', name='RNAseq data from the kidney (right) of a 57-year-old white male', is_type=False, doi='10.35079/HBM876.KWMX.349', date=2023-04-10, space_id=1, created_by_id=5, run_id=27, created_at=<django.db.models.expressions.DatabaseDefault object at 0x163cdffb0>),\n",
       " Reference(uid='89fqSUaX07Ef', name='RNAseq data from the kidney (right) of a 54-year-old black or african american female', is_type=False, doi='10.35079/HBM694.TNFF.778', date=2023-04-10, space_id=1, created_by_id=5, run_id=27, created_at=<django.db.models.expressions.DatabaseDefault object at 0x163cdfdd0>),\n",
       " Reference(uid='oBaWfaeLiGCY', name='RNAseq data from the kidney (left) of a 65-year-old white male', is_type=False, doi='10.35079/HBM572.JLDL.664', date=2023-04-10, space_id=1, created_by_id=5, run_id=27, created_at=<django.db.models.expressions.DatabaseDefault object at 0x163cdc680>),\n",
       " Reference(uid='G5IxOisAwQMA', name='RNAseq data from the kidney (right) of a 57-year-old white female', is_type=False, doi='10.35079/HBM959.QMBB.765', date=2023-04-10, space_id=1, created_by_id=5, run_id=27, created_at=<django.db.models.expressions.DatabaseDefault object at 0x163cdfd70>),\n",
       " Reference(uid='YRe1r6YA3gFP', name='RNAseq data from the kidney (right) of a 54-year-old black or african american female', is_type=False, doi='10.35079/HBM854.GCMW.458', date=2023-04-10, space_id=1, created_by_id=5, run_id=27, created_at=<django.db.models.expressions.DatabaseDefault object at 0x163a78530>),\n",
       " Reference(uid='JPOBIY2gMu3s', name='RNAseq data from the heart of a 54-year-old black or african american female', is_type=False, doi='10.35079/HBM378.WGXD.394', date=2022-12-15, space_id=1, created_by_id=5, run_id=27, created_at=<django.db.models.expressions.DatabaseDefault object at 0x163cdf260>),\n",
       " Reference(uid='ig5VSxF2Z1G3', name='RNAseq data from the small intestine of a 37-year-old white male', is_type=False, doi='10.35079/HBM354.FMKQ.822', date=2022-10-26, space_id=1, created_by_id=5, run_id=27, created_at=<django.db.models.expressions.DatabaseDefault object at 0x163a78200>),\n",
       " Reference(uid='S45B5xu8thUn', name='RNAseq data from the small intestine of a 54-year-old black or african american female', is_type=False, doi='10.35079/HBM487.WJST.938', date=2022-10-26, space_id=1, created_by_id=5, run_id=27, created_at=<django.db.models.expressions.DatabaseDefault object at 0x163a78680>),\n",
       " Reference(uid='9nVfTJC9JixL', name='RNAseq data from the small intestine of a 24-year-old white male', is_type=False, doi='10.35079/HBM399.GZRJ.726', date=2022-10-26, space_id=1, created_by_id=5, run_id=27, created_at=<django.db.models.expressions.DatabaseDefault object at 0x163a78d40>),\n",
       " Reference(uid='dFkTP6tG7Luk', name='RNAseq data from the small intestine of a 24-year-old white male', is_type=False, doi='10.35079/HBM958.VZLG.297', date=2022-10-26, space_id=1, created_by_id=5, run_id=27, created_at=<django.db.models.expressions.DatabaseDefault object at 0x163a78fe0>),\n",
       " Reference(uid='Vsc1nNpR49CT', name='RNAseq data from the bladder of a 5-year-old black or african american female', is_type=False, doi='10.35079/HBM555.TNNT.434', date=2023-06-12, space_id=1, created_by_id=5, run_id=27, created_at=<django.db.models.expressions.DatabaseDefault object at 0x163a792b0>),\n",
       " Reference(uid='RCvPwbsvsphI', name='RNAseq data from the bladder of a 37-year-old black or african american male', is_type=False, doi='10.35079/HBM593.LXFZ.836', date=2023-06-12, space_id=1, created_by_id=5, run_id=27, created_at=<django.db.models.expressions.DatabaseDefault object at 0x163a78950>),\n",
       " Reference(uid='psd1RYd0I2EJ', name='RNAseq data from the bladder of a 18-month-old white female', is_type=False, doi='10.35079/HBM497.KPML.696', date=2023-06-12, space_id=1, created_by_id=5, run_id=27, created_at=<django.db.models.expressions.DatabaseDefault object at 0x163a78890>),\n",
       " Reference(uid='5cEfdlq2pzyp', name='RNAseq data from the knee (right) of a 24-year-old unknown male', is_type=False, doi='10.35079/HBM938.GJXR.224', date=2022-09-22, space_id=1, created_by_id=5, run_id=27, created_at=<django.db.models.expressions.DatabaseDefault object at 0x163a797f0>),\n",
       " Reference(uid='f95sNkHfpBJR', name='RNAseq data from the knee (right) of a 31-year-old black or african american female', is_type=False, doi='10.35079/HBM743.FBJP.586', date=2022-09-22, space_id=1, created_by_id=5, run_id=27, created_at=<django.db.models.expressions.DatabaseDefault object at 0x163a78470>),\n",
       " Reference(uid='IcbVHn32cVEb', name='RNAseq data from the knee (right) of a 20-year-old unknown male', is_type=False, doi='10.35079/HBM756.PWKH.456', date=2022-09-22, space_id=1, created_by_id=5, run_id=27, created_at=<django.db.models.expressions.DatabaseDefault object at 0x163a799a0>),\n",
       " Reference(uid='de3pzhSwo3xe', name='RNAseq data from the bladder of a 42-year-old black or african american female', is_type=False, doi='10.35079/HBM442.CCQM.828', date=2023-06-12, space_id=1, created_by_id=5, run_id=27, created_at=<django.db.models.expressions.DatabaseDefault object at 0x163a79cd0>),\n",
       " Reference(uid='QrOkk3JiCRf3', name='RNAseq data from the bladder of a 50-year-old white female', is_type=False, doi='10.35079/HBM444.BDNR.387', date=2023-06-12, space_id=1, created_by_id=5, run_id=27, created_at=<django.db.models.expressions.DatabaseDefault object at 0x163a79bb0>),\n",
       " Reference(uid='h40vVFF0E7l1', name='RNAseq data from the small intestine of a 67-year-old white female', is_type=False, doi='10.35079/HBM928.PDBD.287', date=2022-11-30, space_id=1, created_by_id=5, run_id=27, created_at=<django.db.models.expressions.DatabaseDefault object at 0x163a786e0>),\n",
       " Reference(uid='GoLFL3aFPzZu', name='RNAseq data from the spleen of a 18-year-old white male', is_type=False, doi='10.35079/HBM992.DRDZ.999', date=2021-05-02, space_id=1, created_by_id=5, run_id=27, created_at=<django.db.models.expressions.DatabaseDefault object at 0x163a785f0>),\n",
       " Reference(uid='Lh4F6CelqSQ8', name='RNAseq data from the large intestine of a 24-year-old white female', is_type=False, doi='10.35079/HBM338.HJRC.646', date=2021-04-21, space_id=1, created_by_id=5, run_id=27, created_at=<django.db.models.expressions.DatabaseDefault object at 0x163cdf530>),\n",
       " Reference(uid='KplKmqDxkB5v', name='RNAseq data from the small intestine of a 24-year-old white female', is_type=False, doi='10.35079/HBM955.HLLV.597', date=2023-04-11, space_id=1, created_by_id=5, run_id=27, created_at=<django.db.models.expressions.DatabaseDefault object at 0x163a79ac0>),\n",
       " Reference(uid='lo26HNdalcS0', name='RNAseq data from the large intestine of a 24-year-old white female', is_type=False, doi='10.35079/HBM394.NMWZ.594', date=2021-04-21, space_id=1, created_by_id=5, run_id=27, created_at=<django.db.models.expressions.DatabaseDefault object at 0x163a7a960>),\n",
       " Reference(uid='AR1iiT2FR9JD', name='RNAseq data from the small intestine of a 67-year-old white female', is_type=False, doi='10.35079/HBM575.GQQG.346', date=2022-11-30, space_id=1, created_by_id=5, run_id=27, created_at=<django.db.models.expressions.DatabaseDefault object at 0x163a7aae0>),\n",
       " Reference(uid='6zb1jg59nklX', name='RNAseq data from the heart of a 51-year-old white male', is_type=False, doi='10.35079/HBM849.TWBF.722', date=2022-03-01, space_id=1, created_by_id=5, run_id=27, created_at=<django.db.models.expressions.DatabaseDefault object at 0x163a7ad50>),\n",
       " Reference(uid='5D4buwD3uXiD', name='RNAseq data from the large intestine of a 37-year-old white male', is_type=False, doi='10.35079/HBM477.KVFD.827', date=2022-10-26, space_id=1, created_by_id=5, run_id=27, created_at=<django.db.models.expressions.DatabaseDefault object at 0x163a79ca0>),\n",
       " Reference(uid='B1poMyOHnall', name='RNAseq data from the kidney (left) of a 78-year-old white male', is_type=False, doi='10.35079/HBM729.TFXC.825', date=2023-04-10, space_id=1, created_by_id=5, run_id=27, created_at=<django.db.models.expressions.DatabaseDefault object at 0x163a7ad80>),\n",
       " Reference(uid='4CSnKArGsBTr', name='RNAseq data from the small intestine of a 37-year-old white male', is_type=False, doi='10.35079/HBM638.CDHV.585', date=2022-10-26, space_id=1, created_by_id=5, run_id=27, created_at=<django.db.models.expressions.DatabaseDefault object at 0x163a7ae10>),\n",
       " Reference(uid='bPMECOVWcXnN', name='RNAseq data from the small intestine of a 37-year-old white male', is_type=False, doi='10.35079/HBM879.DFQN.248', date=2022-10-26, space_id=1, created_by_id=5, run_id=27, created_at=<django.db.models.expressions.DatabaseDefault object at 0x163a7a300>),\n",
       " Reference(uid='QwPeJy3KaFok', name='RNAseq data from the large intestine of a 37-year-old white male', is_type=False, doi='10.35079/HBM373.VTNH.683', date=2022-10-26, space_id=1, created_by_id=5, run_id=27, created_at=<django.db.models.expressions.DatabaseDefault object at 0x163a7b4a0>),\n",
       " Reference(uid='zQLTdBQTPOS4', name='RNAseq data from the thymus of a 14-year-old black or african american female', is_type=False, doi='10.35079/HBM895.WHGJ.263', date=2020-08-22, space_id=1, created_by_id=5, run_id=27, created_at=<django.db.models.expressions.DatabaseDefault object at 0x163a7b5c0>),\n",
       " Reference(uid='VCFE4dgksuGZ', name='RNAseq data from the kidney (right) of a 57-year-old white female', is_type=False, doi='10.35079/HBM797.PDPS.368', date=2021-06-29, space_id=1, created_by_id=5, run_id=27, created_at=<django.db.models.expressions.DatabaseDefault object at 0x163a7a660>),\n",
       " Reference(uid='56WxkSPXUcZ5', name='RNAseq data from the kidney (left) of a 66-year-old white male', is_type=False, doi='10.35079/HBM734.NTJP.672', date=2023-04-10, space_id=1, created_by_id=5, run_id=27, created_at=<django.db.models.expressions.DatabaseDefault object at 0x163a7b830>),\n",
       " Reference(uid='FUomEAStIy4k', name='RNAseq data from the kidney (left) of a 66-year-old white male', is_type=False, doi='10.35079/HBM393.CCBZ.572', date=2023-04-10, space_id=1, created_by_id=5, run_id=27, created_at=<django.db.models.expressions.DatabaseDefault object at 0x163a7af60>),\n",
       " Reference(uid='ZKo7mdJSa0cT', name='RNAseq data from the small intestine of a 78-year-old black or african american male', is_type=False, doi='10.35079/HBM774.KLGK.828', date=2023-04-11, space_id=1, created_by_id=5, run_id=27, created_at=<django.db.models.expressions.DatabaseDefault object at 0x163a78650>),\n",
       " Reference(uid='SAQB8cBCINGe', name='RNAseq data from the large intestine of a 78-year-old black or african american male', is_type=False, doi='10.35079/HBM553.DVSQ.754', date=2022-11-30, space_id=1, created_by_id=5, run_id=27, created_at=<django.db.models.expressions.DatabaseDefault object at 0x163a7bd40>),\n",
       " Reference(uid='FK8kUTgddSIj', name='RNAseq data from the kidney (right) of a 59-year-old white female', is_type=False, doi='10.35079/HBM839.TQNM.958', date=2021-06-29, space_id=1, created_by_id=5, run_id=27, created_at=<django.db.models.expressions.DatabaseDefault object at 0x163a7be30>),\n",
       " Reference(uid='P3cb1q3tmJ7X', name='RNAseq data from the kidney (left) of a 76-year-old white male', is_type=False, doi='10.35079/HBM773.WCXC.264', date=2021-06-29, space_id=1, created_by_id=5, run_id=27, created_at=<django.db.models.expressions.DatabaseDefault object at 0x163a7bd70>),\n",
       " Reference(uid='RnOKuhYNwFZv', name='RNAseq data from the lung (right) of a 37-year-old black or african american male', is_type=False, doi='10.35079/HBM246.DMSS.835', date=2021-06-29, space_id=1, created_by_id=5, run_id=27, created_at=<django.db.models.expressions.DatabaseDefault object at 0x163a7be00>),\n",
       " Reference(uid='uIoUY9KNhogH', name='RNAseq data from the spleen of a 20-year-old white male', is_type=False, doi='10.35079/HBM962.BSVN.575', date=2021-05-02, space_id=1, created_by_id=5, run_id=27, created_at=<django.db.models.expressions.DatabaseDefault object at 0x163a7bb60>),\n",
       " Reference(uid='6ZGuBpC8MPuA', name='RNAseq data from the spleen of a 10-year-old white male', is_type=False, doi='10.35079/HBM929.BRVT.339', date=2021-05-02, space_id=1, created_by_id=5, run_id=27, created_at=<django.db.models.expressions.DatabaseDefault object at 0x163ce4320>),\n",
       " Reference(uid='aHSd2TE5iXM9', name='RNAseq data from the lung (right) of a 37-year-old black or african american male', is_type=False, doi='10.35079/HBM475.LXDL.227', date=2021-06-29, space_id=1, created_by_id=5, run_id=27, created_at=<django.db.models.expressions.DatabaseDefault object at 0x163ce4350>),\n",
       " Reference(uid='QS7JvAy6NVUC', name='RNAseq data from the liver of a 41-year-old white female', is_type=False, doi='10.35079/HBM482.PNPS.853', date=2022-03-03, space_id=1, created_by_id=5, run_id=27, created_at=<django.db.models.expressions.DatabaseDefault object at 0x163a79100>),\n",
       " Reference(uid='ImYjbSqhTiQg', name='RNAseq data from the kidney (left) of a 63-year-old white female', is_type=False, doi='10.35079/HBM382.HNKL.447', date=2021-06-29, space_id=1, created_by_id=5, run_id=27, created_at=<django.db.models.expressions.DatabaseDefault object at 0x163ce4560>),\n",
       " Reference(uid='tWw4CgZg42B4', name='RNAseq data from the kidney (left) of a 69-year-old white female', is_type=False, doi='10.35079/HBM982.TPNQ.737', date=2021-06-29, space_id=1, created_by_id=5, run_id=27, created_at=<django.db.models.expressions.DatabaseDefault object at 0x163a7b290>),\n",
       " Reference(uid='7Soyy3mbwI3N', name='RNAseq data from the spleen of a 21-year-old black or african american female', is_type=False, doi='10.35079/HBM267.GWND.796', date=2021-05-02, space_id=1, created_by_id=5, run_id=27, created_at=<django.db.models.expressions.DatabaseDefault object at 0x163ce44a0>),\n",
       " Reference(uid='ACUWqZ0dkpTt', name='RNAseq data from the lymph node of a 21-year-old black or african american female', is_type=False, doi='10.35079/HBM844.GDWH.846', date=2021-05-02, space_id=1, created_by_id=5, run_id=27, created_at=<django.db.models.expressions.DatabaseDefault object at 0x163ce4e90>),\n",
       " Reference(uid='1KzbEnxBmcjJ', name='RNAseq data from the kidney (right) of a 67-year-old white male', is_type=False, doi='10.35079/HBM835.CLRW.587', date=2023-04-10, space_id=1, created_by_id=5, run_id=27, created_at=<django.db.models.expressions.DatabaseDefault object at 0x163ce5010>),\n",
       " Reference(uid='y7KizebtWevX', name='RNAseq data from the kidney (left) of a 56-year-old black or african american male', is_type=False, doi='10.35079/HBM793.VKVL.982', date=2023-04-10, space_id=1, created_by_id=5, run_id=27, created_at=<django.db.models.expressions.DatabaseDefault object at 0x163ce4f50>),\n",
       " Reference(uid='LVEZxvSvv5Wo', name='RNAseq data from the kidney (right) of a 57-year-old white female', is_type=False, doi='10.35079/HBM425.MSBX.963', date=2023-04-10, space_id=1, created_by_id=5, run_id=27, created_at=<django.db.models.expressions.DatabaseDefault object at 0x163ce5130>),\n",
       " Reference(uid='2gV2ZcLFgBBJ', name='RNAseq data from the small intestine of a 30-year-old white male', is_type=False, doi='10.35079/HBM684.SLGB.599', date=2022-10-26, space_id=1, created_by_id=5, run_id=27, created_at=<django.db.models.expressions.DatabaseDefault object at 0x163ce4a40>),\n",
       " Reference(uid='5WiGFXeWjCXh', name='RNAseq data from the small intestine of a 37-year-old white male', is_type=False, doi='10.35079/HBM657.XWQQ.636', date=2022-10-26, space_id=1, created_by_id=5, run_id=27, created_at=<django.db.models.expressions.DatabaseDefault object at 0x163a79e50>),\n",
       " Reference(uid='60dnAS6LTmvD', name='RNAseq data from the small intestine of a 54-year-old black or african american female', is_type=False, doi='10.35079/HBM379.PCLL.836', date=2022-10-26, space_id=1, created_by_id=5, run_id=27, created_at=<django.db.models.expressions.DatabaseDefault object at 0x163ce5910>),\n",
       " Reference(uid='KXl43EixcQEP', name='RNAseq data from the large intestine of a 24-year-old white male', is_type=False, doi='10.35079/HBM925.FQDP.328', date=2022-10-26, space_id=1, created_by_id=5, run_id=27, created_at=<django.db.models.expressions.DatabaseDefault object at 0x163ce49e0>),\n",
       " Reference(uid='vfyWKc5hcyjG', name='RNAseq data from the small intestine of a 24-year-old white male', is_type=False, doi='10.35079/HBM373.FZMG.625', date=2022-10-26, space_id=1, created_by_id=5, run_id=27, created_at=<django.db.models.expressions.DatabaseDefault object at 0x163ce5ac0>),\n",
       " Reference(uid='SHHLYd50kJHD', name='RNAseq data from the bladder of a 37-year-old unknown male', is_type=False, doi='10.35079/HBM842.GMLJ.679', date=2023-06-12, space_id=1, created_by_id=5, run_id=27, created_at=<django.db.models.expressions.DatabaseDefault object at 0x163ce5070>),\n",
       " Reference(uid='NO23MMeCCuBH', name='RNAseq data from the knee (right) of a 20-year-old unknown male', is_type=False, doi='10.35079/HBM739.WHPN.858', date=2023-12-18, space_id=1, created_by_id=5, run_id=27, created_at=<django.db.models.expressions.DatabaseDefault object at 0x163ce5e80>),\n",
       " Reference(uid='OI5HxflSnl3v', name='RNAseq data from the knee (left) of a 56-year-old white male', is_type=False, doi='10.35079/HBM233.CCCX.767', date=2022-09-22, space_id=1, created_by_id=5, run_id=27, created_at=<django.db.models.expressions.DatabaseDefault object at 0x163ce5d90>),\n",
       " Reference(uid='MvAM8NFKEdEd', name='RNAseq data from the knee (right) of a 31-year-old black or african american female', is_type=False, doi='10.35079/HBM925.GSZJ.498', date=2023-12-18, space_id=1, created_by_id=5, run_id=27, created_at=<django.db.models.expressions.DatabaseDefault object at 0x163ce61b0>),\n",
       " Reference(uid='dLLbn5dLFNtI', name='RNAseq data from the bladder of a 25-year-old white female', is_type=False, doi='10.35079/HBM866.XBSS.429', date=2023-06-12, space_id=1, created_by_id=5, run_id=27, created_at=<django.db.models.expressions.DatabaseDefault object at 0x163ce61e0>),\n",
       " Reference(uid='oeUl6LYaWWY6', name='RNAseq data from the knee (right) of a 27-year-old white female', is_type=False, doi='10.35079/HBM857.TXSL.447', date=2023-12-18, space_id=1, created_by_id=5, run_id=27, created_at=<django.db.models.expressions.DatabaseDefault object at 0x163ce5fd0>),\n",
       " Reference(uid='2J4TS9m7rejI', name='RNAseq data from the lymph node of a 18-year-old white male', is_type=False, doi='10.35079/HBM978.DVCP.278', date=2021-05-02, space_id=1, created_by_id=5, run_id=27, created_at=<django.db.models.expressions.DatabaseDefault object at 0x163ce64e0>),\n",
       " Reference(uid='StPy7xG5wAkz', name='RNAseq data from the spleen of a 18-year-old white male', is_type=False, doi='10.35079/HBM295.MMTQ.529', date=2021-05-02, space_id=1, created_by_id=5, run_id=27, created_at=<django.db.models.expressions.DatabaseDefault object at 0x163ce6210>),\n",
       " Reference(uid='1R9Skol3GCuB', name='RNAseq data from the large intestine of a 24-year-old white female', is_type=False, doi='10.35079/HBM329.LFSX.674', date=2023-04-11, space_id=1, created_by_id=5, run_id=27, created_at=<django.db.models.expressions.DatabaseDefault object at 0x163a7b740>),\n",
       " Reference(uid='R1lO1YjzW6jT', name='RNAseq data from the small intestine of a 24-year-old white female', is_type=False, doi='10.35079/HBM479.LFNT.246', date=2022-11-30, space_id=1, created_by_id=5, run_id=27, created_at=<django.db.models.expressions.DatabaseDefault object at 0x163ce6bd0>),\n",
       " Reference(uid='1AuC1i6fN6DO', name='RNAseq data from the small intestine of a 38-year-old white male', is_type=False, doi='10.35079/HBM493.KSXW.563', date=2022-11-30, space_id=1, created_by_id=5, run_id=27, created_at=<django.db.models.expressions.DatabaseDefault object at 0x163ce6d20>),\n",
       " Reference(uid='Ag26oKqrGYpp', name='RNAseq data from the large intestine of a 38-year-old white male', is_type=False, doi='10.35079/HBM786.RRSH.472', date=2023-04-27, space_id=1, created_by_id=5, run_id=27, created_at=<django.db.models.expressions.DatabaseDefault object at 0x163ce57c0>),\n",
       " Reference(uid='XVg3zaiNNs0E', name='RNAseq data from the large intestine of a 38-year-old white male', is_type=False, doi='10.35079/HBM496.NWMZ.649', date=2023-04-27, space_id=1, created_by_id=5, run_id=27, created_at=<django.db.models.expressions.DatabaseDefault object at 0x163ce5370>),\n",
       " Reference(uid='5c70tMJWnlLm', name='RNAseq data from the heart of a 60-year-old black or african american male', is_type=False, doi='10.35079/HBM737.WSXM.893', date=2022-03-01, space_id=1, created_by_id=5, run_id=27, created_at=<django.db.models.expressions.DatabaseDefault object at 0x163ce6d50>),\n",
       " Reference(uid='zQoeauMu03qk', name='RNAseq data from the heart of a 43-year-old white male', is_type=False, doi='10.35079/HBM788.XLZL.369', date=2022-03-01, space_id=1, created_by_id=5, run_id=27, created_at=<django.db.models.expressions.DatabaseDefault object at 0x163ce60c0>),\n",
       " Reference(uid='XddPwHPS6Lw2', name='RNAseq data from the heart of a 25-year-old white female', is_type=False, doi='10.35079/HBM865.KZMC.828', date=2022-03-01, space_id=1, created_by_id=5, run_id=27, created_at=<django.db.models.expressions.DatabaseDefault object at 0x163a7abd0>),\n",
       " Reference(uid='n0at75rL5YEE', name='RNAseq data from the kidney (left) of a 40-year-old white female', is_type=False, doi='10.35079/HBM476.PRMC.228', date=2023-04-10, space_id=1, created_by_id=5, run_id=27, created_at=<django.db.models.expressions.DatabaseDefault object at 0x163ce5a30>),\n",
       " Reference(uid='P2kLuuKF86Tb', name='RNAseq data from the heart of a 37-year-old white male', is_type=False, doi='10.35079/HBM854.LQKL.226', date=2022-12-15, space_id=1, created_by_id=5, run_id=27, created_at=<django.db.models.expressions.DatabaseDefault object at 0x163ce65a0>),\n",
       " Reference(uid='2wjOEwFSrVY9', name='RNAseq data from the kidney (left) of a 45-year-old white female', is_type=False, doi='10.35079/HBM399.TFTQ.282', date=2021-06-29, space_id=1, created_by_id=5, run_id=27, created_at=<django.db.models.expressions.DatabaseDefault object at 0x163ce66c0>),\n",
       " Reference(uid='rCTnnWAGWIUj', name='RNAseq data from the kidney (left) of a 14-year-old white female', is_type=False, doi='10.35079/HBM764.ZCQR.585', date=2021-06-29, space_id=1, created_by_id=5, run_id=27, created_at=<django.db.models.expressions.DatabaseDefault object at 0x163ce7ce0>),\n",
       " Reference(uid='JpzYeoxLhSnV', name='RNAseq data from the large intestine of a 78-year-old black or african american male', is_type=False, doi='10.35079/HBM998.WTJK.564', date=2021-04-21, space_id=1, created_by_id=5, run_id=27, created_at=<django.db.models.expressions.DatabaseDefault object at 0x163ce6f30>),\n",
       " Reference(uid='f7FHFTW0AeN8', name='RNAseq data from the small intestine of a 78-year-old black or african american male', is_type=False, doi='10.35079/HBM895.FSVF.555', date=2022-11-30, space_id=1, created_by_id=5, run_id=27, created_at=<django.db.models.expressions.DatabaseDefault object at 0x163ce7fe0>),\n",
       " Reference(uid='kaMsWougEUGY', name='RNAseq data from the large intestine of a 78-year-old black or african american male', is_type=False, doi='10.35079/HBM356.HJJX.599', date=2023-04-11, space_id=1, created_by_id=5, run_id=27, created_at=<django.db.models.expressions.DatabaseDefault object at 0x163ce7d40>),\n",
       " Reference(uid='DRAl7k8vpJbC', name='RNAseq data from the small intestine of a 78-year-old black or african american male', is_type=False, doi='10.35079/HBM543.QTVF.423', date=2022-11-30, space_id=1, created_by_id=5, run_id=27, created_at=<django.db.models.expressions.DatabaseDefault object at 0x163cf0440>),\n",
       " Reference(uid='NqEjXEekZlQe', name='RNAseq data from the large intestine of a 78-year-old black or african american male', is_type=False, doi='10.35079/HBM778.QZPM.472', date=2021-04-21, space_id=1, created_by_id=5, run_id=27, created_at=<django.db.models.expressions.DatabaseDefault object at 0x163ce7fb0>),\n",
       " Reference(uid='5Sx5mlHP5I8c', name='RNAseq data from the large intestine of a 78-year-old black or african american male', is_type=False, doi='10.35079/HBM393.FCNB.633', date=2021-04-21, space_id=1, created_by_id=5, run_id=27, created_at=<django.db.models.expressions.DatabaseDefault object at 0x163cf0950>),\n",
       " Reference(uid='d1HZSzfX97p4', name='RNAseq data from the kidney (right) of a 59-year-old white female', is_type=False, doi='10.35079/HBM689.QPMR.542', date=2023-04-10, space_id=1, created_by_id=5, run_id=27, created_at=<django.db.models.expressions.DatabaseDefault object at 0x163cf09e0>),\n",
       " Reference(uid='Blidq1FqeK2q', name='RNAseq data from the kidney (left) of a 76-year-old white male', is_type=False, doi='10.35079/HBM224.GLDC.549', date=2021-06-29, space_id=1, created_by_id=5, run_id=27, created_at=<django.db.models.expressions.DatabaseDefault object at 0x163cf0920>),\n",
       " Reference(uid='6suwN9SVLnsk', name='RNAseq data from the lung (right) of a 37-year-old black or african american male', is_type=False, doi='10.35079/HBM432.RXTV.994', date=2021-06-29, space_id=1, created_by_id=5, run_id=27, created_at=<django.db.models.expressions.DatabaseDefault object at 0x163ce7bf0>),\n",
       " Reference(uid='A3oiQTiJaTJ6', name='RNAseq data from the lung (right) of a 37-year-old black or african american male', is_type=False, doi='10.35079/HBM526.VJKT.388', date=2021-06-29, space_id=1, created_by_id=5, run_id=27, created_at=<django.db.models.expressions.DatabaseDefault object at 0x163cf0fb0>),\n",
       " Reference(uid='O1qi6xMriuql', name='RNAseq data from the liver of a 26-year-old black or african american male', is_type=False, doi='10.35079/HBM493.GFHZ.686', date=2022-03-03, space_id=1, created_by_id=5, run_id=27, created_at=<django.db.models.expressions.DatabaseDefault object at 0x163cf1100>),\n",
       " Reference(uid='LlboWnbxwdmt', name='RNAseq data from the heart of a 43-year-old white female', is_type=False, doi='10.35079/HBM645.XLLN.924', date=2022-03-01, space_id=1, created_by_id=5, run_id=27, created_at=<django.db.models.expressions.DatabaseDefault object at 0x163cf11f0>),\n",
       " Reference(uid='kss5Btqu0Rqq', name='RNAseq data from the kidney (left) of a 55-year-old white female', is_type=False, doi='10.35079/HBM542.DVXG.466', date=2023-04-10, space_id=1, created_by_id=5, run_id=27, created_at=<django.db.models.expressions.DatabaseDefault object at 0x163cf15e0>),\n",
       " Reference(uid='uzulTSYL9OUD', name='RNAseq data from the kidney (left) of a 55-year-old white female', is_type=False, doi='10.35079/HBM442.SBCR.983', date=2023-04-10, space_id=1, created_by_id=5, run_id=27, created_at=<django.db.models.expressions.DatabaseDefault object at 0x163cf16a0>),\n",
       " Reference(uid='03avc7CFNw3j', name='RNAseq data from the bladder of a 18-year-old white male', is_type=False, doi='10.35079/HBM643.VTBF.566', date=2023-06-12, space_id=1, created_by_id=5, run_id=27, created_at=<django.db.models.expressions.DatabaseDefault object at 0x163cf1850>),\n",
       " Reference(uid='S8bswLC52Vd3', name='RNAseq data from the kidney (right) of a 54-year-old black or african american female', is_type=False, doi='10.35079/HBM545.PQSZ.997', date=2023-04-10, space_id=1, created_by_id=5, run_id=27, created_at=<django.db.models.expressions.DatabaseDefault object at 0x163cf1af0>),\n",
       " Reference(uid='gxbmT4VIwsEh', name='RNAseq data from the kidney (left) of a 54-year-old white male', is_type=False, doi='10.35079/HBM892.MXFF.848', date=2021-06-29, space_id=1, created_by_id=5, run_id=27, created_at=<django.db.models.expressions.DatabaseDefault object at 0x163ce77d0>),\n",
       " Reference(uid='TN7haLySE63H', name='RNAseq data from the spleen of a 10-year-old white male', is_type=False, doi='10.35079/HBM727.CLDW.546', date=2021-05-02, space_id=1, created_by_id=5, run_id=27, created_at=<django.db.models.expressions.DatabaseDefault object at 0x163cf1970>),\n",
       " Reference(uid='zMcAIQ2NsTl6', name='RNAseq data from the kidney (right) of a 67-year-old white male', is_type=False, doi='10.35079/HBM426.HLCN.236', date=2023-04-10, space_id=1, created_by_id=5, run_id=27, created_at=<django.db.models.expressions.DatabaseDefault object at 0x163ce7e60>),\n",
       " Reference(uid='3UdIDjztkk8n', name='RNAseq data from the small intestine of a 30-year-old white male', is_type=False, doi='10.35079/HBM346.LSFW.324', date=2022-10-26, space_id=1, created_by_id=5, run_id=27, created_at=<django.db.models.expressions.DatabaseDefault object at 0x163cf1a00>),\n",
       " Reference(uid='AFDwjccpET2P', name='RNAseq data from the large intestine of a 37-year-old white male', is_type=False, doi='10.35079/HBM247.JTNN.859', date=2022-10-26, space_id=1, created_by_id=5, run_id=27, created_at=<django.db.models.expressions.DatabaseDefault object at 0x163cf20c0>),\n",
       " Reference(uid='MmRkYc9N4Ylk', name='RNAseq data from the large intestine of a 37-year-old white male', is_type=False, doi='10.35079/HBM745.GCNN.553', date=2022-10-26, space_id=1, created_by_id=5, run_id=27, created_at=<django.db.models.expressions.DatabaseDefault object at 0x163cf24b0>),\n",
       " Reference(uid='rPrUqGsd51bK', name='RNAseq data from the large intestine of a 54-year-old black or african american female', is_type=False, doi='10.35079/HBM545.QLKW.543', date=2022-10-26, space_id=1, created_by_id=5, run_id=27, created_at=<django.db.models.expressions.DatabaseDefault object at 0x163cf2780>),\n",
       " Reference(uid='dgXZ3T5Ax9X9', name='RNAseq data from the large intestine of a 54-year-old black or african american female', is_type=False, doi='10.35079/HBM322.TNGF.859', date=2022-10-26, space_id=1, created_by_id=5, run_id=27, created_at=<django.db.models.expressions.DatabaseDefault object at 0x163cf29c0>),\n",
       " Reference(uid='br3XwpBuL5i9', name='RNAseq data from the small intestine of a 37-year-old white male', is_type=False, doi='10.35079/HBM569.FMVR.429', date=2022-10-26, space_id=1, created_by_id=5, run_id=27, created_at=<django.db.models.expressions.DatabaseDefault object at 0x163cf28d0>),\n",
       " Reference(uid='6I0Wws6mYhMC', name='RNAseq data from the small intestine of a 37-year-old white male', is_type=False, doi='10.35079/HBM892.VLVC.242', date=2022-10-26, space_id=1, created_by_id=5, run_id=27, created_at=<django.db.models.expressions.DatabaseDefault object at 0x163cf2b70>),\n",
       " Reference(uid='2hmTpx4CcILs', name='RNAseq data from the large intestine of a 24-year-old white male', is_type=False, doi='10.35079/HBM599.CXNC.464', date=2022-10-26, space_id=1, created_by_id=5, run_id=27, created_at=<django.db.models.expressions.DatabaseDefault object at 0x163cf2990>),\n",
       " Reference(uid='GxHDfhMsWx83', name='RNAseq data from the small intestine of a 54-year-old black or african american female', is_type=False, doi='10.35079/HBM439.LWSZ.467', date=2022-10-26, space_id=1, created_by_id=5, run_id=27, created_at=<django.db.models.expressions.DatabaseDefault object at 0x163cf2a80>),\n",
       " Reference(uid='IPVxaOVOzBFK', name='RNAseq data from the bladder of a 17-month-old white female', is_type=False, doi='10.35079/HBM233.HFFF.796', date=2023-06-12, space_id=1, created_by_id=5, run_id=27, created_at=<django.db.models.expressions.DatabaseDefault object at 0x163cf2ed0>),\n",
       " Reference(uid='sp6gvxZMszR8', name='RNAseq data from the knee (right) of a 49-year-old white male', is_type=False, doi='10.35079/HBM837.FPWJ.865', date=2022-09-22, space_id=1, created_by_id=5, run_id=27, created_at=<django.db.models.expressions.DatabaseDefault object at 0x163cf3080>),\n",
       " Reference(uid='CY6T0yeftnt1', name='RNAseq data from the spleen of a 18-year-old black or african american male', is_type=False, doi='10.35079/HBM749.WHLC.649', date=2020-08-22, space_id=1, created_by_id=5, run_id=27, created_at=<django.db.models.expressions.DatabaseDefault object at 0x163cf1940>),\n",
       " Reference(uid='S5wuF9Y09Zhl', name='RNAseq data from the large intestine of a 67-year-old white female', is_type=False, doi='10.35079/HBM469.MMFJ.248', date=2020-08-22, space_id=1, created_by_id=5, run_id=27, created_at=<django.db.models.expressions.DatabaseDefault object at 0x163cf31a0>),\n",
       " Reference(uid='VN5CWeQ7DMa2', name='RNAseq data from the spleen of a 1-year-old white male', is_type=False, doi='10.35079/HBM472.NTNN.543', date=2020-08-22, space_id=1, created_by_id=5, run_id=27, created_at=<django.db.models.expressions.DatabaseDefault object at 0x163cf1e50>),\n",
       " Reference(uid='pThA0UVN8tHO', name='RNAseq data from the thymus of a 1-year-old white male', is_type=False, doi='10.35079/HBM373.RTKK.586', date=2020-08-22, space_id=1, created_by_id=5, run_id=27, created_at=<django.db.models.expressions.DatabaseDefault object at 0x163cf3ad0>),\n",
       " Reference(uid='kWXa47jXGFGg', name='RNAseq data from the spleen of a 18-year-old black or african american male', is_type=False, doi='10.35079/HBM556.QMSM.776', date=2020-08-22, space_id=1, created_by_id=5, run_id=27, created_at=<django.db.models.expressions.DatabaseDefault object at 0x163cf3920>),\n",
       " Reference(uid='3DLSxWKcKYHd', name='RNAseq data from the spleen of a 18-year-old black or african american male', is_type=False, doi='10.35079/HBM336.FWTN.636', date=2020-08-22, space_id=1, created_by_id=5, run_id=27, created_at=<django.db.models.expressions.DatabaseDefault object at 0x163cf3b90>),\n",
       " Reference(uid='PwxfBXbdNdme', name='RNAseq data from the large intestine of a 24-year-old white female', is_type=False, doi='10.35079/HBM688.VFBR.562', date=2023-04-10, space_id=1, created_by_id=5, run_id=27, created_at=<django.db.models.expressions.DatabaseDefault object at 0x163cf3da0>),\n",
       " Reference(uid='ACGwgb5KjzYq', name='RNAseq data from the large intestine of a 38-year-old white male', is_type=False, doi='10.35079/HBM433.TSNT.433', date=2023-04-27, space_id=1, created_by_id=5, run_id=27, created_at=<django.db.models.expressions.DatabaseDefault object at 0x163cf3e90>),\n",
       " Reference(uid='SWEzv8SH8EyV', name='RNAseq data from the heart of a 55-year-old white female', is_type=False, doi='10.35079/HBM625.PTSS.252', date=2022-03-01, space_id=1, created_by_id=5, run_id=27, created_at=<django.db.models.expressions.DatabaseDefault object at 0x163cf3f20>),\n",
       " Reference(uid='OXNY3I5CH1C3', name='RNAseq data from the kidney (left) of a 78-year-old white male', is_type=False, doi='10.35079/HBM687.FWNC.555', date=2023-04-10, space_id=1, created_by_id=5, run_id=27, created_at=<django.db.models.expressions.DatabaseDefault object at 0x163cf2d20>),\n",
       " Reference(uid='yFeNp3gVThVE', name='RNAseq data from the lymph node of a 14-year-old black or african american female', is_type=False, doi='10.35079/HBM226.LBVC.946', date=2020-08-22, space_id=1, created_by_id=5, run_id=27, created_at=<django.db.models.expressions.DatabaseDefault object at 0x163cf3a70>),\n",
       " Reference(uid='KUR7arOF3yWJ', name='RNAseq data from the kidney (left) of a 66-year-old white male', is_type=False, doi='10.35079/HBM834.MLPZ.788', date=2023-04-10, space_id=1, created_by_id=5, run_id=27, created_at=<django.db.models.expressions.DatabaseDefault object at 0x163cfc620>),\n",
       " Reference(uid='T3UqZFE6NPnU', name='RNAseq data from the kidney (left) of a 66-year-old white male', is_type=False, doi='10.35079/HBM432.BPZM.698', date=2021-06-29, space_id=1, created_by_id=5, run_id=27, created_at=<django.db.models.expressions.DatabaseDefault object at 0x163cf2e70>),\n",
       " Reference(uid='hDfD8cWjblmb', name='RNAseq data from the small intestine of a 78-year-old black or african american male', is_type=False, doi='10.35079/HBM639.VPHX.366', date=2022-11-30, space_id=1, created_by_id=5, run_id=27, created_at=<django.db.models.expressions.DatabaseDefault object at 0x163cfc8f0>),\n",
       " Reference(uid='Gpchl2E2zLLn', name='RNAseq data from the kidney (right) of a 57-year-old white male', is_type=False, doi='10.35079/HBM836.FPBQ.686', date=2023-04-10, space_id=1, created_by_id=5, run_id=27, created_at=<django.db.models.expressions.DatabaseDefault object at 0x163cfc3e0>),\n",
       " Reference(uid='EwyoToZjXQVE', name='RNAseq data from the kidney (left) of a 65-year-old white male', is_type=False, doi='10.35079/HBM733.GBWP.269', date=2023-04-10, space_id=1, created_by_id=5, run_id=27, created_at=<django.db.models.expressions.DatabaseDefault object at 0x163cfcdd0>),\n",
       " Reference(uid='Y0LkNqnOXrqk', name='RNAseq data from the large intestine of a 30-year-old white male', is_type=False, doi='10.35079/HBM793.LCCQ.642', date=2022-11-28, space_id=1, created_by_id=5, run_id=27, created_at=<django.db.models.expressions.DatabaseDefault object at 0x163cfcc80>),\n",
       " Reference(uid='VmoyMxSEytTA', name='RNAseq data from the large intestine of a 30-year-old white male', is_type=False, doi='10.35079/HBM233.XQZM.395', date=2022-10-26, space_id=1, created_by_id=5, run_id=27, created_at=<django.db.models.expressions.DatabaseDefault object at 0x163cfd0a0>),\n",
       " Reference(uid='jgKWXzZamQm2', name='RNAseq data from the large intestine of a 37-year-old white male', is_type=False, doi='10.35079/HBM659.GSQR.225', date=2022-10-26, space_id=1, created_by_id=5, run_id=27, created_at=<django.db.models.expressions.DatabaseDefault object at 0x163cfcef0>),\n",
       " Reference(uid='y2fxH2cRW9cH', name='RNAseq data from the small intestine of a 54-year-old black or african american female', is_type=False, doi='10.35079/HBM453.GWNF.247', date=2022-10-26, space_id=1, created_by_id=5, run_id=27, created_at=<django.db.models.expressions.DatabaseDefault object at 0x163cfd130>),\n",
       " Reference(uid='72VpNxozLrN2', name='RNAseq data from the large intestine of a 24-year-old white male', is_type=False, doi='10.35079/HBM655.MFTK.764', date=2022-10-26, space_id=1, created_by_id=5, run_id=27, created_at=<django.db.models.expressions.DatabaseDefault object at 0x163cfd790>),\n",
       " Reference(uid='H9XLLZ5TMmNf', name='RNAseq data from the small intestine of a 24-year-old white male', is_type=False, doi='10.35079/HBM558.BHPZ.328', date=2022-10-26, space_id=1, created_by_id=5, run_id=27, created_at=<django.db.models.expressions.DatabaseDefault object at 0x163cfd9d0>),\n",
       " Reference(uid='lsDjMsBDt1EJ', name='RNAseq data from the bladder of a 19-year-old unknown male', is_type=False, doi='10.35079/HBM325.FBQQ.678', date=2023-06-12, space_id=1, created_by_id=5, run_id=27, created_at=<django.db.models.expressions.DatabaseDefault object at 0x163cfd730>),\n",
       " Reference(uid='qjz0g39Rvd4Q', name='RNAseq data from the bladder of a 22-year-old black or african american male', is_type=False, doi='10.35079/HBM449.JKGC.452', date=2023-06-12, space_id=1, created_by_id=5, run_id=27, created_at=<django.db.models.expressions.DatabaseDefault object at 0x163cfd3d0>),\n",
       " Reference(uid='Vb6XUjOgGDlX', name='RNAseq data from the knee (right) of a 31-year-old black or african american female', is_type=False, doi='10.35079/HBM396.FQJM.676', date=2023-12-18, space_id=1, created_by_id=5, run_id=27, created_at=<django.db.models.expressions.DatabaseDefault object at 0x163cfd070>),\n",
       " Reference(uid='IIngR1uL2kZz', name='RNAseq data from the knee (right) of a 24-year-old unknown male', is_type=False, doi='10.35079/HBM629.QFBP.955', date=2023-12-18, space_id=1, created_by_id=5, run_id=27, created_at=<django.db.models.expressions.DatabaseDefault object at 0x163cfdfd0>),\n",
       " Reference(uid='r8GAtWnrvkhR', name='RNAseq data from the bladder of a 43-year-old white male', is_type=False, doi='10.35079/HBM735.WZWF.739', date=2023-06-12, space_id=1, created_by_id=5, run_id=27, created_at=<django.db.models.expressions.DatabaseDefault object at 0x163cfe0f0>),\n",
       " Reference(uid='M9Wdf5tPwSAo', name='RNAseq data from the kidney (left) of a 76-year-old white male', is_type=False, doi='10.35079/HBM264.RWRW.668', date=2021-06-29, space_id=1, created_by_id=5, run_id=27, created_at=<django.db.models.expressions.DatabaseDefault object at 0x163cfcd10>),\n",
       " Reference(uid='fpq5E7b4fKqG', name='RNAseq data from the kidney (right) of a 29-year-old white male', is_type=False, doi='10.35079/HBM574.NFCS.842', date=2021-06-29, space_id=1, created_by_id=5, run_id=27, created_at=<django.db.models.expressions.DatabaseDefault object at 0x163cfe5a0>),\n",
       " Reference(uid='DYnZaAqVX24u', name='RNAseq data from the kidney (right) of a 29-year-old white male', is_type=False, doi='10.35079/HBM992.XNZH.647', date=2021-06-29, space_id=1, created_by_id=5, run_id=27, created_at=<django.db.models.expressions.DatabaseDefault object at 0x163cf3440>),\n",
       " Reference(uid='USFKde3dP6Wf', name='RNAseq data from the lung (right) of a 37-year-old black or african american male', is_type=False, doi='10.35079/HBM578.ZCCJ.565', date=2021-06-29, space_id=1, created_by_id=5, run_id=27, created_at=<django.db.models.expressions.DatabaseDefault object at 0x163cfcbc0>),\n",
       " Reference(uid='fUrNwqhXU53j', name='RNAseq data from the liver of a 65-year-old white male', is_type=False, doi='10.35079/HBM596.FQNZ.472', date=2022-03-03, space_id=1, created_by_id=5, run_id=27, created_at=<django.db.models.expressions.DatabaseDefault object at 0x163cfe690>),\n",
       " Reference(uid='arpFnhHyPgtd', name='RNAseq data from the heart of a 45-year-old white male', is_type=False, doi='10.35079/HBM725.RHWH.487', date=2022-03-01, space_id=1, created_by_id=5, run_id=27, created_at=<django.db.models.expressions.DatabaseDefault object at 0x163cfe780>),\n",
       " Reference(uid='yjaHXXoHdKKl', name='RNAseq data from the spleen of a 21-year-old black or african american female', is_type=False, doi='10.35079/HBM263.TLLN.467', date=2021-05-02, space_id=1, created_by_id=5, run_id=27, created_at=<django.db.models.expressions.DatabaseDefault object at 0x163cfec90>)]"
      ]
     },
     "execution_count": 4,
     "metadata": {},
     "output_type": "execute_result"
    }
   ],
   "source": [
    "references"
   ]
  },
  {
   "cell_type": "code",
   "execution_count": 5,
   "id": "ddec43a1",
   "metadata": {},
   "outputs": [],
   "source": [
    "ln.save(references)"
   ]
  },
  {
   "cell_type": "code",
   "execution_count": 6,
   "id": "4459d084",
   "metadata": {},
   "outputs": [
    {
     "data": {
      "text/plain": [
       "210"
      ]
     },
     "execution_count": 6,
     "metadata": {},
     "output_type": "execute_result"
    }
   ],
   "source": [
    "ln.Reference.filter(run_id=ln.context.run.id).count()"
   ]
  },
  {
   "cell_type": "markdown",
   "id": "b908930b",
   "metadata": {},
   "source": [
    "## Tissue"
   ]
  },
  {
   "cell_type": "code",
   "execution_count": 7,
   "id": "16ad1e59",
   "metadata": {},
   "outputs": [
    {
     "data": {
      "text/plain": [
       "array(['TH', 'LI', 'LY', 'SI', 'SP', 'HT', 'LK', 'RK', 'LN', 'RN', 'BL',\n",
       "       'RL', 'LV'], dtype=object)"
      ]
     },
     "execution_count": 7,
     "metadata": {},
     "output_type": "execute_result"
    }
   ],
   "source": [
    "meta_df.organ.unique()"
   ]
  },
  {
   "cell_type": "code",
   "execution_count": 8,
   "id": "a753af96",
   "metadata": {},
   "outputs": [],
   "source": [
    "mapper = {\n",
    "    \"LY\": \"lymph node\",\n",
    "    \"TH\": \"thymus\",\n",
    "    \"LI\": \"large intestine\",\n",
    "    \"SI\": \"small intestine\",\n",
    "    \"SP\": \"spleen\",\n",
    "    \"HT\": \"heart\",\n",
    "    \"LK\": \"kidney (left)\",\n",
    "    \"RK\": \"kidney (right)\",\n",
    "    \"LL\": \"lung (left)\",\n",
    "    \"RL\": \"lung (right)\",\n",
    "    \"LV\": \"liver\",\n",
    "    \"LN\": \"knee (left)\",\n",
    "    \"RN\": \"knee (right)\",\n",
    "    \"BL\": \"bladder organ\",\n",
    "}\n",
    "meta_df[\"tissue\"] = meta_df.organ.map(mapper)"
   ]
  },
  {
   "cell_type": "code",
   "execution_count": 9,
   "id": "cc88d97e",
   "metadata": {},
   "outputs": [],
   "source": [
    "try:\n",
    "    ln.settings.creation.search_names = False\n",
    "    for name in [\n",
    "        \"kidney (left)\",\n",
    "        \"kidney (right)\",\n",
    "        \"lung (right)\",\n",
    "        \"knee (right)\",\n",
    "        \"knee (left)\",\n",
    "    ]:\n",
    "        tissue = bt.Tissue.filter(name=name).one_or_none()\n",
    "        if tissue is None:\n",
    "            tissue = bt.Tissue(name=name).save()\n",
    "            parent = bt.Tissue.using(\"laminlabs/hubmap\").get(name=name.split(\" \")[0])\n",
    "            tissue.parents.add(parent)\n",
    "finally:\n",
    "    ln.settings.creation.search_names = True"
   ]
  },
  {
   "cell_type": "code",
   "execution_count": 10,
   "id": "9fa9c2df",
   "metadata": {},
   "outputs": [
    {
     "data": {
      "text/plain": [
       "[]"
      ]
     },
     "execution_count": 10,
     "metadata": {},
     "output_type": "execute_result"
    }
   ],
   "source": [
    "bt.Tissue.inspect(meta_df.tissue).non_validated"
   ]
  },
  {
   "cell_type": "code",
   "execution_count": 11,
   "id": "62768ab0",
   "metadata": {},
   "outputs": [
    {
     "data": {
      "text/plain": [
       "0"
      ]
     },
     "execution_count": 11,
     "metadata": {},
     "output_type": "execute_result"
    }
   ],
   "source": [
    "bt.Tissue.filter(run_id=ln.context.run.id).count()"
   ]
  },
  {
   "cell_type": "markdown",
   "id": "d2649347",
   "metadata": {},
   "source": [
    "## Ethnicity"
   ]
  },
  {
   "cell_type": "code",
   "execution_count": 12,
   "id": "c66a005d",
   "metadata": {},
   "outputs": [
    {
     "data": {
      "text/plain": [
       "array(['Black or African American', 'White', '', 'Unknown'], dtype=object)"
      ]
     },
     "execution_count": 12,
     "metadata": {},
     "output_type": "execute_result"
    }
   ],
   "source": [
    "meta_df.ethnicity.unique()"
   ]
  },
  {
   "cell_type": "code",
   "execution_count": 13,
   "id": "790dc44c",
   "metadata": {},
   "outputs": [],
   "source": [
    "meta_df[\"ethnicity\"] = meta_df.ethnicity.map(\n",
    "    {\n",
    "        \"\": \"na\",\n",
    "        \"Black or African American\": \"African American\",\n",
    "        \"White\": \"European\",\n",
    "        \"Unknown\": \"unknown\",\n",
    "    }\n",
    ")"
   ]
  },
  {
   "cell_type": "code",
   "execution_count": 15,
   "id": "af957246",
   "metadata": {},
   "outputs": [
    {
     "data": {
      "text/plain": [
       "[]"
      ]
     },
     "execution_count": 15,
     "metadata": {},
     "output_type": "execute_result"
    }
   ],
   "source": [
    "bt.Ethnicity.inspect(meta_df.ethnicity).non_validated"
   ]
  },
  {
   "cell_type": "markdown",
   "id": "25f74071",
   "metadata": {},
   "source": [
    "## Sex"
   ]
  },
  {
   "cell_type": "code",
   "execution_count": 16,
   "id": "0ad06bce",
   "metadata": {},
   "outputs": [
    {
     "data": {
      "text/plain": [
       "array(['Male', 'Female', ''], dtype=object)"
      ]
     },
     "execution_count": 16,
     "metadata": {},
     "output_type": "execute_result"
    }
   ],
   "source": [
    "meta_df[\"sex\"].unique()"
   ]
  },
  {
   "cell_type": "code",
   "execution_count": 17,
   "id": "3b4e5173",
   "metadata": {},
   "outputs": [],
   "source": [
    "meta_df[\"sex\"] = meta_df.sex.str.lower().replace([\"\"], \"unknown\")"
   ]
  },
  {
   "cell_type": "code",
   "execution_count": 18,
   "id": "246a83d8",
   "metadata": {},
   "outputs": [
    {
     "data": {
      "text/plain": [
       "[]"
      ]
     },
     "execution_count": 18,
     "metadata": {},
     "output_type": "execute_result"
    }
   ],
   "source": [
    "bt.Phenotype.inspect(meta_df.sex).non_validated"
   ]
  },
  {
   "cell_type": "markdown",
   "id": "a5aa1de7",
   "metadata": {},
   "source": [
    "## Disease"
   ]
  },
  {
   "cell_type": "code",
   "execution_count": 19,
   "id": "a7e8f2f2",
   "metadata": {},
   "outputs": [
    {
     "data": {
      "text/plain": [
       "['Coronary Heart Disease',\n",
       " 'Type 2 Diabetes Mellitus',\n",
       " 'Hyperlipidimia',\n",
       " 'Chronic Obstructive Lung Disease',\n",
       " 'Liver failure',\n",
       " 'Hypertension',\n",
       " 'Gastrointestinal disease',\n",
       " 'Asthma',\n",
       " 'Type 1 Diabetes Mellitus',\n",
       " 'Obstructive sleep apnea',\n",
       " 'Coronary Artery Disease',\n",
       " 'normal',\n",
       " 'Cardiac Arrest',\n",
       " 'Heart failure with reduced ejection fraction',\n",
       " 'Kidney cancer',\n",
       " 'Autistic disorder']"
      ]
     },
     "execution_count": 19,
     "metadata": {},
     "output_type": "execute_result"
    }
   ],
   "source": [
    "diseases = list(set(meta_df.diseases.apply(list).sum()))\n",
    "diseases"
   ]
  },
  {
   "cell_type": "code",
   "execution_count": 20,
   "id": "d6193def",
   "metadata": {},
   "outputs": [
    {
     "name": "stdout",
     "output_type": "stream",
     "text": [
      "... synchronizing df_all__mondo__2024-06-04__Disease.parquet: 100.0%\r"
     ]
    }
   ],
   "source": [
    "synonyms_mapper = bt.Disease.standardize(diseases, return_mapper=True)"
   ]
  },
  {
   "cell_type": "code",
   "execution_count": 21,
   "id": "d0ba122d",
   "metadata": {},
   "outputs": [
    {
     "name": "stdout",
     "output_type": "stream",
     "text": [
      "\u001b[92m→\u001b[0m returning existing Disease record with same name: 'heart failure with reduced ejection fraction'\n"
     ]
    }
   ],
   "source": [
    "# https://www.ebi.ac.uk/ols4/ontologies/snomed/classes/http%253A%252F%252Fsnomed.info%252Fid%252F703272007\n",
    "# note: we use lower case for names to be consistent with mondo\n",
    "bt.Disease(\n",
    "    name=\"heart failure with reduced ejection fraction\", ontology_id=\"SNOMED:703272007\"\n",
    ").save()\n",
    "# the rest we map to mondo\n",
    "synonyms_mapper.update(\n",
    "    {\n",
    "        \"Hypertension\": \"hypertensive disorder\",\n",
    "        \"Hyperlipidimia\": \"hyperlipidemia\",\n",
    "        \"Autistic disorder\": \"autism\",\n",
    "    }\n",
    ")"
   ]
  },
  {
   "cell_type": "code",
   "execution_count": 22,
   "id": "4e5f57e9",
   "metadata": {},
   "outputs": [],
   "source": [
    "meta_df[\"diseases\"] = meta_df.diseases.apply(\n",
    "    lambda x: [synonyms_mapper.get(i, i) for i in x]\n",
    ")"
   ]
  },
  {
   "cell_type": "code",
   "execution_count": 23,
   "id": "e5a0c980",
   "metadata": {},
   "outputs": [
    {
     "data": {
      "text/plain": [
       "[]"
      ]
     },
     "execution_count": 23,
     "metadata": {},
     "output_type": "execute_result"
    }
   ],
   "source": [
    "bt.Disease.inspect(meta_df.diseases).non_validated"
   ]
  },
  {
   "cell_type": "markdown",
   "id": "b018feb8",
   "metadata": {},
   "source": [
    "## `suspension_type`"
   ]
  },
  {
   "cell_type": "code",
   "execution_count": 24,
   "id": "51245a9d",
   "metadata": {},
   "outputs": [
    {
     "data": {
      "text/plain": [
       "array(['scRNAseq-10xGenomics', 'snRNAseq', 'snRNAseq-10xGenomics-v3',\n",
       "       'sciRNAseq', 'scRNAseq-10xGenomics-v3', 'scRNAseq-10xGenomics-v2'],\n",
       "      dtype=object)"
      ]
     },
     "execution_count": 24,
     "metadata": {},
     "output_type": "execute_result"
    }
   ],
   "source": [
    "meta_df.assay.unique()"
   ]
  },
  {
   "cell_type": "code",
   "execution_count": 25,
   "id": "3d53ef7f",
   "metadata": {},
   "outputs": [],
   "source": [
    "meta_df[\"suspension_type\"] = meta_df.assay.map(\n",
    "    {\n",
    "        \"scRNAseq-10xGenomics\": \"cell\",\n",
    "        \"scRNAseq-10xGenomics-v2\": \"cell\",\n",
    "        \"scRNAseq-10xGenomics-v3\": \"cell\",\n",
    "        \"snRNAseq\": \"nucleus\",\n",
    "        \"snRNAseq-10xGenomics-v3\": \"nucleus\",\n",
    "        \"sciRNAseq\": \"nucleus\",\n",
    "    }\n",
    ")"
   ]
  },
  {
   "cell_type": "code",
   "execution_count": 26,
   "id": "31ae0a56",
   "metadata": {},
   "outputs": [
    {
     "data": {
      "text/plain": [
       "[]"
      ]
     },
     "execution_count": 26,
     "metadata": {},
     "output_type": "execute_result"
    }
   ],
   "source": [
    "ln.ULabel.inspect(meta_df[\"suspension_type\"]).non_validated"
   ]
  },
  {
   "cell_type": "markdown",
   "id": "4e0e6393",
   "metadata": {},
   "source": [
    "## `assay`"
   ]
  },
  {
   "cell_type": "code",
   "execution_count": 27,
   "id": "a61b39b9",
   "metadata": {},
   "outputs": [],
   "source": [
    "meta_df.loc[meta_df.assay == \"SNARE-seq2\", \"rnaseq_assay_method\"] = \"SNARE-seq2\""
   ]
  },
  {
   "cell_type": "code",
   "execution_count": 28,
   "id": "6db3076a",
   "metadata": {},
   "outputs": [
    {
     "data": {
      "text/html": [
       "<div>\n",
       "<style scoped>\n",
       "    .dataframe tbody tr th:only-of-type {\n",
       "        vertical-align: middle;\n",
       "    }\n",
       "\n",
       "    .dataframe tbody tr th {\n",
       "        vertical-align: top;\n",
       "    }\n",
       "\n",
       "    .dataframe thead th {\n",
       "        text-align: right;\n",
       "    }\n",
       "</style>\n",
       "<table border=\"1\" class=\"dataframe\">\n",
       "  <thead>\n",
       "    <tr style=\"text-align: right;\">\n",
       "      <th></th>\n",
       "      <th>assay</th>\n",
       "      <th>rnaseq_assay_method</th>\n",
       "    </tr>\n",
       "    <tr>\n",
       "      <th>uuid</th>\n",
       "      <th></th>\n",
       "      <th></th>\n",
       "    </tr>\n",
       "  </thead>\n",
       "  <tbody>\n",
       "    <tr>\n",
       "      <th>8776e9183d5f85d90535a0b1b3b4e32a</th>\n",
       "      <td>scRNAseq-10xGenomics</td>\n",
       "      <td>Single Cell 3' v3</td>\n",
       "    </tr>\n",
       "    <tr>\n",
       "      <th>b29f62452b8e333ffc62d2e69caa18fa</th>\n",
       "      <td>snRNAseq</td>\n",
       "      <td>3`</td>\n",
       "    </tr>\n",
       "    <tr>\n",
       "      <th>20ee458e5ee361717b68ca72caf6044e</th>\n",
       "      <td>snRNAseq-10xGenomics-v3</td>\n",
       "      <td>10x Chromium Single Cell 3' Reagent Kits v3.1</td>\n",
       "    </tr>\n",
       "    <tr>\n",
       "      <th>a04d0138ed6b28810c5afa01d392bbd5</th>\n",
       "      <td>snRNAseq</td>\n",
       "      <td>10x Chromium Single Cell 3_ Reagent Kits v7</td>\n",
       "    </tr>\n",
       "    <tr>\n",
       "      <th>a078805198f9f7f022b83de898a608a9</th>\n",
       "      <td>snRNAseq</td>\n",
       "      <td>10x Chromium Single Cell 3_ Reagent Kits v8</td>\n",
       "    </tr>\n",
       "    <tr>\n",
       "      <th>53d1bd99fee337798f475832c2ba4fa6</th>\n",
       "      <td>snRNAseq-10xGenomics-v3</td>\n",
       "      <td>Single Cell Multiome ATAC + Gene Expression - ...</td>\n",
       "    </tr>\n",
       "    <tr>\n",
       "      <th>42b73e4e346571372f4babe678688dfd</th>\n",
       "      <td>sciRNAseq</td>\n",
       "      <td>sciRNAseq</td>\n",
       "    </tr>\n",
       "    <tr>\n",
       "      <th>db9e2006effe3168b4b4f28b96e65d34</th>\n",
       "      <td>snRNAseq-10xGenomics-v3</td>\n",
       "      <td>snRNAseq-10Xgenomics</td>\n",
       "    </tr>\n",
       "    <tr>\n",
       "      <th>a14a50984e915e1d6f076c0c8a3b8712</th>\n",
       "      <td>snRNAseq-10xGenomics-v3</td>\n",
       "      <td>10x Chromium multiome Reagent Kits</td>\n",
       "    </tr>\n",
       "    <tr>\n",
       "      <th>6a75230d8d1063fcc8568537212211f5</th>\n",
       "      <td>snRNAseq</td>\n",
       "      <td>snRNAseq-10Xgenomics</td>\n",
       "    </tr>\n",
       "    <tr>\n",
       "      <th>a7042e55ab47cbb3fa1f7e114cf3c2bf</th>\n",
       "      <td>snRNAseq</td>\n",
       "      <td>Single Cell Multiome ATAC + Gene Expression - ...</td>\n",
       "    </tr>\n",
       "    <tr>\n",
       "      <th>01b351cf17e45d35413f13155735a239</th>\n",
       "      <td>scRNAseq-10xGenomics-v3</td>\n",
       "      <td>Chromium Next GEM Single Cell 3' Kit v3.1, 4 r...</td>\n",
       "    </tr>\n",
       "    <tr>\n",
       "      <th>40f7670890ae22c74ba4cf95a3ed6c6b</th>\n",
       "      <td>scRNAseq-10xGenomics-v2</td>\n",
       "      <td>3' end single cell RNA sequencing-bcl2fastq</td>\n",
       "    </tr>\n",
       "    <tr>\n",
       "      <th>3eb2ebe44756a1a9cd244d8c9507fc7b</th>\n",
       "      <td>snRNAseq</td>\n",
       "      <td>10x Chromium Next GEM Single Cell Multiome ATA...</td>\n",
       "    </tr>\n",
       "    <tr>\n",
       "      <th>f2fd5839eb68545df62be05f27df8ed7</th>\n",
       "      <td>scRNAseq-10xGenomics-v3</td>\n",
       "      <td>Chromium Single Cell 3' GEM, Library &amp; Gel Bea...</td>\n",
       "    </tr>\n",
       "    <tr>\n",
       "      <th>c3d36358b184be55ac977abea5755447</th>\n",
       "      <td>snRNAseq</td>\n",
       "      <td>10x Chromium Single Cell 3_ Reagent Kits v9</td>\n",
       "    </tr>\n",
       "    <tr>\n",
       "      <th>57288d8a0a9374ea83f90582df8eafa2</th>\n",
       "      <td>snRNAseq</td>\n",
       "      <td>10x Chromium Single Cell 3_ Reagent Kits v10</td>\n",
       "    </tr>\n",
       "    <tr>\n",
       "      <th>f1937797246fa4592bff6166d7666de5</th>\n",
       "      <td>snRNAseq</td>\n",
       "      <td>10x Chromium Single Cell 3_ Reagent Kits v3</td>\n",
       "    </tr>\n",
       "    <tr>\n",
       "      <th>e18254c67c8a0bb625f3748a2501a0bb</th>\n",
       "      <td>snRNAseq</td>\n",
       "      <td>10x Chromium Single Cell 3_ Reagent Kits v5</td>\n",
       "    </tr>\n",
       "    <tr>\n",
       "      <th>492574f47224661fe8674f60373e44f4</th>\n",
       "      <td>snRNAseq</td>\n",
       "      <td>10x Chromium Single Cell 3_ Reagent Kits v6</td>\n",
       "    </tr>\n",
       "  </tbody>\n",
       "</table>\n",
       "</div>"
      ],
      "text/plain": [
       "                                                    assay  \\\n",
       "uuid                                                        \n",
       "8776e9183d5f85d90535a0b1b3b4e32a     scRNAseq-10xGenomics   \n",
       "b29f62452b8e333ffc62d2e69caa18fa                 snRNAseq   \n",
       "20ee458e5ee361717b68ca72caf6044e  snRNAseq-10xGenomics-v3   \n",
       "a04d0138ed6b28810c5afa01d392bbd5                 snRNAseq   \n",
       "a078805198f9f7f022b83de898a608a9                 snRNAseq   \n",
       "53d1bd99fee337798f475832c2ba4fa6  snRNAseq-10xGenomics-v3   \n",
       "42b73e4e346571372f4babe678688dfd                sciRNAseq   \n",
       "db9e2006effe3168b4b4f28b96e65d34  snRNAseq-10xGenomics-v3   \n",
       "a14a50984e915e1d6f076c0c8a3b8712  snRNAseq-10xGenomics-v3   \n",
       "6a75230d8d1063fcc8568537212211f5                 snRNAseq   \n",
       "a7042e55ab47cbb3fa1f7e114cf3c2bf                 snRNAseq   \n",
       "01b351cf17e45d35413f13155735a239  scRNAseq-10xGenomics-v3   \n",
       "40f7670890ae22c74ba4cf95a3ed6c6b  scRNAseq-10xGenomics-v2   \n",
       "3eb2ebe44756a1a9cd244d8c9507fc7b                 snRNAseq   \n",
       "f2fd5839eb68545df62be05f27df8ed7  scRNAseq-10xGenomics-v3   \n",
       "c3d36358b184be55ac977abea5755447                 snRNAseq   \n",
       "57288d8a0a9374ea83f90582df8eafa2                 snRNAseq   \n",
       "f1937797246fa4592bff6166d7666de5                 snRNAseq   \n",
       "e18254c67c8a0bb625f3748a2501a0bb                 snRNAseq   \n",
       "492574f47224661fe8674f60373e44f4                 snRNAseq   \n",
       "\n",
       "                                                                rnaseq_assay_method  \n",
       "uuid                                                                                 \n",
       "8776e9183d5f85d90535a0b1b3b4e32a                                  Single Cell 3' v3  \n",
       "b29f62452b8e333ffc62d2e69caa18fa                                                 3`  \n",
       "20ee458e5ee361717b68ca72caf6044e      10x Chromium Single Cell 3' Reagent Kits v3.1  \n",
       "a04d0138ed6b28810c5afa01d392bbd5        10x Chromium Single Cell 3_ Reagent Kits v7  \n",
       "a078805198f9f7f022b83de898a608a9        10x Chromium Single Cell 3_ Reagent Kits v8  \n",
       "53d1bd99fee337798f475832c2ba4fa6  Single Cell Multiome ATAC + Gene Expression - ...  \n",
       "42b73e4e346571372f4babe678688dfd                                          sciRNAseq  \n",
       "db9e2006effe3168b4b4f28b96e65d34                               snRNAseq-10Xgenomics  \n",
       "a14a50984e915e1d6f076c0c8a3b8712                 10x Chromium multiome Reagent Kits  \n",
       "6a75230d8d1063fcc8568537212211f5                               snRNAseq-10Xgenomics  \n",
       "a7042e55ab47cbb3fa1f7e114cf3c2bf  Single Cell Multiome ATAC + Gene Expression - ...  \n",
       "01b351cf17e45d35413f13155735a239  Chromium Next GEM Single Cell 3' Kit v3.1, 4 r...  \n",
       "40f7670890ae22c74ba4cf95a3ed6c6b        3' end single cell RNA sequencing-bcl2fastq  \n",
       "3eb2ebe44756a1a9cd244d8c9507fc7b  10x Chromium Next GEM Single Cell Multiome ATA...  \n",
       "f2fd5839eb68545df62be05f27df8ed7  Chromium Single Cell 3' GEM, Library & Gel Bea...  \n",
       "c3d36358b184be55ac977abea5755447        10x Chromium Single Cell 3_ Reagent Kits v9  \n",
       "57288d8a0a9374ea83f90582df8eafa2       10x Chromium Single Cell 3_ Reagent Kits v10  \n",
       "f1937797246fa4592bff6166d7666de5        10x Chromium Single Cell 3_ Reagent Kits v3  \n",
       "e18254c67c8a0bb625f3748a2501a0bb        10x Chromium Single Cell 3_ Reagent Kits v5  \n",
       "492574f47224661fe8674f60373e44f4        10x Chromium Single Cell 3_ Reagent Kits v6  "
      ]
     },
     "execution_count": 28,
     "metadata": {},
     "output_type": "execute_result"
    }
   ],
   "source": [
    "meta_df[[\"assay\", \"rnaseq_assay_method\"]].drop_duplicates()"
   ]
  },
  {
   "cell_type": "code",
   "execution_count": 29,
   "id": "96ab15de",
   "metadata": {},
   "outputs": [],
   "source": [
    "mapper = {\n",
    "    \"Single Cell 3' v3\": \"10x 3' v3\",\n",
    "    \"3`\": \"10x 3' v3\",\n",
    "    \"10x Chromium Single Cell 3' Reagent Kits v3.1\": \"10x 3' v3\",\n",
    "    \"Single Cell 3' v1\": \"10x 3' v1\",\n",
    "    \"10x Chromium Single Cell 3_ Reagent Kits v7\": \"10x 3' v3\",\n",
    "    \"10x Chromium Single Cell 3_ Reagent Kits v8\": \"10x 3' v3\",\n",
    "    \"Single Cell Multiome ATAC + Gene Expression - Chromium Next GEM Single Cell 3' v3.1 (dual index)\": \"10x multiome\",\n",
    "    \"sciRNAseq\": \"sci-RNA-seq3\",\n",
    "    \"10x Chromium multiome Reagent Kits\": \"10x multiome\",\n",
    "    \"snRNAseq-10Xgenomics\": \"10x 3' v3\",\n",
    "    \"SNARE2-RNAseq-RNA\": \"SNARE-seq2\",\n",
    "    \"SNARE-Seq2-RNA\": \"SNARE-seq2\",\n",
    "    \"3' end single cell RNA sequencing-bcl2fastq\": \"10x 3' v2\",\n",
    "    \"Chromium Next GEM Single Cell 3' Kit v3.1, 4 rxns PN-1000269\": \"10x 3' v3\",\n",
    "    \"Chromium Single Cell 3' GEM, Library & Gel Bead Kit v3, 4 rxns PN-1000092\": \"10x 3' v3\",\n",
    "    \"10x Chromium Next GEM Single Cell Multiome ATAC + Gene Expression Reagent Bundle\": \"10x multiome\",\n",
    "    \"10x Chromium Single Cell 3_ Reagent Kits v4\": \"10x 3' v3\",\n",
    "    \"10x Chromium Single Cell 3_ Reagent Kits v9\": \"10x 3' v3\",\n",
    "    \"10x Chromium Single Cell 3_ Reagent Kits v10\": \"10x 3' v3\",\n",
    "    \"10x Chromium Single Cell 3_ Reagent Kits v3\": \"10x 3' v3\",\n",
    "    \"10x Chromium Single Cell 3_ Reagent Kits v5\": \"10x 3' v3\",\n",
    "    \"10x Chromium Single Cell 3_ Reagent Kits v6\": \"10x 3' v3\",\n",
    "}"
   ]
  },
  {
   "cell_type": "code",
   "execution_count": 30,
   "id": "36f79302",
   "metadata": {},
   "outputs": [],
   "source": [
    "meta_df[\"assay\"] = meta_df.rnaseq_assay_method.replace(mapper)"
   ]
  },
  {
   "cell_type": "code",
   "execution_count": 31,
   "id": "8482d49c",
   "metadata": {},
   "outputs": [
    {
     "data": {
      "text/plain": [
       "[]"
      ]
     },
     "execution_count": 31,
     "metadata": {},
     "output_type": "execute_result"
    }
   ],
   "source": [
    "bt.ExperimentalFactor.inspect(meta_df.assay).non_validated"
   ]
  },
  {
   "cell_type": "markdown",
   "id": "d1c21aaf",
   "metadata": {},
   "source": [
    "## `donor_id`"
   ]
  },
  {
   "cell_type": "code",
   "execution_count": 32,
   "id": "bd2bd30f",
   "metadata": {},
   "outputs": [],
   "source": [
    "ethnicities = bt.Ethnicity.lookup().dict()\n",
    "\n",
    "try:\n",
    "    ln.settings.creation.search_names = False\n",
    "    donors = []\n",
    "    for _, row in (\n",
    "        meta_df[[\"donor_id\", \"age\", \"bmi\", \"ethnicity\"]].drop_duplicates().iterrows()\n",
    "    ):\n",
    "        donor = wl.Donor.filter(name=row.donor_id).one_or_none()\n",
    "        if donor is None:\n",
    "            ethnicity = ethnicities.get(row.ethnicity)\n",
    "            if row.age == \"\":\n",
    "                age = None\n",
    "            else:\n",
    "                age = int(float(row.age))\n",
    "            bmi = None if row.bmi == \"\" else row.bmi\n",
    "            donor = wl.Donor(\n",
    "                name=row.donor_id,\n",
    "                batch=\"unknown\",\n",
    "                age=age,\n",
    "                bmi=bmi,\n",
    "                ethnicity=ethnicity,\n",
    "            )\n",
    "            donors.append(donor)\n",
    "finally:\n",
    "    ln.settings.creation.search_names = True"
   ]
  },
  {
   "cell_type": "code",
   "execution_count": 33,
   "id": "39e5b6cb",
   "metadata": {},
   "outputs": [],
   "source": [
    "ln.save(donors)"
   ]
  },
  {
   "cell_type": "markdown",
   "id": "2670721f",
   "metadata": {},
   "source": [
    "## `biosample`"
   ]
  },
  {
   "cell_type": "code",
   "execution_count": 34,
   "id": "1c07c489",
   "metadata": {},
   "outputs": [],
   "source": [
    "try:\n",
    "    ln.settings.creation.search_names = False\n",
    "    samples = []\n",
    "    for _, row in meta_df[[\"sample_id\"]].drop_duplicates().iterrows():\n",
    "        sample = wl.Biosample.filter(name=row.sample_id).one_or_none()\n",
    "        if sample is None:\n",
    "            sample = wl.Biosample(name=row.sample_id)\n",
    "            samples.append(sample)\n",
    "finally:\n",
    "    ln.settings.creation.search_names = True"
   ]
  },
  {
   "cell_type": "code",
   "execution_count": 35,
   "id": "cf6624cd",
   "metadata": {},
   "outputs": [],
   "source": [
    "ln.save(samples)"
   ]
  },
  {
   "cell_type": "markdown",
   "id": "8b3c3851",
   "metadata": {},
   "source": [
    "## `tissue_type`"
   ]
  },
  {
   "cell_type": "code",
   "execution_count": 36,
   "id": "168b12ac",
   "metadata": {},
   "outputs": [],
   "source": [
    "meta_df[\"tissue_type\"] = \"tissue\""
   ]
  },
  {
   "cell_type": "markdown",
   "id": "9f4f3c97",
   "metadata": {},
   "source": [
    "## `expression types`"
   ]
  },
  {
   "cell_type": "code",
   "execution_count": 37,
   "id": "b090b0f7",
   "metadata": {},
   "outputs": [
    {
     "name": "stdout",
     "output_type": "stream",
     "text": [
      "\u001b[92m→\u001b[0m returning existing ULabel record with same name: 'raw'\n",
      "\u001b[92m→\u001b[0m returning existing ULabel record with same name: 'expr'\n",
      "\u001b[92m→\u001b[0m returning existing ULabel record with same name: 'secondary'\n"
     ]
    }
   ],
   "source": [
    "expression_type = ln.ULabel(name=\"expression_type\").save()\n",
    "raw_ul = ln.ULabel(name=\"raw\").save()\n",
    "expr_ul = ln.ULabel(name=\"expr\").save()\n",
    "secondary_ul = ln.ULabel(name=\"secondary\").save()\n",
    "scvelo_ul = ln.ULabel(name=\"scvelo\").save()\n",
    "expression_type.children.set([raw_ul, expr_ul, secondary_ul, scvelo_ul])"
   ]
  },
  {
   "cell_type": "markdown",
   "id": "13b9fcaf",
   "metadata": {},
   "source": [
    "## Save the curated metadata table"
   ]
  },
  {
   "cell_type": "code",
   "execution_count": 38,
   "id": "02182c43",
   "metadata": {},
   "outputs": [
    {
     "name": "stdout",
     "output_type": "stream",
     "text": [
      "\u001b[92m→\u001b[0m creating new artifact version for key='hubmap_metadata/meta_scrna_curated.parquet' (storage: 's3://lamin-us-west-2/sznqFqn7xUoI')\n",
      "... uploading Z8sZr9vMHjY5WjqL0003.parquet: 100.0%\n"
     ]
    },
    {
     "data": {
      "text/plain": [
       "Artifact(uid='Z8sZr9vMHjY5WjqL0003', is_latest=True, key='hubmap_metadata/meta_scrna_curated.parquet', suffix='.parquet', kind='dataset', otype='DataFrame', size=71880, hash='IDyDdEiSVcYj7wUedJo7nA', n_observations=210, space_id=1, storage_id=1, run_id=27, created_by_id=5, created_at=2025-05-13 11:51:12 UTC)"
      ]
     },
     "execution_count": 38,
     "metadata": {},
     "output_type": "execute_result"
    }
   ],
   "source": [
    "artifact = ln.Artifact.from_df(\n",
    "    meta_df, key=\"hubmap_metadata/meta_scrna_curated.parquet\"\n",
    ").save()\n",
    "artifact"
   ]
  },
  {
   "cell_type": "code",
   "execution_count": 39,
   "id": "128bb655",
   "metadata": {},
   "outputs": [
    {
     "name": "stdout",
     "output_type": "stream",
     "text": [
      "\u001b[94m•\u001b[0m please hit CMD + s to save the notebook in your editor . \u001b[92m✓\u001b[0m\n",
      "\u001b[93m!\u001b[0m cells [(13, 15)] were not run consecutively\n",
      "\u001b[92m→\u001b[0m finished Run('s4c83M0s') after 9m at 2025-05-13 11:51:18 UTC\n",
      "\u001b[92m→\u001b[0m go to: https://lamin.ai/laminlabs/hubmap/transform/5znJrS1UjwCi0004\n",
      "\u001b[92m→\u001b[0m to update your notebook from the CLI, run: lamin save /Users/altananamsaraeva/Desktop/Lamin/hubmap-registration/scrna/register-single-cell-metadata.ipynb\n"
     ]
    }
   ],
   "source": [
    "ln.finish()"
   ]
  }
 ],
 "metadata": {
  "jupytext": {
   "cell_metadata_filter": "-all",
   "main_language": "python",
   "notebook_metadata_filter": "-all"
  },
  "kernelspec": {
   "display_name": "lamindb",
   "language": "python",
   "name": "python3"
  },
  "language_info": {
   "codemirror_mode": {
    "name": "ipython",
    "version": 3
   },
   "file_extension": ".py",
   "mimetype": "text/x-python",
   "name": "python",
   "nbconvert_exporter": "python",
   "pygments_lexer": "ipython3",
   "version": "3.12.8"
  }
 },
 "nbformat": 4,
 "nbformat_minor": 5
}
