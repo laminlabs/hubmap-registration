{
 "cells": [
  {
   "cell_type": "markdown",
   "id": "fe959749",
   "metadata": {},
   "source": [
    "# Register single-cell metadata\n",
    "\n",
    "Standardized columns:\n",
    "- `tissue`\n",
    "- `ethnicity`\n",
    "- `sex`\n",
    "- `diseases` # contains lists of terms\n",
    "- `suspension_type`\n",
    "- `assay`\n",
    "- `donor_id`\n",
    "- `biosample`\n",
    "- `tissue_type`"
   ]
  },
  {
   "cell_type": "code",
   "execution_count": 1,
   "id": "7ff0cffe",
   "metadata": {},
   "outputs": [
    {
     "name": "stdout",
     "output_type": "stream",
     "text": [
      "\u001b[92m→\u001b[0m connected lamindb: laminlabs/hubmap\n",
      "\u001b[92m→\u001b[0m loaded Transform('5znJrS1UjwCi0005'), started new Run('tJ5LsAIZ...') at 2025-05-13 14:44:43 UTC\n",
      "\u001b[92m→\u001b[0m notebook imports: bionty==1.3.0 lamindb==1.4.0 wetlab==1.2.0\n"
     ]
    }
   ],
   "source": [
    "import lamindb as ln\n",
    "import bionty as bt\n",
    "import wetlab as wl\n",
    "\n",
    "ln.track(\"5znJrS1UjwCi0005\")"
   ]
  },
  {
   "cell_type": "code",
   "execution_count": 2,
   "id": "cff9ad89",
   "metadata": {},
   "outputs": [
    {
     "data": {
      "text/html": [
       "<div>\n",
       "<style scoped>\n",
       "    .dataframe tbody tr th:only-of-type {\n",
       "        vertical-align: middle;\n",
       "    }\n",
       "\n",
       "    .dataframe tbody tr th {\n",
       "        vertical-align: top;\n",
       "    }\n",
       "\n",
       "    .dataframe thead th {\n",
       "        text-align: right;\n",
       "    }\n",
       "</style>\n",
       "<table border=\"1\" class=\"dataframe\">\n",
       "  <thead>\n",
       "    <tr style=\"text-align: right;\">\n",
       "      <th></th>\n",
       "      <th>uuid</th>\n",
       "      <th>assay</th>\n",
       "      <th>rnaseq_assay_method</th>\n",
       "      <th>title</th>\n",
       "      <th>group_name</th>\n",
       "      <th>consortium</th>\n",
       "      <th>doi</th>\n",
       "      <th>publication_date</th>\n",
       "      <th>status</th>\n",
       "      <th>dataset_type</th>\n",
       "      <th>processing</th>\n",
       "      <th>organ</th>\n",
       "      <th>sample_category</th>\n",
       "      <th>analyte_class</th>\n",
       "      <th>bmi</th>\n",
       "      <th>age</th>\n",
       "      <th>ethnicity</th>\n",
       "      <th>sex</th>\n",
       "      <th>diseases</th>\n",
       "      <th>donor_id</th>\n",
       "      <th>sample_id</th>\n",
       "      <th>ancestor_id</th>\n",
       "      <th>raw_expr_url</th>\n",
       "      <th>expr_url</th>\n",
       "      <th>secondary_analysis_url</th>\n",
       "      <th>scvelo_url</th>\n",
       "    </tr>\n",
       "  </thead>\n",
       "  <tbody>\n",
       "    <tr>\n",
       "      <th>0</th>\n",
       "      <td>8776e9183d5f85d90535a0b1b3b4e32a</td>\n",
       "      <td>scRNAseq-10xGenomics</td>\n",
       "      <td>Single Cell 3' v3</td>\n",
       "      <td>RNAseq data from the thymus of a 18-year-old b...</td>\n",
       "      <td>University of Florida TMC</td>\n",
       "      <td>HuBMAP</td>\n",
       "      <td>10.35079/HBM724.ZKSM.924</td>\n",
       "      <td>2020-08-22</td>\n",
       "      <td>protected</td>\n",
       "      <td>RNAseq</td>\n",
       "      <td>raw</td>\n",
       "      <td>TH</td>\n",
       "      <td>suspension</td>\n",
       "      <td>RNA</td>\n",
       "      <td>27.1</td>\n",
       "      <td>18</td>\n",
       "      <td>Black or African American</td>\n",
       "      <td>Male</td>\n",
       "      <td>[normal]</td>\n",
       "      <td>HBM678.JKBB.893</td>\n",
       "      <td>HBM365.LNPG.969</td>\n",
       "      <td>268e8fb044f82a1497b5fd17918500ea</td>\n",
       "      <td>https://assets.hubmapconsortium.org/81a9fa68b2...</td>\n",
       "      <td></td>\n",
       "      <td></td>\n",
       "      <td></td>\n",
       "    </tr>\n",
       "    <tr>\n",
       "      <th>1</th>\n",
       "      <td>c03acf2de0caff5e5850e0f76d555e1b</td>\n",
       "      <td>scRNAseq-10xGenomics</td>\n",
       "      <td>Single Cell 3' v3</td>\n",
       "      <td>RNAseq data from the thymus of a 18-year-old b...</td>\n",
       "      <td>University of Florida TMC</td>\n",
       "      <td>HuBMAP</td>\n",
       "      <td>10.35079/HBM457.SQKR.279</td>\n",
       "      <td>2020-08-22</td>\n",
       "      <td>protected</td>\n",
       "      <td>RNAseq</td>\n",
       "      <td>raw</td>\n",
       "      <td>TH</td>\n",
       "      <td>suspension</td>\n",
       "      <td>RNA</td>\n",
       "      <td>27.1</td>\n",
       "      <td>18</td>\n",
       "      <td>Black or African American</td>\n",
       "      <td>Male</td>\n",
       "      <td>[normal]</td>\n",
       "      <td>HBM678.JKBB.893</td>\n",
       "      <td>HBM363.KHLF.497</td>\n",
       "      <td>ac972fb45d1dc05548ecf400229a8038</td>\n",
       "      <td>https://assets.hubmapconsortium.org/e8d642084f...</td>\n",
       "      <td></td>\n",
       "      <td></td>\n",
       "      <td></td>\n",
       "    </tr>\n",
       "    <tr>\n",
       "      <th>2</th>\n",
       "      <td>b29f62452b8e333ffc62d2e69caa18fa</td>\n",
       "      <td>snRNAseq</td>\n",
       "      <td>3`</td>\n",
       "      <td>RNAseq data from the large intestine of a 67-y...</td>\n",
       "      <td>Stanford TMC</td>\n",
       "      <td>HuBMAP</td>\n",
       "      <td>10.35079/HBM444.XJKC.552</td>\n",
       "      <td>2020-08-22</td>\n",
       "      <td>protected</td>\n",
       "      <td>RNAseq</td>\n",
       "      <td>raw</td>\n",
       "      <td>LI</td>\n",
       "      <td>block</td>\n",
       "      <td>RNA</td>\n",
       "      <td>30.2</td>\n",
       "      <td>67</td>\n",
       "      <td>White</td>\n",
       "      <td>Female</td>\n",
       "      <td>[Hypertension, Coronary Artery Disease, Cardia...</td>\n",
       "      <td>HBM279.WPZP.978</td>\n",
       "      <td>HBM588.GSHN.453</td>\n",
       "      <td>e4ee92c09a755f8889cb8c37a669e160</td>\n",
       "      <td>https://assets.hubmapconsortium.org/c019a1cd35...</td>\n",
       "      <td></td>\n",
       "      <td></td>\n",
       "      <td></td>\n",
       "    </tr>\n",
       "    <tr>\n",
       "      <th>3</th>\n",
       "      <td>a5234e06fed9a14ee8d29c5aa0258ba5</td>\n",
       "      <td>scRNAseq-10xGenomics</td>\n",
       "      <td>Single Cell 3' v3</td>\n",
       "      <td>RNAseq data from the lymph node of a 1-year-ol...</td>\n",
       "      <td>University of Florida TMC</td>\n",
       "      <td>HuBMAP</td>\n",
       "      <td>10.35079/HBM252.HMBK.543</td>\n",
       "      <td>2020-08-22</td>\n",
       "      <td>protected</td>\n",
       "      <td>RNAseq</td>\n",
       "      <td>raw</td>\n",
       "      <td>LY</td>\n",
       "      <td>suspension</td>\n",
       "      <td>RNA</td>\n",
       "      <td>21.8</td>\n",
       "      <td>1</td>\n",
       "      <td>White</td>\n",
       "      <td>Male</td>\n",
       "      <td>[normal]</td>\n",
       "      <td>HBM638.SMWG.276</td>\n",
       "      <td>HBM789.XWDB.222</td>\n",
       "      <td>6c717082627f452935b9f63d2d93f023</td>\n",
       "      <td>https://assets.hubmapconsortium.org/0576b972e0...</td>\n",
       "      <td></td>\n",
       "      <td></td>\n",
       "      <td></td>\n",
       "    </tr>\n",
       "    <tr>\n",
       "      <th>4</th>\n",
       "      <td>20ee458e5ee361717b68ca72caf6044e</td>\n",
       "      <td>snRNAseq-10xGenomics-v3</td>\n",
       "      <td>10x Chromium Single Cell 3' Reagent Kits v3.1</td>\n",
       "      <td>RNAseq data from the small intestine of a 67-y...</td>\n",
       "      <td>Stanford TMC</td>\n",
       "      <td>HuBMAP</td>\n",
       "      <td>10.35079/HBM983.LKMP.544</td>\n",
       "      <td>2022-11-30</td>\n",
       "      <td>protected</td>\n",
       "      <td>RNAseq</td>\n",
       "      <td>raw</td>\n",
       "      <td>SI</td>\n",
       "      <td>block</td>\n",
       "      <td>RNA</td>\n",
       "      <td>30.2</td>\n",
       "      <td>67</td>\n",
       "      <td>White</td>\n",
       "      <td>Female</td>\n",
       "      <td>[Hypertension, Coronary Artery Disease, Cardia...</td>\n",
       "      <td>HBM279.WPZP.978</td>\n",
       "      <td>HBM555.LQJW.397</td>\n",
       "      <td>e80cd8fab25ec8e9cb41e3872e2129c7</td>\n",
       "      <td>https://assets.hubmapconsortium.org/f6eb890063...</td>\n",
       "      <td>https://assets.hubmapconsortium.org/f6eb890063...</td>\n",
       "      <td>https://assets.hubmapconsortium.org/f6eb890063...</td>\n",
       "      <td>https://assets.hubmapconsortium.org/f6eb890063...</td>\n",
       "    </tr>\n",
       "  </tbody>\n",
       "</table>\n",
       "</div>"
      ],
      "text/plain": [
       "                               uuid                    assay  \\\n",
       "0  8776e9183d5f85d90535a0b1b3b4e32a     scRNAseq-10xGenomics   \n",
       "1  c03acf2de0caff5e5850e0f76d555e1b     scRNAseq-10xGenomics   \n",
       "2  b29f62452b8e333ffc62d2e69caa18fa                 snRNAseq   \n",
       "3  a5234e06fed9a14ee8d29c5aa0258ba5     scRNAseq-10xGenomics   \n",
       "4  20ee458e5ee361717b68ca72caf6044e  snRNAseq-10xGenomics-v3   \n",
       "\n",
       "                             rnaseq_assay_method  \\\n",
       "0                              Single Cell 3' v3   \n",
       "1                              Single Cell 3' v3   \n",
       "2                                             3`   \n",
       "3                              Single Cell 3' v3   \n",
       "4  10x Chromium Single Cell 3' Reagent Kits v3.1   \n",
       "\n",
       "                                               title  \\\n",
       "0  RNAseq data from the thymus of a 18-year-old b...   \n",
       "1  RNAseq data from the thymus of a 18-year-old b...   \n",
       "2  RNAseq data from the large intestine of a 67-y...   \n",
       "3  RNAseq data from the lymph node of a 1-year-ol...   \n",
       "4  RNAseq data from the small intestine of a 67-y...   \n",
       "\n",
       "                  group_name consortium                       doi  \\\n",
       "0  University of Florida TMC     HuBMAP  10.35079/HBM724.ZKSM.924   \n",
       "1  University of Florida TMC     HuBMAP  10.35079/HBM457.SQKR.279   \n",
       "2               Stanford TMC     HuBMAP  10.35079/HBM444.XJKC.552   \n",
       "3  University of Florida TMC     HuBMAP  10.35079/HBM252.HMBK.543   \n",
       "4               Stanford TMC     HuBMAP  10.35079/HBM983.LKMP.544   \n",
       "\n",
       "  publication_date     status dataset_type processing organ sample_category  \\\n",
       "0       2020-08-22  protected       RNAseq        raw    TH      suspension   \n",
       "1       2020-08-22  protected       RNAseq        raw    TH      suspension   \n",
       "2       2020-08-22  protected       RNAseq        raw    LI           block   \n",
       "3       2020-08-22  protected       RNAseq        raw    LY      suspension   \n",
       "4       2022-11-30  protected       RNAseq        raw    SI           block   \n",
       "\n",
       "  analyte_class   bmi age                  ethnicity     sex  \\\n",
       "0           RNA  27.1  18  Black or African American    Male   \n",
       "1           RNA  27.1  18  Black or African American    Male   \n",
       "2           RNA  30.2  67                      White  Female   \n",
       "3           RNA  21.8   1                      White    Male   \n",
       "4           RNA  30.2  67                      White  Female   \n",
       "\n",
       "                                            diseases         donor_id  \\\n",
       "0                                           [normal]  HBM678.JKBB.893   \n",
       "1                                           [normal]  HBM678.JKBB.893   \n",
       "2  [Hypertension, Coronary Artery Disease, Cardia...  HBM279.WPZP.978   \n",
       "3                                           [normal]  HBM638.SMWG.276   \n",
       "4  [Hypertension, Coronary Artery Disease, Cardia...  HBM279.WPZP.978   \n",
       "\n",
       "         sample_id                       ancestor_id  \\\n",
       "0  HBM365.LNPG.969  268e8fb044f82a1497b5fd17918500ea   \n",
       "1  HBM363.KHLF.497  ac972fb45d1dc05548ecf400229a8038   \n",
       "2  HBM588.GSHN.453  e4ee92c09a755f8889cb8c37a669e160   \n",
       "3  HBM789.XWDB.222  6c717082627f452935b9f63d2d93f023   \n",
       "4  HBM555.LQJW.397  e80cd8fab25ec8e9cb41e3872e2129c7   \n",
       "\n",
       "                                        raw_expr_url  \\\n",
       "0  https://assets.hubmapconsortium.org/81a9fa68b2...   \n",
       "1  https://assets.hubmapconsortium.org/e8d642084f...   \n",
       "2  https://assets.hubmapconsortium.org/c019a1cd35...   \n",
       "3  https://assets.hubmapconsortium.org/0576b972e0...   \n",
       "4  https://assets.hubmapconsortium.org/f6eb890063...   \n",
       "\n",
       "                                            expr_url  \\\n",
       "0                                                      \n",
       "1                                                      \n",
       "2                                                      \n",
       "3                                                      \n",
       "4  https://assets.hubmapconsortium.org/f6eb890063...   \n",
       "\n",
       "                              secondary_analysis_url  \\\n",
       "0                                                      \n",
       "1                                                      \n",
       "2                                                      \n",
       "3                                                      \n",
       "4  https://assets.hubmapconsortium.org/f6eb890063...   \n",
       "\n",
       "                                          scvelo_url  \n",
       "0                                                     \n",
       "1                                                     \n",
       "2                                                     \n",
       "3                                                     \n",
       "4  https://assets.hubmapconsortium.org/f6eb890063...  "
      ]
     },
     "execution_count": 2,
     "metadata": {},
     "output_type": "execute_result"
    }
   ],
   "source": [
    "meta_df = ln.Artifact.get(\"ZmKRFUAwmX5RK9d80006\").load()\n",
    "meta_df.head()"
   ]
  },
  {
   "cell_type": "markdown",
   "id": "c9230b0a",
   "metadata": {},
   "source": [
    "## `Reference`"
   ]
  },
  {
   "cell_type": "code",
   "execution_count": 3,
   "id": "c3aff871",
   "metadata": {},
   "outputs": [],
   "source": [
    "reference_names = ln.Reference.inspect(meta_df.title, mute=True).non_validated\n",
    "try:\n",
    "    ln.settings.creation.search_names = False\n",
    "    references = []\n",
    "    for _, row in (\n",
    "        meta_df[[\"title\", \"doi\", \"publication_date\"]].drop_duplicates().iterrows()\n",
    "    ):\n",
    "        if row.title in reference_names:\n",
    "            references.append(\n",
    "                ln.Reference(name=row.title, doi=row.doi, date=row.publication_date)\n",
    "            )\n",
    "finally:\n",
    "    ln.settings.creation.search_names = True"
   ]
  },
  {
   "cell_type": "code",
   "execution_count": 4,
   "id": "73a119a6",
   "metadata": {},
   "outputs": [
    {
     "data": {
      "text/plain": [
       "[]"
      ]
     },
     "execution_count": 4,
     "metadata": {},
     "output_type": "execute_result"
    }
   ],
   "source": [
    "references"
   ]
  },
  {
   "cell_type": "code",
   "execution_count": 5,
   "id": "ddec43a1",
   "metadata": {},
   "outputs": [],
   "source": [
    "ln.save(references)"
   ]
  },
  {
   "cell_type": "code",
   "execution_count": 6,
   "id": "4459d084",
   "metadata": {},
   "outputs": [
    {
     "data": {
      "text/plain": [
       "0"
      ]
     },
     "execution_count": 6,
     "metadata": {},
     "output_type": "execute_result"
    }
   ],
   "source": [
    "ln.Reference.filter(run_id=ln.context.run.id).count()"
   ]
  },
  {
   "cell_type": "markdown",
   "id": "b908930b",
   "metadata": {},
   "source": [
    "## Tissue"
   ]
  },
  {
   "cell_type": "code",
   "execution_count": 7,
   "id": "16ad1e59",
   "metadata": {},
   "outputs": [
    {
     "data": {
      "text/plain": [
       "array(['TH', 'LI', 'LY', 'SI', 'SP', 'HT', 'LK', 'RK', 'LN', 'RN', 'BL',\n",
       "       'RL', 'LV'], dtype=object)"
      ]
     },
     "execution_count": 7,
     "metadata": {},
     "output_type": "execute_result"
    }
   ],
   "source": [
    "meta_df.organ.unique()"
   ]
  },
  {
   "cell_type": "code",
   "execution_count": 8,
   "id": "a753af96",
   "metadata": {},
   "outputs": [],
   "source": [
    "mapper = {\n",
    "    \"LY\": \"lymph node\",\n",
    "    \"TH\": \"thymus\",\n",
    "    \"LI\": \"large intestine\",\n",
    "    \"SI\": \"small intestine\",\n",
    "    \"SP\": \"spleen\",\n",
    "    \"HT\": \"heart\",\n",
    "    \"LK\": \"kidney (left)\",\n",
    "    \"RK\": \"kidney (right)\",\n",
    "    \"LL\": \"lung (left)\",\n",
    "    \"RL\": \"lung (right)\",\n",
    "    \"LV\": \"liver\",\n",
    "    \"LN\": \"knee (left)\",\n",
    "    \"RN\": \"knee (right)\",\n",
    "    \"BL\": \"bladder organ\",\n",
    "}\n",
    "meta_df[\"tissue\"] = meta_df.organ.map(mapper)"
   ]
  },
  {
   "cell_type": "code",
   "execution_count": 9,
   "id": "cc88d97e",
   "metadata": {},
   "outputs": [],
   "source": [
    "try:\n",
    "    ln.settings.creation.search_names = False\n",
    "    for name in [\n",
    "        \"kidney (left)\",\n",
    "        \"kidney (right)\",\n",
    "        \"lung (right)\",\n",
    "        \"knee (right)\",\n",
    "        \"knee (left)\",\n",
    "    ]:\n",
    "        tissue = bt.Tissue.filter(name=name).one_or_none()\n",
    "        if tissue is None:\n",
    "            tissue = bt.Tissue(name=name).save()\n",
    "            parent = bt.Tissue.using(\"laminlabs/hubmap\").get(name=name.split(\" \")[0])\n",
    "            tissue.parents.add(parent)\n",
    "finally:\n",
    "    ln.settings.creation.search_names = True"
   ]
  },
  {
   "cell_type": "code",
   "execution_count": 10,
   "id": "9fa9c2df",
   "metadata": {},
   "outputs": [
    {
     "data": {
      "text/plain": [
       "[]"
      ]
     },
     "execution_count": 10,
     "metadata": {},
     "output_type": "execute_result"
    }
   ],
   "source": [
    "bt.Tissue.inspect(meta_df.tissue).non_validated"
   ]
  },
  {
   "cell_type": "code",
   "execution_count": 11,
   "id": "62768ab0",
   "metadata": {},
   "outputs": [
    {
     "data": {
      "text/plain": [
       "0"
      ]
     },
     "execution_count": 11,
     "metadata": {},
     "output_type": "execute_result"
    }
   ],
   "source": [
    "bt.Tissue.filter(run_id=ln.context.run.id).count()"
   ]
  },
  {
   "cell_type": "markdown",
   "id": "d2649347",
   "metadata": {},
   "source": [
    "## Ethnicity"
   ]
  },
  {
   "cell_type": "code",
   "execution_count": 12,
   "id": "c66a005d",
   "metadata": {},
   "outputs": [
    {
     "data": {
      "text/plain": [
       "array(['Black or African American', 'White', '', 'Unknown'], dtype=object)"
      ]
     },
     "execution_count": 12,
     "metadata": {},
     "output_type": "execute_result"
    }
   ],
   "source": [
    "meta_df.ethnicity.unique()"
   ]
  },
  {
   "cell_type": "code",
   "execution_count": 13,
   "id": "790dc44c",
   "metadata": {},
   "outputs": [],
   "source": [
    "meta_df[\"ethnicity\"] = meta_df.ethnicity.map(\n",
    "    {\n",
    "        \"\": \"na\",\n",
    "        \"Black or African American\": \"African American\",\n",
    "        \"White\": \"European\",\n",
    "        \"Unknown\": \"unknown\",\n",
    "    }\n",
    ")"
   ]
  },
  {
   "cell_type": "code",
   "execution_count": 14,
   "id": "af957246",
   "metadata": {},
   "outputs": [
    {
     "data": {
      "text/plain": [
       "[]"
      ]
     },
     "execution_count": 14,
     "metadata": {},
     "output_type": "execute_result"
    }
   ],
   "source": [
    "bt.Ethnicity.inspect(meta_df.ethnicity).non_validated"
   ]
  },
  {
   "cell_type": "markdown",
   "id": "25f74071",
   "metadata": {},
   "source": [
    "## Sex"
   ]
  },
  {
   "cell_type": "code",
   "execution_count": 15,
   "id": "0ad06bce",
   "metadata": {},
   "outputs": [
    {
     "data": {
      "text/plain": [
       "array(['Male', 'Female', ''], dtype=object)"
      ]
     },
     "execution_count": 15,
     "metadata": {},
     "output_type": "execute_result"
    }
   ],
   "source": [
    "meta_df[\"sex\"].unique()"
   ]
  },
  {
   "cell_type": "code",
   "execution_count": 16,
   "id": "3b4e5173",
   "metadata": {},
   "outputs": [],
   "source": [
    "meta_df[\"sex\"] = meta_df.sex.str.lower().replace([\"\"], \"unknown\")"
   ]
  },
  {
   "cell_type": "code",
   "execution_count": 17,
   "id": "246a83d8",
   "metadata": {},
   "outputs": [
    {
     "data": {
      "text/plain": [
       "[]"
      ]
     },
     "execution_count": 17,
     "metadata": {},
     "output_type": "execute_result"
    }
   ],
   "source": [
    "bt.Phenotype.inspect(meta_df.sex).non_validated"
   ]
  },
  {
   "cell_type": "markdown",
   "id": "a5aa1de7",
   "metadata": {},
   "source": [
    "## Disease"
   ]
  },
  {
   "cell_type": "code",
   "execution_count": 18,
   "id": "a7e8f2f2",
   "metadata": {},
   "outputs": [
    {
     "data": {
      "text/plain": [
       "['Hypertension',\n",
       " 'Asthma',\n",
       " 'Type 1 Diabetes Mellitus',\n",
       " 'Liver failure',\n",
       " 'normal',\n",
       " 'Obstructive sleep apnea',\n",
       " 'Heart failure with reduced ejection fraction',\n",
       " 'Cardiac Arrest',\n",
       " 'Chronic Obstructive Lung Disease',\n",
       " 'Coronary Artery Disease',\n",
       " 'Gastrointestinal disease',\n",
       " 'Coronary Heart Disease',\n",
       " 'Hyperlipidimia',\n",
       " 'Kidney cancer',\n",
       " 'Autistic disorder',\n",
       " 'Type 2 Diabetes Mellitus']"
      ]
     },
     "execution_count": 18,
     "metadata": {},
     "output_type": "execute_result"
    }
   ],
   "source": [
    "diseases = list(set(meta_df.diseases.apply(list).sum()))\n",
    "diseases"
   ]
  },
  {
   "cell_type": "code",
   "execution_count": 19,
   "id": "d6193def",
   "metadata": {},
   "outputs": [],
   "source": [
    "synonyms_mapper = bt.Disease.standardize(diseases, return_mapper=True)"
   ]
  },
  {
   "cell_type": "code",
   "execution_count": 20,
   "id": "d0ba122d",
   "metadata": {},
   "outputs": [
    {
     "name": "stdout",
     "output_type": "stream",
     "text": [
      "\u001b[92m→\u001b[0m returning existing Disease record with same name: 'heart failure with reduced ejection fraction'\n"
     ]
    }
   ],
   "source": [
    "# https://www.ebi.ac.uk/ols4/ontologies/snomed/classes/http%253A%252F%252Fsnomed.info%252Fid%252F703272007\n",
    "# note: we use lower case for names to be consistent with mondo\n",
    "bt.Disease(\n",
    "    name=\"heart failure with reduced ejection fraction\", ontology_id=\"SNOMED:703272007\"\n",
    ").save()\n",
    "# the rest we map to mondo\n",
    "synonyms_mapper.update(\n",
    "    {\n",
    "        \"Hypertension\": \"hypertensive disorder\",\n",
    "        \"Hyperlipidimia\": \"hyperlipidemia\",\n",
    "        \"Autistic disorder\": \"autism\",\n",
    "    }\n",
    ")"
   ]
  },
  {
   "cell_type": "code",
   "execution_count": 21,
   "id": "4e5f57e9",
   "metadata": {},
   "outputs": [],
   "source": [
    "meta_df[\"diseases\"] = meta_df.diseases.apply(\n",
    "    lambda x: [synonyms_mapper.get(i, i) for i in x]\n",
    ")"
   ]
  },
  {
   "cell_type": "code",
   "execution_count": 22,
   "id": "e5a0c980",
   "metadata": {},
   "outputs": [
    {
     "data": {
      "text/plain": [
       "[]"
      ]
     },
     "execution_count": 22,
     "metadata": {},
     "output_type": "execute_result"
    }
   ],
   "source": [
    "bt.Disease.inspect(meta_df.diseases).non_validated"
   ]
  },
  {
   "cell_type": "markdown",
   "id": "b018feb8",
   "metadata": {},
   "source": [
    "## `suspension_type`"
   ]
  },
  {
   "cell_type": "code",
   "execution_count": 23,
   "id": "51245a9d",
   "metadata": {},
   "outputs": [
    {
     "data": {
      "text/plain": [
       "array(['scRNAseq-10xGenomics', 'snRNAseq', 'snRNAseq-10xGenomics-v3',\n",
       "       'sciRNAseq', 'scRNAseq-10xGenomics-v3', 'scRNAseq-10xGenomics-v2'],\n",
       "      dtype=object)"
      ]
     },
     "execution_count": 23,
     "metadata": {},
     "output_type": "execute_result"
    }
   ],
   "source": [
    "meta_df.assay.unique()"
   ]
  },
  {
   "cell_type": "code",
   "execution_count": 24,
   "id": "3d53ef7f",
   "metadata": {},
   "outputs": [],
   "source": [
    "meta_df[\"suspension_type\"] = meta_df.assay.map(\n",
    "    {\n",
    "        \"scRNAseq-10xGenomics\": \"cell\",\n",
    "        \"scRNAseq-10xGenomics-v2\": \"cell\",\n",
    "        \"scRNAseq-10xGenomics-v3\": \"cell\",\n",
    "        \"snRNAseq\": \"nucleus\",\n",
    "        \"snRNAseq-10xGenomics-v3\": \"nucleus\",\n",
    "        \"sciRNAseq\": \"nucleus\",\n",
    "    }\n",
    ")"
   ]
  },
  {
   "cell_type": "code",
   "execution_count": 25,
   "id": "31ae0a56",
   "metadata": {},
   "outputs": [
    {
     "data": {
      "text/plain": [
       "[]"
      ]
     },
     "execution_count": 25,
     "metadata": {},
     "output_type": "execute_result"
    }
   ],
   "source": [
    "ln.ULabel.inspect(meta_df[\"suspension_type\"]).non_validated"
   ]
  },
  {
   "cell_type": "markdown",
   "id": "4e0e6393",
   "metadata": {},
   "source": [
    "## `assay`"
   ]
  },
  {
   "cell_type": "code",
   "execution_count": 26,
   "id": "a61b39b9",
   "metadata": {},
   "outputs": [],
   "source": [
    "meta_df.loc[meta_df.assay == \"SNARE-seq2\", \"rnaseq_assay_method\"] = \"SNARE-seq2\""
   ]
  },
  {
   "cell_type": "code",
   "execution_count": 27,
   "id": "6db3076a",
   "metadata": {},
   "outputs": [
    {
     "data": {
      "text/html": [
       "<div>\n",
       "<style scoped>\n",
       "    .dataframe tbody tr th:only-of-type {\n",
       "        vertical-align: middle;\n",
       "    }\n",
       "\n",
       "    .dataframe tbody tr th {\n",
       "        vertical-align: top;\n",
       "    }\n",
       "\n",
       "    .dataframe thead th {\n",
       "        text-align: right;\n",
       "    }\n",
       "</style>\n",
       "<table border=\"1\" class=\"dataframe\">\n",
       "  <thead>\n",
       "    <tr style=\"text-align: right;\">\n",
       "      <th></th>\n",
       "      <th>assay</th>\n",
       "      <th>rnaseq_assay_method</th>\n",
       "    </tr>\n",
       "  </thead>\n",
       "  <tbody>\n",
       "    <tr>\n",
       "      <th>0</th>\n",
       "      <td>scRNAseq-10xGenomics</td>\n",
       "      <td>Single Cell 3' v3</td>\n",
       "    </tr>\n",
       "    <tr>\n",
       "      <th>2</th>\n",
       "      <td>snRNAseq</td>\n",
       "      <td>3`</td>\n",
       "    </tr>\n",
       "    <tr>\n",
       "      <th>4</th>\n",
       "      <td>snRNAseq-10xGenomics-v3</td>\n",
       "      <td>10x Chromium Single Cell 3' Reagent Kits v3.1</td>\n",
       "    </tr>\n",
       "    <tr>\n",
       "      <th>6</th>\n",
       "      <td>snRNAseq</td>\n",
       "      <td>10x Chromium Single Cell 3_ Reagent Kits v7</td>\n",
       "    </tr>\n",
       "    <tr>\n",
       "      <th>7</th>\n",
       "      <td>snRNAseq</td>\n",
       "      <td>10x Chromium Single Cell 3_ Reagent Kits v8</td>\n",
       "    </tr>\n",
       "    <tr>\n",
       "      <th>9</th>\n",
       "      <td>snRNAseq-10xGenomics-v3</td>\n",
       "      <td>Single Cell Multiome ATAC + Gene Expression - ...</td>\n",
       "    </tr>\n",
       "    <tr>\n",
       "      <th>10</th>\n",
       "      <td>sciRNAseq</td>\n",
       "      <td>sciRNAseq</td>\n",
       "    </tr>\n",
       "    <tr>\n",
       "      <th>13</th>\n",
       "      <td>snRNAseq-10xGenomics-v3</td>\n",
       "      <td>snRNAseq-10Xgenomics</td>\n",
       "    </tr>\n",
       "    <tr>\n",
       "      <th>14</th>\n",
       "      <td>snRNAseq-10xGenomics-v3</td>\n",
       "      <td>10x Chromium multiome Reagent Kits</td>\n",
       "    </tr>\n",
       "    <tr>\n",
       "      <th>17</th>\n",
       "      <td>snRNAseq</td>\n",
       "      <td>snRNAseq-10Xgenomics</td>\n",
       "    </tr>\n",
       "    <tr>\n",
       "      <th>21</th>\n",
       "      <td>snRNAseq</td>\n",
       "      <td>Single Cell Multiome ATAC + Gene Expression - ...</td>\n",
       "    </tr>\n",
       "    <tr>\n",
       "      <th>30</th>\n",
       "      <td>scRNAseq-10xGenomics-v3</td>\n",
       "      <td>Chromium Next GEM Single Cell 3' Kit v3.1, 4 r...</td>\n",
       "    </tr>\n",
       "    <tr>\n",
       "      <th>36</th>\n",
       "      <td>scRNAseq-10xGenomics-v2</td>\n",
       "      <td>3' end single cell RNA sequencing-bcl2fastq</td>\n",
       "    </tr>\n",
       "    <tr>\n",
       "      <th>54</th>\n",
       "      <td>snRNAseq</td>\n",
       "      <td>10x Chromium Next GEM Single Cell Multiome ATA...</td>\n",
       "    </tr>\n",
       "    <tr>\n",
       "      <th>84</th>\n",
       "      <td>scRNAseq-10xGenomics-v3</td>\n",
       "      <td>Chromium Single Cell 3' GEM, Library &amp; Gel Bea...</td>\n",
       "    </tr>\n",
       "    <tr>\n",
       "      <th>91</th>\n",
       "      <td>snRNAseq</td>\n",
       "      <td>10x Chromium Single Cell 3_ Reagent Kits v9</td>\n",
       "    </tr>\n",
       "    <tr>\n",
       "      <th>93</th>\n",
       "      <td>snRNAseq</td>\n",
       "      <td>10x Chromium Single Cell 3_ Reagent Kits v10</td>\n",
       "    </tr>\n",
       "    <tr>\n",
       "      <th>146</th>\n",
       "      <td>snRNAseq</td>\n",
       "      <td>10x Chromium Single Cell 3_ Reagent Kits v3</td>\n",
       "    </tr>\n",
       "    <tr>\n",
       "      <th>150</th>\n",
       "      <td>snRNAseq</td>\n",
       "      <td>10x Chromium Single Cell 3_ Reagent Kits v5</td>\n",
       "    </tr>\n",
       "    <tr>\n",
       "      <th>151</th>\n",
       "      <td>snRNAseq</td>\n",
       "      <td>10x Chromium Single Cell 3_ Reagent Kits v6</td>\n",
       "    </tr>\n",
       "  </tbody>\n",
       "</table>\n",
       "</div>"
      ],
      "text/plain": [
       "                       assay  \\\n",
       "0       scRNAseq-10xGenomics   \n",
       "2                   snRNAseq   \n",
       "4    snRNAseq-10xGenomics-v3   \n",
       "6                   snRNAseq   \n",
       "7                   snRNAseq   \n",
       "9    snRNAseq-10xGenomics-v3   \n",
       "10                 sciRNAseq   \n",
       "13   snRNAseq-10xGenomics-v3   \n",
       "14   snRNAseq-10xGenomics-v3   \n",
       "17                  snRNAseq   \n",
       "21                  snRNAseq   \n",
       "30   scRNAseq-10xGenomics-v3   \n",
       "36   scRNAseq-10xGenomics-v2   \n",
       "54                  snRNAseq   \n",
       "84   scRNAseq-10xGenomics-v3   \n",
       "91                  snRNAseq   \n",
       "93                  snRNAseq   \n",
       "146                 snRNAseq   \n",
       "150                 snRNAseq   \n",
       "151                 snRNAseq   \n",
       "\n",
       "                                   rnaseq_assay_method  \n",
       "0                                    Single Cell 3' v3  \n",
       "2                                                   3`  \n",
       "4        10x Chromium Single Cell 3' Reagent Kits v3.1  \n",
       "6          10x Chromium Single Cell 3_ Reagent Kits v7  \n",
       "7          10x Chromium Single Cell 3_ Reagent Kits v8  \n",
       "9    Single Cell Multiome ATAC + Gene Expression - ...  \n",
       "10                                           sciRNAseq  \n",
       "13                                snRNAseq-10Xgenomics  \n",
       "14                  10x Chromium multiome Reagent Kits  \n",
       "17                                snRNAseq-10Xgenomics  \n",
       "21   Single Cell Multiome ATAC + Gene Expression - ...  \n",
       "30   Chromium Next GEM Single Cell 3' Kit v3.1, 4 r...  \n",
       "36         3' end single cell RNA sequencing-bcl2fastq  \n",
       "54   10x Chromium Next GEM Single Cell Multiome ATA...  \n",
       "84   Chromium Single Cell 3' GEM, Library & Gel Bea...  \n",
       "91         10x Chromium Single Cell 3_ Reagent Kits v9  \n",
       "93        10x Chromium Single Cell 3_ Reagent Kits v10  \n",
       "146        10x Chromium Single Cell 3_ Reagent Kits v3  \n",
       "150        10x Chromium Single Cell 3_ Reagent Kits v5  \n",
       "151        10x Chromium Single Cell 3_ Reagent Kits v6  "
      ]
     },
     "execution_count": 27,
     "metadata": {},
     "output_type": "execute_result"
    }
   ],
   "source": [
    "meta_df[[\"assay\", \"rnaseq_assay_method\"]].drop_duplicates()"
   ]
  },
  {
   "cell_type": "code",
   "execution_count": 28,
   "id": "96ab15de",
   "metadata": {},
   "outputs": [],
   "source": [
    "mapper = {\n",
    "    \"Single Cell 3' v3\": \"10x 3' v3\",\n",
    "    \"3`\": \"10x 3' v3\",\n",
    "    \"10x Chromium Single Cell 3' Reagent Kits v3.1\": \"10x 3' v3\",\n",
    "    \"Single Cell 3' v1\": \"10x 3' v1\",\n",
    "    \"10x Chromium Single Cell 3_ Reagent Kits v7\": \"10x 3' v3\",\n",
    "    \"10x Chromium Single Cell 3_ Reagent Kits v8\": \"10x 3' v3\",\n",
    "    \"Single Cell Multiome ATAC + Gene Expression - Chromium Next GEM Single Cell 3' v3.1 (dual index)\": \"10x multiome\",\n",
    "    \"sciRNAseq\": \"sci-RNA-seq3\",\n",
    "    \"10x Chromium multiome Reagent Kits\": \"10x multiome\",\n",
    "    \"snRNAseq-10Xgenomics\": \"10x 3' v3\",\n",
    "    \"SNARE2-RNAseq-RNA\": \"SNARE-seq2\",\n",
    "    \"SNARE-Seq2-RNA\": \"SNARE-seq2\",\n",
    "    \"3' end single cell RNA sequencing-bcl2fastq\": \"10x 3' v2\",\n",
    "    \"Chromium Next GEM Single Cell 3' Kit v3.1, 4 rxns PN-1000269\": \"10x 3' v3\",\n",
    "    \"Chromium Single Cell 3' GEM, Library & Gel Bead Kit v3, 4 rxns PN-1000092\": \"10x 3' v3\",\n",
    "    \"10x Chromium Next GEM Single Cell Multiome ATAC + Gene Expression Reagent Bundle\": \"10x multiome\",\n",
    "    \"10x Chromium Single Cell 3_ Reagent Kits v4\": \"10x 3' v3\",\n",
    "    \"10x Chromium Single Cell 3_ Reagent Kits v9\": \"10x 3' v3\",\n",
    "    \"10x Chromium Single Cell 3_ Reagent Kits v10\": \"10x 3' v3\",\n",
    "    \"10x Chromium Single Cell 3_ Reagent Kits v3\": \"10x 3' v3\",\n",
    "    \"10x Chromium Single Cell 3_ Reagent Kits v5\": \"10x 3' v3\",\n",
    "    \"10x Chromium Single Cell 3_ Reagent Kits v6\": \"10x 3' v3\",\n",
    "}"
   ]
  },
  {
   "cell_type": "code",
   "execution_count": 29,
   "id": "36f79302",
   "metadata": {},
   "outputs": [],
   "source": [
    "meta_df[\"assay\"] = meta_df.rnaseq_assay_method.replace(mapper)"
   ]
  },
  {
   "cell_type": "code",
   "execution_count": 30,
   "id": "8482d49c",
   "metadata": {},
   "outputs": [
    {
     "data": {
      "text/plain": [
       "[]"
      ]
     },
     "execution_count": 30,
     "metadata": {},
     "output_type": "execute_result"
    }
   ],
   "source": [
    "bt.ExperimentalFactor.inspect(meta_df.assay).non_validated"
   ]
  },
  {
   "cell_type": "markdown",
   "id": "d1c21aaf",
   "metadata": {},
   "source": [
    "## `donor_id`"
   ]
  },
  {
   "cell_type": "code",
   "execution_count": 31,
   "id": "bd2bd30f",
   "metadata": {},
   "outputs": [],
   "source": [
    "ethnicities = bt.Ethnicity.lookup().dict()\n",
    "\n",
    "try:\n",
    "    ln.settings.creation.search_names = False\n",
    "    donors = []\n",
    "    for _, row in (\n",
    "        meta_df[[\"donor_id\", \"age\", \"bmi\", \"ethnicity\"]].drop_duplicates().iterrows()\n",
    "    ):\n",
    "        donor = wl.Donor.filter(name=row.donor_id).one_or_none()\n",
    "        if donor is None:\n",
    "            ethnicity = ethnicities.get(row.ethnicity)\n",
    "            if row.age == \"\":\n",
    "                age = None\n",
    "            else:\n",
    "                age = int(float(row.age))\n",
    "            bmi = None if row.bmi == \"\" else row.bmi\n",
    "            donor = wl.Donor(\n",
    "                name=row.donor_id,\n",
    "                batch=\"unknown\",\n",
    "                age=age,\n",
    "                bmi=bmi,\n",
    "                ethnicity=ethnicity,\n",
    "            )\n",
    "            donors.append(donor)\n",
    "finally:\n",
    "    ln.settings.creation.search_names = True"
   ]
  },
  {
   "cell_type": "code",
   "execution_count": 32,
   "id": "39e5b6cb",
   "metadata": {},
   "outputs": [],
   "source": [
    "ln.save(donors)"
   ]
  },
  {
   "cell_type": "markdown",
   "id": "2670721f",
   "metadata": {},
   "source": [
    "## `biosample`"
   ]
  },
  {
   "cell_type": "code",
   "execution_count": 33,
   "id": "1c07c489",
   "metadata": {},
   "outputs": [],
   "source": [
    "try:\n",
    "    ln.settings.creation.search_names = False\n",
    "    samples = []\n",
    "    for _, row in meta_df[[\"sample_id\"]].drop_duplicates().iterrows():\n",
    "        sample = wl.Biosample.filter(name=row.sample_id).one_or_none()\n",
    "        if sample is None:\n",
    "            sample = wl.Biosample(name=row.sample_id)\n",
    "            samples.append(sample)\n",
    "finally:\n",
    "    ln.settings.creation.search_names = True"
   ]
  },
  {
   "cell_type": "code",
   "execution_count": 34,
   "id": "cf6624cd",
   "metadata": {},
   "outputs": [],
   "source": [
    "ln.save(samples)"
   ]
  },
  {
   "cell_type": "markdown",
   "id": "8b3c3851",
   "metadata": {},
   "source": [
    "## `tissue_type`"
   ]
  },
  {
   "cell_type": "code",
   "execution_count": 35,
   "id": "168b12ac",
   "metadata": {},
   "outputs": [],
   "source": [
    "meta_df[\"tissue_type\"] = \"tissue\""
   ]
  },
  {
   "cell_type": "markdown",
   "id": "9f4f3c97",
   "metadata": {},
   "source": [
    "## `expression types`"
   ]
  },
  {
   "cell_type": "code",
   "execution_count": 36,
   "id": "b090b0f7",
   "metadata": {},
   "outputs": [
    {
     "name": "stdout",
     "output_type": "stream",
     "text": [
      "\u001b[92m→\u001b[0m returning existing ULabel record with same name: 'expression_type'\n",
      "\u001b[92m→\u001b[0m returning existing ULabel record with same name: 'raw'\n",
      "\u001b[92m→\u001b[0m returning existing ULabel record with same name: 'expr'\n",
      "\u001b[92m→\u001b[0m returning existing ULabel record with same name: 'secondary'\n",
      "\u001b[92m→\u001b[0m returning existing ULabel record with same name: 'scvelo'\n"
     ]
    }
   ],
   "source": [
    "expression_type = ln.ULabel(name=\"expression_type\").save()\n",
    "raw_ul = ln.ULabel(name=\"raw\").save()\n",
    "expr_ul = ln.ULabel(name=\"expr\").save()\n",
    "secondary_ul = ln.ULabel(name=\"secondary\").save()\n",
    "scvelo_ul = ln.ULabel(name=\"scvelo\").save()\n",
    "expression_type.children.set([raw_ul, expr_ul, secondary_ul, scvelo_ul])"
   ]
  },
  {
   "cell_type": "markdown",
   "id": "13b9fcaf",
   "metadata": {},
   "source": [
    "## Save the curated metadata table"
   ]
  },
  {
   "cell_type": "code",
   "execution_count": 37,
   "id": "02182c43",
   "metadata": {},
   "outputs": [
    {
     "name": "stdout",
     "output_type": "stream",
     "text": [
      "\u001b[92m→\u001b[0m creating new artifact version for key='hubmap_metadata/meta_scrna_curated.parquet' (storage: 's3://lamin-us-west-2/sznqFqn7xUoI')\n",
      "... uploading Z8sZr9vMHjY5WjqL0004.parquet: 100.0%\n",
      "\u001b[93m!\u001b[0m replacing the existing cache path /Users/altananamsaraeva/Library/Caches/lamindb/lamin-us-west-2/sznqFqn7xUoI/hubmap_metadata/meta_scrna_curated.parquet\n"
     ]
    },
    {
     "data": {
      "text/plain": [
       "Artifact(uid='Z8sZr9vMHjY5WjqL0004', is_latest=True, key='hubmap_metadata/meta_scrna_curated.parquet', suffix='.parquet', kind='dataset', otype='DataFrame', size=72053, hash='n4GXSLP6pPa0FmCZUbG4Pw', n_observations=210, space_id=1, storage_id=1, run_id=33, created_by_id=5, created_at=2025-05-13 14:46:41 UTC)"
      ]
     },
     "execution_count": 37,
     "metadata": {},
     "output_type": "execute_result"
    }
   ],
   "source": [
    "artifact = ln.Artifact.from_df(\n",
    "    meta_df, key=\"hubmap_metadata/meta_scrna_curated.parquet\"\n",
    ").save()\n",
    "artifact"
   ]
  },
  {
   "cell_type": "code",
   "execution_count": 38,
   "id": "128bb655",
   "metadata": {},
   "outputs": [
    {
     "name": "stdout",
     "output_type": "stream",
     "text": [
      "\u001b[94m•\u001b[0m please hit CMD + s to save the notebook in your editor  \u001b[92m✓\u001b[0m\n",
      "\u001b[92m→\u001b[0m finished Run('tJ5LsAIZ') after 2m at 2025-05-13 14:46:46 UTC\n",
      "\u001b[92m→\u001b[0m go to: https://lamin.ai/laminlabs/hubmap/transform/5znJrS1UjwCi0005\n",
      "\u001b[92m→\u001b[0m to update your notebook from the CLI, run: lamin save /Users/altananamsaraeva/Desktop/Lamin/hubmap-registration/scrna/register-single-cell-metadata.ipynb\n"
     ]
    }
   ],
   "source": [
    "ln.finish()"
   ]
  }
 ],
 "metadata": {
  "jupytext": {
   "cell_metadata_filter": "-all",
   "main_language": "python",
   "notebook_metadata_filter": "-all"
  },
  "kernelspec": {
   "display_name": "lamindb",
   "language": "python",
   "name": "python3"
  },
  "language_info": {
   "codemirror_mode": {
    "name": "ipython",
    "version": 3
   },
   "file_extension": ".py",
   "mimetype": "text/x-python",
   "name": "python",
   "nbconvert_exporter": "python",
   "pygments_lexer": "ipython3",
   "version": "3.12.8"
  }
 },
 "nbformat": 4,
 "nbformat_minor": 5
}
