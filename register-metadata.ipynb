{
 "cells": [
  {
   "cell_type": "markdown",
   "id": "fe959749",
   "metadata": {},
   "source": [
    "# Register metadata\n",
    "\n",
    "Standardized columns:\n",
    "- `tissue`\n",
    "- `ethnicity`\n",
    "- `sex`\n",
    "- `diseases` # contains lists of terms\n",
    "- `suspension_type`\n",
    "- `assay`\n",
    "- `donor_id`\n",
    "- `biosample`\n",
    "- `tissue_type`"
   ]
  },
  {
   "cell_type": "code",
   "execution_count": 1,
   "id": "7ff0cffe",
   "metadata": {},
   "outputs": [
    {
     "name": "stdout",
     "output_type": "stream",
     "text": [
      "\u001b[92m→\u001b[0m connected lamindb: laminlabs/hubmap\n",
      "\u001b[92m→\u001b[0m there already is a notebook with `key` 'register-metadata.ipynb', creating new version '5znJrS1UjwCi0003'\n",
      "\u001b[92m→\u001b[0m created Transform('5znJrS1UjwCi0003'), started new Run('kn6hazMA...') at 2025-01-31 13:30:36 UTC\n",
      "\u001b[92m→\u001b[0m notebook imports: bionty==1.0.0 lamindb==1.0.5 wetlab==1.0.1\n"
     ]
    }
   ],
   "source": [
    "import lamindb as ln\n",
    "import bionty as bt\n",
    "import wetlab as wl\n",
    "\n",
    "ln.track()"
   ]
  },
  {
   "cell_type": "code",
   "execution_count": 2,
   "id": "cff9ad89",
   "metadata": {},
   "outputs": [
    {
     "data": {
      "text/html": [
       "<div>\n",
       "<style scoped>\n",
       "    .dataframe tbody tr th:only-of-type {\n",
       "        vertical-align: middle;\n",
       "    }\n",
       "\n",
       "    .dataframe tbody tr th {\n",
       "        vertical-align: top;\n",
       "    }\n",
       "\n",
       "    .dataframe thead th {\n",
       "        text-align: right;\n",
       "    }\n",
       "</style>\n",
       "<table border=\"1\" class=\"dataframe\">\n",
       "  <thead>\n",
       "    <tr style=\"text-align: right;\">\n",
       "      <th></th>\n",
       "      <th>assay</th>\n",
       "      <th>rnaseq_assay_method</th>\n",
       "      <th>title</th>\n",
       "      <th>group_name</th>\n",
       "      <th>consortium</th>\n",
       "      <th>doi</th>\n",
       "      <th>publication_date</th>\n",
       "      <th>status</th>\n",
       "      <th>dataset_type</th>\n",
       "      <th>processing</th>\n",
       "      <th>organ</th>\n",
       "      <th>sample_category</th>\n",
       "      <th>analyte_class</th>\n",
       "      <th>bmi</th>\n",
       "      <th>age</th>\n",
       "      <th>ethnicity</th>\n",
       "      <th>sex</th>\n",
       "      <th>diseases</th>\n",
       "      <th>donor_id</th>\n",
       "      <th>sample_id</th>\n",
       "      <th>collection_uuid</th>\n",
       "      <th>raw_expr_url</th>\n",
       "      <th>expr_url</th>\n",
       "      <th>secondary_analysis_url</th>\n",
       "      <th>scvelo_url</th>\n",
       "    </tr>\n",
       "    <tr>\n",
       "      <th>uuid</th>\n",
       "      <th></th>\n",
       "      <th></th>\n",
       "      <th></th>\n",
       "      <th></th>\n",
       "      <th></th>\n",
       "      <th></th>\n",
       "      <th></th>\n",
       "      <th></th>\n",
       "      <th></th>\n",
       "      <th></th>\n",
       "      <th></th>\n",
       "      <th></th>\n",
       "      <th></th>\n",
       "      <th></th>\n",
       "      <th></th>\n",
       "      <th></th>\n",
       "      <th></th>\n",
       "      <th></th>\n",
       "      <th></th>\n",
       "      <th></th>\n",
       "      <th></th>\n",
       "      <th></th>\n",
       "      <th></th>\n",
       "      <th></th>\n",
       "      <th></th>\n",
       "    </tr>\n",
       "  </thead>\n",
       "  <tbody>\n",
       "    <tr>\n",
       "      <th>a5234e06fed9a14ee8d29c5aa0258ba5</th>\n",
       "      <td>scRNAseq-10xGenomics</td>\n",
       "      <td>Single Cell 3' v3</td>\n",
       "      <td>RNAseq data from the lymph node of a 1.0-year-...</td>\n",
       "      <td>University of Florida TMC</td>\n",
       "      <td>HuBMAP</td>\n",
       "      <td>10.35079/HBM252.HMBK.543</td>\n",
       "      <td>2020-08-22</td>\n",
       "      <td>protected</td>\n",
       "      <td>RNAseq</td>\n",
       "      <td>raw</td>\n",
       "      <td>LY</td>\n",
       "      <td>suspension</td>\n",
       "      <td>RNA</td>\n",
       "      <td>21.80</td>\n",
       "      <td>1.0</td>\n",
       "      <td>White</td>\n",
       "      <td>Male</td>\n",
       "      <td>[normal]</td>\n",
       "      <td>HBM638.SMWG.276</td>\n",
       "      <td>HBM789.XWDB.222</td>\n",
       "      <td>6c717082627f452935b9f63d2d93f023</td>\n",
       "      <td></td>\n",
       "      <td></td>\n",
       "      <td></td>\n",
       "      <td></td>\n",
       "    </tr>\n",
       "    <tr>\n",
       "      <th>c03acf2de0caff5e5850e0f76d555e1b</th>\n",
       "      <td>scRNAseq-10xGenomics</td>\n",
       "      <td>Single Cell 3' v3</td>\n",
       "      <td>RNAseq data from the thymus of a 18.0-year-old...</td>\n",
       "      <td>University of Florida TMC</td>\n",
       "      <td>HuBMAP</td>\n",
       "      <td>10.35079/HBM457.SQKR.279</td>\n",
       "      <td>2020-08-22</td>\n",
       "      <td>protected</td>\n",
       "      <td>RNAseq</td>\n",
       "      <td>raw</td>\n",
       "      <td>TH</td>\n",
       "      <td>suspension</td>\n",
       "      <td>RNA</td>\n",
       "      <td>27.10</td>\n",
       "      <td>18.0</td>\n",
       "      <td>Black or African American</td>\n",
       "      <td>Male</td>\n",
       "      <td>[normal]</td>\n",
       "      <td>HBM678.JKBB.893</td>\n",
       "      <td>HBM363.KHLF.497</td>\n",
       "      <td>ac972fb45d1dc05548ecf400229a8038</td>\n",
       "      <td></td>\n",
       "      <td></td>\n",
       "      <td></td>\n",
       "      <td></td>\n",
       "    </tr>\n",
       "    <tr>\n",
       "      <th>8776e9183d5f85d90535a0b1b3b4e32a</th>\n",
       "      <td>scRNAseq-10xGenomics</td>\n",
       "      <td>Single Cell 3' v3</td>\n",
       "      <td>RNAseq data from the thymus of a 18.0-year-old...</td>\n",
       "      <td>University of Florida TMC</td>\n",
       "      <td>HuBMAP</td>\n",
       "      <td>10.35079/HBM724.ZKSM.924</td>\n",
       "      <td>2020-08-22</td>\n",
       "      <td>protected</td>\n",
       "      <td>RNAseq</td>\n",
       "      <td>raw</td>\n",
       "      <td>TH</td>\n",
       "      <td>suspension</td>\n",
       "      <td>RNA</td>\n",
       "      <td>27.10</td>\n",
       "      <td>18.0</td>\n",
       "      <td>Black or African American</td>\n",
       "      <td>Male</td>\n",
       "      <td>[normal]</td>\n",
       "      <td>HBM678.JKBB.893</td>\n",
       "      <td>HBM365.LNPG.969</td>\n",
       "      <td>268e8fb044f82a1497b5fd17918500ea</td>\n",
       "      <td></td>\n",
       "      <td></td>\n",
       "      <td></td>\n",
       "      <td></td>\n",
       "    </tr>\n",
       "    <tr>\n",
       "      <th>b29f62452b8e333ffc62d2e69caa18fa</th>\n",
       "      <td>snRNAseq</td>\n",
       "      <td>3`</td>\n",
       "      <td>RNAseq data from the large intestine of a 67.0...</td>\n",
       "      <td>Stanford TMC</td>\n",
       "      <td>HuBMAP</td>\n",
       "      <td>10.35079/HBM444.XJKC.552</td>\n",
       "      <td>2020-08-22</td>\n",
       "      <td>protected</td>\n",
       "      <td>RNAseq</td>\n",
       "      <td>raw</td>\n",
       "      <td>LI</td>\n",
       "      <td>block</td>\n",
       "      <td>RNA</td>\n",
       "      <td>30.20</td>\n",
       "      <td>67.0</td>\n",
       "      <td>White</td>\n",
       "      <td>Female</td>\n",
       "      <td>[Hypertension, Coronary Artery Disease, Cardia...</td>\n",
       "      <td>HBM279.WPZP.978</td>\n",
       "      <td>HBM588.GSHN.453</td>\n",
       "      <td>e4ee92c09a755f8889cb8c37a669e160</td>\n",
       "      <td></td>\n",
       "      <td></td>\n",
       "      <td></td>\n",
       "      <td></td>\n",
       "    </tr>\n",
       "    <tr>\n",
       "      <th>20ee458e5ee361717b68ca72caf6044e</th>\n",
       "      <td>snRNAseq-10xGenomics-v3</td>\n",
       "      <td>10x Chromium Single Cell 3' Reagent Kits v3.1</td>\n",
       "      <td>RNAseq data from the small intestine of a 67.0...</td>\n",
       "      <td>Stanford TMC</td>\n",
       "      <td>HuBMAP</td>\n",
       "      <td>10.35079/HBM983.LKMP.544</td>\n",
       "      <td>2022-11-30</td>\n",
       "      <td>protected</td>\n",
       "      <td>RNAseq</td>\n",
       "      <td>raw</td>\n",
       "      <td>SI</td>\n",
       "      <td>block</td>\n",
       "      <td>RNA</td>\n",
       "      <td>30.20</td>\n",
       "      <td>67.0</td>\n",
       "      <td>White</td>\n",
       "      <td>Female</td>\n",
       "      <td>[Hypertension, Coronary Artery Disease, Cardia...</td>\n",
       "      <td>HBM279.WPZP.978</td>\n",
       "      <td>HBM555.LQJW.397</td>\n",
       "      <td>e80cd8fab25ec8e9cb41e3872e2129c7</td>\n",
       "      <td>https://assets.hubmapconsortium.org/f6eb890063...</td>\n",
       "      <td>https://assets.hubmapconsortium.org/f6eb890063...</td>\n",
       "      <td>https://assets.hubmapconsortium.org/f6eb890063...</td>\n",
       "      <td></td>\n",
       "    </tr>\n",
       "  </tbody>\n",
       "</table>\n",
       "</div>"
      ],
      "text/plain": [
       "                                                    assay  \\\n",
       "uuid                                                        \n",
       "a5234e06fed9a14ee8d29c5aa0258ba5     scRNAseq-10xGenomics   \n",
       "c03acf2de0caff5e5850e0f76d555e1b     scRNAseq-10xGenomics   \n",
       "8776e9183d5f85d90535a0b1b3b4e32a     scRNAseq-10xGenomics   \n",
       "b29f62452b8e333ffc62d2e69caa18fa                 snRNAseq   \n",
       "20ee458e5ee361717b68ca72caf6044e  snRNAseq-10xGenomics-v3   \n",
       "\n",
       "                                                            rnaseq_assay_method  \\\n",
       "uuid                                                                              \n",
       "a5234e06fed9a14ee8d29c5aa0258ba5                              Single Cell 3' v3   \n",
       "c03acf2de0caff5e5850e0f76d555e1b                              Single Cell 3' v3   \n",
       "8776e9183d5f85d90535a0b1b3b4e32a                              Single Cell 3' v3   \n",
       "b29f62452b8e333ffc62d2e69caa18fa                                             3`   \n",
       "20ee458e5ee361717b68ca72caf6044e  10x Chromium Single Cell 3' Reagent Kits v3.1   \n",
       "\n",
       "                                                                              title  \\\n",
       "uuid                                                                                  \n",
       "a5234e06fed9a14ee8d29c5aa0258ba5  RNAseq data from the lymph node of a 1.0-year-...   \n",
       "c03acf2de0caff5e5850e0f76d555e1b  RNAseq data from the thymus of a 18.0-year-old...   \n",
       "8776e9183d5f85d90535a0b1b3b4e32a  RNAseq data from the thymus of a 18.0-year-old...   \n",
       "b29f62452b8e333ffc62d2e69caa18fa  RNAseq data from the large intestine of a 67.0...   \n",
       "20ee458e5ee361717b68ca72caf6044e  RNAseq data from the small intestine of a 67.0...   \n",
       "\n",
       "                                                 group_name consortium  \\\n",
       "uuid                                                                     \n",
       "a5234e06fed9a14ee8d29c5aa0258ba5  University of Florida TMC     HuBMAP   \n",
       "c03acf2de0caff5e5850e0f76d555e1b  University of Florida TMC     HuBMAP   \n",
       "8776e9183d5f85d90535a0b1b3b4e32a  University of Florida TMC     HuBMAP   \n",
       "b29f62452b8e333ffc62d2e69caa18fa               Stanford TMC     HuBMAP   \n",
       "20ee458e5ee361717b68ca72caf6044e               Stanford TMC     HuBMAP   \n",
       "\n",
       "                                                       doi publication_date  \\\n",
       "uuid                                                                          \n",
       "a5234e06fed9a14ee8d29c5aa0258ba5  10.35079/HBM252.HMBK.543       2020-08-22   \n",
       "c03acf2de0caff5e5850e0f76d555e1b  10.35079/HBM457.SQKR.279       2020-08-22   \n",
       "8776e9183d5f85d90535a0b1b3b4e32a  10.35079/HBM724.ZKSM.924       2020-08-22   \n",
       "b29f62452b8e333ffc62d2e69caa18fa  10.35079/HBM444.XJKC.552       2020-08-22   \n",
       "20ee458e5ee361717b68ca72caf6044e  10.35079/HBM983.LKMP.544       2022-11-30   \n",
       "\n",
       "                                     status dataset_type processing organ  \\\n",
       "uuid                                                                        \n",
       "a5234e06fed9a14ee8d29c5aa0258ba5  protected       RNAseq        raw    LY   \n",
       "c03acf2de0caff5e5850e0f76d555e1b  protected       RNAseq        raw    TH   \n",
       "8776e9183d5f85d90535a0b1b3b4e32a  protected       RNAseq        raw    TH   \n",
       "b29f62452b8e333ffc62d2e69caa18fa  protected       RNAseq        raw    LI   \n",
       "20ee458e5ee361717b68ca72caf6044e  protected       RNAseq        raw    SI   \n",
       "\n",
       "                                 sample_category analyte_class    bmi   age  \\\n",
       "uuid                                                                          \n",
       "a5234e06fed9a14ee8d29c5aa0258ba5      suspension           RNA  21.80   1.0   \n",
       "c03acf2de0caff5e5850e0f76d555e1b      suspension           RNA  27.10  18.0   \n",
       "8776e9183d5f85d90535a0b1b3b4e32a      suspension           RNA  27.10  18.0   \n",
       "b29f62452b8e333ffc62d2e69caa18fa           block           RNA  30.20  67.0   \n",
       "20ee458e5ee361717b68ca72caf6044e           block           RNA  30.20  67.0   \n",
       "\n",
       "                                                  ethnicity     sex  \\\n",
       "uuid                                                                  \n",
       "a5234e06fed9a14ee8d29c5aa0258ba5                      White    Male   \n",
       "c03acf2de0caff5e5850e0f76d555e1b  Black or African American    Male   \n",
       "8776e9183d5f85d90535a0b1b3b4e32a  Black or African American    Male   \n",
       "b29f62452b8e333ffc62d2e69caa18fa                      White  Female   \n",
       "20ee458e5ee361717b68ca72caf6044e                      White  Female   \n",
       "\n",
       "                                                                           diseases  \\\n",
       "uuid                                                                                  \n",
       "a5234e06fed9a14ee8d29c5aa0258ba5                                           [normal]   \n",
       "c03acf2de0caff5e5850e0f76d555e1b                                           [normal]   \n",
       "8776e9183d5f85d90535a0b1b3b4e32a                                           [normal]   \n",
       "b29f62452b8e333ffc62d2e69caa18fa  [Hypertension, Coronary Artery Disease, Cardia...   \n",
       "20ee458e5ee361717b68ca72caf6044e  [Hypertension, Coronary Artery Disease, Cardia...   \n",
       "\n",
       "                                         donor_id        sample_id  \\\n",
       "uuid                                                                 \n",
       "a5234e06fed9a14ee8d29c5aa0258ba5  HBM638.SMWG.276  HBM789.XWDB.222   \n",
       "c03acf2de0caff5e5850e0f76d555e1b  HBM678.JKBB.893  HBM363.KHLF.497   \n",
       "8776e9183d5f85d90535a0b1b3b4e32a  HBM678.JKBB.893  HBM365.LNPG.969   \n",
       "b29f62452b8e333ffc62d2e69caa18fa  HBM279.WPZP.978  HBM588.GSHN.453   \n",
       "20ee458e5ee361717b68ca72caf6044e  HBM279.WPZP.978  HBM555.LQJW.397   \n",
       "\n",
       "                                                   collection_uuid  \\\n",
       "uuid                                                                 \n",
       "a5234e06fed9a14ee8d29c5aa0258ba5  6c717082627f452935b9f63d2d93f023   \n",
       "c03acf2de0caff5e5850e0f76d555e1b  ac972fb45d1dc05548ecf400229a8038   \n",
       "8776e9183d5f85d90535a0b1b3b4e32a  268e8fb044f82a1497b5fd17918500ea   \n",
       "b29f62452b8e333ffc62d2e69caa18fa  e4ee92c09a755f8889cb8c37a669e160   \n",
       "20ee458e5ee361717b68ca72caf6044e  e80cd8fab25ec8e9cb41e3872e2129c7   \n",
       "\n",
       "                                                                       raw_expr_url  \\\n",
       "uuid                                                                                  \n",
       "a5234e06fed9a14ee8d29c5aa0258ba5                                                      \n",
       "c03acf2de0caff5e5850e0f76d555e1b                                                      \n",
       "8776e9183d5f85d90535a0b1b3b4e32a                                                      \n",
       "b29f62452b8e333ffc62d2e69caa18fa                                                      \n",
       "20ee458e5ee361717b68ca72caf6044e  https://assets.hubmapconsortium.org/f6eb890063...   \n",
       "\n",
       "                                                                           expr_url  \\\n",
       "uuid                                                                                  \n",
       "a5234e06fed9a14ee8d29c5aa0258ba5                                                      \n",
       "c03acf2de0caff5e5850e0f76d555e1b                                                      \n",
       "8776e9183d5f85d90535a0b1b3b4e32a                                                      \n",
       "b29f62452b8e333ffc62d2e69caa18fa                                                      \n",
       "20ee458e5ee361717b68ca72caf6044e  https://assets.hubmapconsortium.org/f6eb890063...   \n",
       "\n",
       "                                                             secondary_analysis_url  \\\n",
       "uuid                                                                                  \n",
       "a5234e06fed9a14ee8d29c5aa0258ba5                                                      \n",
       "c03acf2de0caff5e5850e0f76d555e1b                                                      \n",
       "8776e9183d5f85d90535a0b1b3b4e32a                                                      \n",
       "b29f62452b8e333ffc62d2e69caa18fa                                                      \n",
       "20ee458e5ee361717b68ca72caf6044e  https://assets.hubmapconsortium.org/f6eb890063...   \n",
       "\n",
       "                                 scvelo_url  \n",
       "uuid                                         \n",
       "a5234e06fed9a14ee8d29c5aa0258ba5             \n",
       "c03acf2de0caff5e5850e0f76d555e1b             \n",
       "8776e9183d5f85d90535a0b1b3b4e32a             \n",
       "b29f62452b8e333ffc62d2e69caa18fa             \n",
       "20ee458e5ee361717b68ca72caf6044e             "
      ]
     },
     "execution_count": 2,
     "metadata": {},
     "output_type": "execute_result"
    }
   ],
   "source": [
    "meta_df = ln.Artifact.get(\"ZmKRFUAwmX5RK9d80004\").load()\n",
    "meta_df.head()"
   ]
  },
  {
   "cell_type": "markdown",
   "id": "c9230b0a",
   "metadata": {},
   "source": [
    "## `Reference`"
   ]
  },
  {
   "cell_type": "code",
   "execution_count": 3,
   "id": "c3aff871",
   "metadata": {},
   "outputs": [],
   "source": [
    "reference_names = ln.Reference.inspect(meta_df.title, mute=True).non_validated\n",
    "try:\n",
    "    ln.settings.creation.search_names = False\n",
    "    references = []\n",
    "    for _, row in (\n",
    "        meta_df[[\"title\", \"doi\", \"publication_date\"]].drop_duplicates().iterrows()\n",
    "    ):\n",
    "        if row.title in reference_names:\n",
    "            references.append(\n",
    "                ln.Reference(name=row.title, doi=row.doi, date=row.publication_date)\n",
    "            )\n",
    "finally:\n",
    "    ln.settings.creation.search_names = True"
   ]
  },
  {
   "cell_type": "code",
   "execution_count": 4,
   "id": "ddec43a1",
   "metadata": {},
   "outputs": [],
   "source": [
    "ln.save(references)"
   ]
  },
  {
   "cell_type": "code",
   "execution_count": 5,
   "id": "4459d084",
   "metadata": {},
   "outputs": [
    {
     "data": {
      "text/plain": [
       "0"
      ]
     },
     "execution_count": 5,
     "metadata": {},
     "output_type": "execute_result"
    }
   ],
   "source": [
    "ln.Reference.filter(run_id=ln.context.run.id).count()"
   ]
  },
  {
   "cell_type": "markdown",
   "id": "b908930b",
   "metadata": {},
   "source": [
    "## Tissue"
   ]
  },
  {
   "cell_type": "code",
   "execution_count": 6,
   "id": "16ad1e59",
   "metadata": {},
   "outputs": [
    {
     "data": {
      "text/plain": [
       "array(['LY', 'TH', 'LI', 'SI', 'SP', 'HT', 'LK', 'RK', 'RL', 'LV', 'RN',\n",
       "       'LN', 'BL'], dtype=object)"
      ]
     },
     "execution_count": 6,
     "metadata": {},
     "output_type": "execute_result"
    }
   ],
   "source": [
    "meta_df.organ.unique()"
   ]
  },
  {
   "cell_type": "code",
   "execution_count": 7,
   "id": "a753af96",
   "metadata": {},
   "outputs": [],
   "source": [
    "mapper = {\n",
    "    \"LY\": \"lymph node\",\n",
    "    \"TH\": \"thymus\",\n",
    "    \"LI\": \"large intestine\",\n",
    "    \"SI\": \"small intestine\",\n",
    "    \"SP\": \"spleen\",\n",
    "    \"HT\": \"heart\",\n",
    "    \"LK\": \"kidney (left)\",\n",
    "    \"RK\": \"kidney (right)\",\n",
    "    \"LL\": \"lung (left)\",\n",
    "    \"RL\": \"lung (right)\",\n",
    "    \"LV\": \"liver\",\n",
    "    \"LN\": \"knee (left)\",\n",
    "    \"RN\": \"knee (right)\",\n",
    "    \"BL\": \"bladder organ\",\n",
    "}\n",
    "meta_df[\"tissue\"] = meta_df.organ.map(mapper)"
   ]
  },
  {
   "cell_type": "code",
   "execution_count": 8,
   "id": "cc88d97e",
   "metadata": {},
   "outputs": [],
   "source": [
    "try:\n",
    "    ln.settings.creation.search_names = False\n",
    "    for name in [\n",
    "        \"kidney (left)\",\n",
    "        \"kidney (right)\",\n",
    "        \"lung (right)\",\n",
    "        \"knee (right)\",\n",
    "        \"knee (left)\",\n",
    "    ]:\n",
    "        tissue = bt.Tissue.filter(name=name).one_or_none()\n",
    "        if tissue is None:\n",
    "            tissue = bt.Tissue(name=name).save()\n",
    "            parent = bt.Tissue.get(name=name.split(\" \")[0])\n",
    "            tissue.parents.add(parent)\n",
    "finally:\n",
    "    ln.settings.creation.search_names = True"
   ]
  },
  {
   "cell_type": "code",
   "execution_count": 9,
   "id": "9fa9c2df",
   "metadata": {},
   "outputs": [
    {
     "data": {
      "text/plain": [
       "[]"
      ]
     },
     "execution_count": 9,
     "metadata": {},
     "output_type": "execute_result"
    }
   ],
   "source": [
    "bt.Tissue.inspect(meta_df.tissue).non_validated"
   ]
  },
  {
   "cell_type": "code",
   "execution_count": 10,
   "id": "62768ab0",
   "metadata": {},
   "outputs": [
    {
     "data": {
      "text/plain": [
       "0"
      ]
     },
     "execution_count": 10,
     "metadata": {},
     "output_type": "execute_result"
    }
   ],
   "source": [
    "bt.Tissue.filter(run_id=ln.context.run.id).count()"
   ]
  },
  {
   "cell_type": "markdown",
   "id": "d2649347",
   "metadata": {},
   "source": [
    "## Ethnicity"
   ]
  },
  {
   "cell_type": "code",
   "execution_count": 11,
   "id": "c66a005d",
   "metadata": {},
   "outputs": [
    {
     "data": {
      "text/plain": [
       "array(['White', 'Black or African American', '', 'Unknown'], dtype=object)"
      ]
     },
     "execution_count": 11,
     "metadata": {},
     "output_type": "execute_result"
    }
   ],
   "source": [
    "meta_df.ethnicity.unique()"
   ]
  },
  {
   "cell_type": "code",
   "execution_count": 12,
   "id": "790dc44c",
   "metadata": {},
   "outputs": [],
   "source": [
    "meta_df[\"ethnicity\"] = meta_df.ethnicity.map(\n",
    "    {\n",
    "        \"\": \"na\",\n",
    "        \"Black or African American\": \"African American\",\n",
    "        \"White\": \"European\",\n",
    "        \"Unknown\": \"unknown\",\n",
    "    }\n",
    ")"
   ]
  },
  {
   "cell_type": "code",
   "execution_count": 13,
   "id": "af957246",
   "metadata": {},
   "outputs": [
    {
     "data": {
      "text/plain": [
       "[]"
      ]
     },
     "execution_count": 13,
     "metadata": {},
     "output_type": "execute_result"
    }
   ],
   "source": [
    "bt.Ethnicity.inspect(meta_df.ethnicity).non_validated"
   ]
  },
  {
   "cell_type": "markdown",
   "id": "25f74071",
   "metadata": {},
   "source": [
    "## Sex"
   ]
  },
  {
   "cell_type": "code",
   "execution_count": 14,
   "id": "0ad06bce",
   "metadata": {},
   "outputs": [
    {
     "data": {
      "text/plain": [
       "array(['Male', 'Female', ''], dtype=object)"
      ]
     },
     "execution_count": 14,
     "metadata": {},
     "output_type": "execute_result"
    }
   ],
   "source": [
    "meta_df[\"sex\"].unique()"
   ]
  },
  {
   "cell_type": "code",
   "execution_count": 15,
   "id": "3b4e5173",
   "metadata": {},
   "outputs": [],
   "source": [
    "meta_df[\"sex\"] = meta_df.sex.str.lower().replace([\"\"], \"unknown\")"
   ]
  },
  {
   "cell_type": "code",
   "execution_count": 16,
   "id": "246a83d8",
   "metadata": {},
   "outputs": [
    {
     "data": {
      "text/plain": [
       "[]"
      ]
     },
     "execution_count": 16,
     "metadata": {},
     "output_type": "execute_result"
    }
   ],
   "source": [
    "bt.Phenotype.inspect(meta_df.sex).non_validated"
   ]
  },
  {
   "cell_type": "markdown",
   "id": "a5aa1de7",
   "metadata": {},
   "source": [
    "## Disease"
   ]
  },
  {
   "cell_type": "code",
   "execution_count": 17,
   "id": "a7e8f2f2",
   "metadata": {},
   "outputs": [
    {
     "data": {
      "text/plain": [
       "['Hypertension',\n",
       " 'normal',\n",
       " 'Kidney cancer',\n",
       " 'Liver failure',\n",
       " 'Type 2 Diabetes Mellitus',\n",
       " 'Asthma',\n",
       " 'Hyperlipidimia',\n",
       " 'Obstructive sleep apnea',\n",
       " 'Cardiac Arrest',\n",
       " 'Autistic disorder',\n",
       " 'Heart failure with reduced ejection fraction',\n",
       " 'Coronary Heart Disease',\n",
       " 'Coronary Artery Disease',\n",
       " 'Chronic Obstructive Lung Disease',\n",
       " 'Type 1 Diabetes Mellitus',\n",
       " 'Gastrointestinal disease']"
      ]
     },
     "execution_count": 17,
     "metadata": {},
     "output_type": "execute_result"
    }
   ],
   "source": [
    "diseases = list(set(meta_df.diseases.apply(list).sum()))\n",
    "diseases"
   ]
  },
  {
   "cell_type": "code",
   "execution_count": 18,
   "id": "d6193def",
   "metadata": {},
   "outputs": [],
   "source": [
    "synonyms_mapper = bt.Disease.standardize(diseases, return_mapper=True)"
   ]
  },
  {
   "cell_type": "code",
   "execution_count": 19,
   "id": "d0ba122d",
   "metadata": {},
   "outputs": [
    {
     "name": "stdout",
     "output_type": "stream",
     "text": [
      "\u001b[92m→\u001b[0m returning existing Disease record with same name: 'heart failure with reduced ejection fraction'\n"
     ]
    }
   ],
   "source": [
    "# https://www.ebi.ac.uk/ols4/ontologies/snomed/classes/http%253A%252F%252Fsnomed.info%252Fid%252F703272007\n",
    "# note: we use lower case for names to be consistent with mondo\n",
    "bt.Disease(\n",
    "    name=\"heart failure with reduced ejection fraction\", ontology_id=\"SNOMED:703272007\"\n",
    ").save()\n",
    "# the rest we map to mondo\n",
    "synonyms_mapper.update(\n",
    "    {\n",
    "        \"Hypertension\": \"hypertensive disorder\",\n",
    "        \"Hyperlipidimia\": \"hyperlipidemia\",\n",
    "        \"Autistic disorder\": \"autism\",\n",
    "    }\n",
    ")"
   ]
  },
  {
   "cell_type": "code",
   "execution_count": 20,
   "id": "4e5f57e9",
   "metadata": {},
   "outputs": [],
   "source": [
    "meta_df[\"diseases\"] = meta_df.diseases.apply(\n",
    "    lambda x: [synonyms_mapper.get(i, i) for i in x]\n",
    ")"
   ]
  },
  {
   "cell_type": "code",
   "execution_count": 21,
   "id": "e5a0c980",
   "metadata": {},
   "outputs": [
    {
     "data": {
      "text/plain": [
       "[]"
      ]
     },
     "execution_count": 21,
     "metadata": {},
     "output_type": "execute_result"
    }
   ],
   "source": [
    "bt.Disease.inspect(meta_df.diseases).non_validated"
   ]
  },
  {
   "cell_type": "markdown",
   "id": "b018feb8",
   "metadata": {},
   "source": [
    "## `suspension_type`"
   ]
  },
  {
   "cell_type": "code",
   "execution_count": 22,
   "id": "51245a9d",
   "metadata": {},
   "outputs": [
    {
     "data": {
      "text/plain": [
       "array(['scRNAseq-10xGenomics', 'snRNAseq', 'snRNAseq-10xGenomics-v3',\n",
       "       'sciRNAseq', 'SNARE-seq2', 'SNARE2-RNAseq',\n",
       "       'scRNAseq-10xGenomics-v2', 'scRNAseq-10xGenomics-v3'], dtype=object)"
      ]
     },
     "execution_count": 22,
     "metadata": {},
     "output_type": "execute_result"
    }
   ],
   "source": [
    "meta_df.assay.unique()"
   ]
  },
  {
   "cell_type": "code",
   "execution_count": 23,
   "id": "3d53ef7f",
   "metadata": {},
   "outputs": [],
   "source": [
    "meta_df[\"suspension_type\"] = meta_df.assay.map(\n",
    "    {\n",
    "        \"scRNAseq-10xGenomics\": \"cell\",\n",
    "        \"scRNAseq-10xGenomics-v2\": \"cell\",\n",
    "        \"scRNAseq-10xGenomics-v3\": \"cell\",\n",
    "        \"snRNAseq\": \"nucleus\",\n",
    "        \"snRNAseq-10xGenomics-v3\": \"nucleus\",\n",
    "        \"sciRNAseq\": \"nucleus\",\n",
    "        \"SNARE-seq2\": \"nucleus\",\n",
    "        \"SNARE2-RNAseq\": \"nucleus\",\n",
    "    }\n",
    ")"
   ]
  },
  {
   "cell_type": "code",
   "execution_count": 24,
   "id": "31ae0a56",
   "metadata": {},
   "outputs": [
    {
     "data": {
      "text/plain": [
       "[]"
      ]
     },
     "execution_count": 24,
     "metadata": {},
     "output_type": "execute_result"
    }
   ],
   "source": [
    "ln.ULabel.inspect(meta_df[\"suspension_type\"]).non_validated"
   ]
  },
  {
   "cell_type": "markdown",
   "id": "4e0e6393",
   "metadata": {},
   "source": [
    "## `assay`"
   ]
  },
  {
   "cell_type": "code",
   "execution_count": 25,
   "id": "a61b39b9",
   "metadata": {},
   "outputs": [],
   "source": [
    "meta_df.loc[meta_df.assay == \"SNARE-seq2\", \"rnaseq_assay_method\"] = \"SNARE-seq2\""
   ]
  },
  {
   "cell_type": "code",
   "execution_count": 26,
   "id": "6db3076a",
   "metadata": {},
   "outputs": [
    {
     "data": {
      "text/html": [
       "<div>\n",
       "<style scoped>\n",
       "    .dataframe tbody tr th:only-of-type {\n",
       "        vertical-align: middle;\n",
       "    }\n",
       "\n",
       "    .dataframe tbody tr th {\n",
       "        vertical-align: top;\n",
       "    }\n",
       "\n",
       "    .dataframe thead th {\n",
       "        text-align: right;\n",
       "    }\n",
       "</style>\n",
       "<table border=\"1\" class=\"dataframe\">\n",
       "  <thead>\n",
       "    <tr style=\"text-align: right;\">\n",
       "      <th></th>\n",
       "      <th>assay</th>\n",
       "      <th>rnaseq_assay_method</th>\n",
       "    </tr>\n",
       "    <tr>\n",
       "      <th>uuid</th>\n",
       "      <th></th>\n",
       "      <th></th>\n",
       "    </tr>\n",
       "  </thead>\n",
       "  <tbody>\n",
       "    <tr>\n",
       "      <th>a5234e06fed9a14ee8d29c5aa0258ba5</th>\n",
       "      <td>scRNAseq-10xGenomics</td>\n",
       "      <td>Single Cell 3' v3</td>\n",
       "    </tr>\n",
       "    <tr>\n",
       "      <th>b29f62452b8e333ffc62d2e69caa18fa</th>\n",
       "      <td>snRNAseq</td>\n",
       "      <td>3`</td>\n",
       "    </tr>\n",
       "    <tr>\n",
       "      <th>20ee458e5ee361717b68ca72caf6044e</th>\n",
       "      <td>snRNAseq-10xGenomics-v3</td>\n",
       "      <td>10x Chromium Single Cell 3' Reagent Kits v3.1</td>\n",
       "    </tr>\n",
       "    <tr>\n",
       "      <th>a04d0138ed6b28810c5afa01d392bbd5</th>\n",
       "      <td>snRNAseq</td>\n",
       "      <td>10x Chromium Single Cell 3_ Reagent Kits v7</td>\n",
       "    </tr>\n",
       "    <tr>\n",
       "      <th>a078805198f9f7f022b83de898a608a9</th>\n",
       "      <td>snRNAseq</td>\n",
       "      <td>10x Chromium Single Cell 3_ Reagent Kits v8</td>\n",
       "    </tr>\n",
       "    <tr>\n",
       "      <th>53d1bd99fee337798f475832c2ba4fa6</th>\n",
       "      <td>snRNAseq-10xGenomics-v3</td>\n",
       "      <td>Single Cell Multiome ATAC + Gene Expression - ...</td>\n",
       "    </tr>\n",
       "    <tr>\n",
       "      <th>42b73e4e346571372f4babe678688dfd</th>\n",
       "      <td>sciRNAseq</td>\n",
       "      <td>sciRNAseq</td>\n",
       "    </tr>\n",
       "    <tr>\n",
       "      <th>0523eb73b97a09a4ec7397fc1906988f</th>\n",
       "      <td>snRNAseq-10xGenomics-v3</td>\n",
       "      <td>10x Chromium multiome Reagent Kits</td>\n",
       "    </tr>\n",
       "    <tr>\n",
       "      <th>db9e2006effe3168b4b4f28b96e65d34</th>\n",
       "      <td>snRNAseq-10xGenomics-v3</td>\n",
       "      <td>snRNAseq-10Xgenomics</td>\n",
       "    </tr>\n",
       "    <tr>\n",
       "      <th>e81e134b69e297f7442c6e4050ffb464</th>\n",
       "      <td>SNARE-seq2</td>\n",
       "      <td>SNARE-seq2</td>\n",
       "    </tr>\n",
       "    <tr>\n",
       "      <th>42221548e4c709628522b64d48ba0a75</th>\n",
       "      <td>SNARE2-RNAseq</td>\n",
       "      <td>SNARE2-RNAseq-RNA</td>\n",
       "    </tr>\n",
       "    <tr>\n",
       "      <th>6a75230d8d1063fcc8568537212211f5</th>\n",
       "      <td>snRNAseq</td>\n",
       "      <td>snRNAseq-10Xgenomics</td>\n",
       "    </tr>\n",
       "    <tr>\n",
       "      <th>b2d42d1143a168014996df6d07d5bdf8</th>\n",
       "      <td>SNARE2-RNAseq</td>\n",
       "      <td>SNARE-Seq2-RNA</td>\n",
       "    </tr>\n",
       "    <tr>\n",
       "      <th>af118b12493d5d3794b38b30c3aced45</th>\n",
       "      <td>snRNAseq</td>\n",
       "      <td>Single Cell Multiome ATAC + Gene Expression - ...</td>\n",
       "    </tr>\n",
       "    <tr>\n",
       "      <th>40f7670890ae22c74ba4cf95a3ed6c6b</th>\n",
       "      <td>scRNAseq-10xGenomics-v2</td>\n",
       "      <td>3' end single cell RNA sequencing-bcl2fastq</td>\n",
       "    </tr>\n",
       "    <tr>\n",
       "      <th>2817f3c327f632e70f8c7581265a4aba</th>\n",
       "      <td>scRNAseq-10xGenomics-v3</td>\n",
       "      <td>Chromium Next GEM Single Cell 3' Kit v3.1, 4 r...</td>\n",
       "    </tr>\n",
       "    <tr>\n",
       "      <th>035ba4d304de02aff6179dbc8adf8dc6</th>\n",
       "      <td>scRNAseq-10xGenomics-v3</td>\n",
       "      <td>Chromium Single Cell 3' GEM, Library &amp; Gel Bea...</td>\n",
       "    </tr>\n",
       "    <tr>\n",
       "      <th>3eb2ebe44756a1a9cd244d8c9507fc7b</th>\n",
       "      <td>snRNAseq</td>\n",
       "      <td>10x Chromium Next GEM Single Cell Multiome ATA...</td>\n",
       "    </tr>\n",
       "    <tr>\n",
       "      <th>da93581ef554e25ec1c7a12500a56b74</th>\n",
       "      <td>snRNAseq</td>\n",
       "      <td>10x Chromium Single Cell 3_ Reagent Kits v4</td>\n",
       "    </tr>\n",
       "    <tr>\n",
       "      <th>c3d36358b184be55ac977abea5755447</th>\n",
       "      <td>snRNAseq</td>\n",
       "      <td>10x Chromium Single Cell 3_ Reagent Kits v9</td>\n",
       "    </tr>\n",
       "    <tr>\n",
       "      <th>57288d8a0a9374ea83f90582df8eafa2</th>\n",
       "      <td>snRNAseq</td>\n",
       "      <td>10x Chromium Single Cell 3_ Reagent Kits v10</td>\n",
       "    </tr>\n",
       "    <tr>\n",
       "      <th>f1937797246fa4592bff6166d7666de5</th>\n",
       "      <td>snRNAseq</td>\n",
       "      <td>10x Chromium Single Cell 3_ Reagent Kits v3</td>\n",
       "    </tr>\n",
       "    <tr>\n",
       "      <th>e18254c67c8a0bb625f3748a2501a0bb</th>\n",
       "      <td>snRNAseq</td>\n",
       "      <td>10x Chromium Single Cell 3_ Reagent Kits v5</td>\n",
       "    </tr>\n",
       "    <tr>\n",
       "      <th>492574f47224661fe8674f60373e44f4</th>\n",
       "      <td>snRNAseq</td>\n",
       "      <td>10x Chromium Single Cell 3_ Reagent Kits v6</td>\n",
       "    </tr>\n",
       "  </tbody>\n",
       "</table>\n",
       "</div>"
      ],
      "text/plain": [
       "                                                    assay  \\\n",
       "uuid                                                        \n",
       "a5234e06fed9a14ee8d29c5aa0258ba5     scRNAseq-10xGenomics   \n",
       "b29f62452b8e333ffc62d2e69caa18fa                 snRNAseq   \n",
       "20ee458e5ee361717b68ca72caf6044e  snRNAseq-10xGenomics-v3   \n",
       "a04d0138ed6b28810c5afa01d392bbd5                 snRNAseq   \n",
       "a078805198f9f7f022b83de898a608a9                 snRNAseq   \n",
       "53d1bd99fee337798f475832c2ba4fa6  snRNAseq-10xGenomics-v3   \n",
       "42b73e4e346571372f4babe678688dfd                sciRNAseq   \n",
       "0523eb73b97a09a4ec7397fc1906988f  snRNAseq-10xGenomics-v3   \n",
       "db9e2006effe3168b4b4f28b96e65d34  snRNAseq-10xGenomics-v3   \n",
       "e81e134b69e297f7442c6e4050ffb464               SNARE-seq2   \n",
       "42221548e4c709628522b64d48ba0a75            SNARE2-RNAseq   \n",
       "6a75230d8d1063fcc8568537212211f5                 snRNAseq   \n",
       "b2d42d1143a168014996df6d07d5bdf8            SNARE2-RNAseq   \n",
       "af118b12493d5d3794b38b30c3aced45                 snRNAseq   \n",
       "40f7670890ae22c74ba4cf95a3ed6c6b  scRNAseq-10xGenomics-v2   \n",
       "2817f3c327f632e70f8c7581265a4aba  scRNAseq-10xGenomics-v3   \n",
       "035ba4d304de02aff6179dbc8adf8dc6  scRNAseq-10xGenomics-v3   \n",
       "3eb2ebe44756a1a9cd244d8c9507fc7b                 snRNAseq   \n",
       "da93581ef554e25ec1c7a12500a56b74                 snRNAseq   \n",
       "c3d36358b184be55ac977abea5755447                 snRNAseq   \n",
       "57288d8a0a9374ea83f90582df8eafa2                 snRNAseq   \n",
       "f1937797246fa4592bff6166d7666de5                 snRNAseq   \n",
       "e18254c67c8a0bb625f3748a2501a0bb                 snRNAseq   \n",
       "492574f47224661fe8674f60373e44f4                 snRNAseq   \n",
       "\n",
       "                                                                rnaseq_assay_method  \n",
       "uuid                                                                                 \n",
       "a5234e06fed9a14ee8d29c5aa0258ba5                                  Single Cell 3' v3  \n",
       "b29f62452b8e333ffc62d2e69caa18fa                                                 3`  \n",
       "20ee458e5ee361717b68ca72caf6044e      10x Chromium Single Cell 3' Reagent Kits v3.1  \n",
       "a04d0138ed6b28810c5afa01d392bbd5        10x Chromium Single Cell 3_ Reagent Kits v7  \n",
       "a078805198f9f7f022b83de898a608a9        10x Chromium Single Cell 3_ Reagent Kits v8  \n",
       "53d1bd99fee337798f475832c2ba4fa6  Single Cell Multiome ATAC + Gene Expression - ...  \n",
       "42b73e4e346571372f4babe678688dfd                                          sciRNAseq  \n",
       "0523eb73b97a09a4ec7397fc1906988f                 10x Chromium multiome Reagent Kits  \n",
       "db9e2006effe3168b4b4f28b96e65d34                               snRNAseq-10Xgenomics  \n",
       "e81e134b69e297f7442c6e4050ffb464                                         SNARE-seq2  \n",
       "42221548e4c709628522b64d48ba0a75                                  SNARE2-RNAseq-RNA  \n",
       "6a75230d8d1063fcc8568537212211f5                               snRNAseq-10Xgenomics  \n",
       "b2d42d1143a168014996df6d07d5bdf8                                     SNARE-Seq2-RNA  \n",
       "af118b12493d5d3794b38b30c3aced45  Single Cell Multiome ATAC + Gene Expression - ...  \n",
       "40f7670890ae22c74ba4cf95a3ed6c6b        3' end single cell RNA sequencing-bcl2fastq  \n",
       "2817f3c327f632e70f8c7581265a4aba  Chromium Next GEM Single Cell 3' Kit v3.1, 4 r...  \n",
       "035ba4d304de02aff6179dbc8adf8dc6  Chromium Single Cell 3' GEM, Library & Gel Bea...  \n",
       "3eb2ebe44756a1a9cd244d8c9507fc7b  10x Chromium Next GEM Single Cell Multiome ATA...  \n",
       "da93581ef554e25ec1c7a12500a56b74        10x Chromium Single Cell 3_ Reagent Kits v4  \n",
       "c3d36358b184be55ac977abea5755447        10x Chromium Single Cell 3_ Reagent Kits v9  \n",
       "57288d8a0a9374ea83f90582df8eafa2       10x Chromium Single Cell 3_ Reagent Kits v10  \n",
       "f1937797246fa4592bff6166d7666de5        10x Chromium Single Cell 3_ Reagent Kits v3  \n",
       "e18254c67c8a0bb625f3748a2501a0bb        10x Chromium Single Cell 3_ Reagent Kits v5  \n",
       "492574f47224661fe8674f60373e44f4        10x Chromium Single Cell 3_ Reagent Kits v6  "
      ]
     },
     "execution_count": 26,
     "metadata": {},
     "output_type": "execute_result"
    }
   ],
   "source": [
    "meta_df[[\"assay\", \"rnaseq_assay_method\"]].drop_duplicates()"
   ]
  },
  {
   "cell_type": "code",
   "execution_count": 27,
   "id": "96ab15de",
   "metadata": {},
   "outputs": [],
   "source": [
    "mapper = {\n",
    "    \"Single Cell 3' v3\": \"10x 3' v3\",\n",
    "    \"3`\": \"10x 3' v3\",\n",
    "    \"10x Chromium Single Cell 3' Reagent Kits v3.1\": \"10x 3' v3\",\n",
    "    \"Single Cell 3' v1\": \"10x 3' v1\",\n",
    "    \"10x Chromium Single Cell 3_ Reagent Kits v7\": \"10x 3' v3\",\n",
    "    \"10x Chromium Single Cell 3_ Reagent Kits v8\": \"10x 3' v3\",\n",
    "    \"Single Cell Multiome ATAC + Gene Expression - Chromium Next GEM Single Cell 3' v3.1 (dual index)\": \"10x multiome\",\n",
    "    \"sciRNAseq\": \"sci-RNA-seq3\",\n",
    "    \"10x Chromium multiome Reagent Kits\": \"10x multiome\",\n",
    "    \"snRNAseq-10Xgenomics\": \"10x 3' v3\",\n",
    "    \"SNARE2-RNAseq-RNA\": \"SNARE-seq2\",\n",
    "    \"SNARE-Seq2-RNA\": \"SNARE-seq2\",\n",
    "    \"3' end single cell RNA sequencing-bcl2fastq\": \"10x 3' v2\",\n",
    "    \"Chromium Next GEM Single Cell 3' Kit v3.1, 4 rxns PN-1000269\": \"10x 3' v3\",\n",
    "    \"Chromium Single Cell 3' GEM, Library & Gel Bead Kit v3, 4 rxns PN-1000092\": \"10x 3' v3\",\n",
    "    \"10x Chromium Next GEM Single Cell Multiome ATAC + Gene Expression Reagent Bundle\": \"10x multiome\",\n",
    "    \"10x Chromium Single Cell 3_ Reagent Kits v4\": \"10x 3' v3\",\n",
    "    \"10x Chromium Single Cell 3_ Reagent Kits v9\": \"10x 3' v3\",\n",
    "    \"10x Chromium Single Cell 3_ Reagent Kits v10\": \"10x 3' v3\",\n",
    "    \"10x Chromium Single Cell 3_ Reagent Kits v3\": \"10x 3' v3\",\n",
    "    \"10x Chromium Single Cell 3_ Reagent Kits v5\": \"10x 3' v3\",\n",
    "    \"10x Chromium Single Cell 3_ Reagent Kits v6\": \"10x 3' v3\",\n",
    "}"
   ]
  },
  {
   "cell_type": "code",
   "execution_count": 28,
   "id": "4bf23e17",
   "metadata": {},
   "outputs": [
    {
     "name": "stdout",
     "output_type": "stream",
     "text": [
      "\u001b[92m→\u001b[0m returning existing ExperimentalFactor record with same name: 'SNARE-seq2'\n"
     ]
    },
    {
     "data": {
      "text/plain": [
       "ExperimentalFactor(uid='4hJHgoOo', name='SNARE-seq2', created_by_id=1, run_id=3, space_id=1, created_at=2025-01-24 13:13:02 UTC)"
      ]
     },
     "execution_count": 28,
     "metadata": {},
     "output_type": "execute_result"
    }
   ],
   "source": [
    "bt.ExperimentalFactor(name=\"SNARE-seq2\").save()"
   ]
  },
  {
   "cell_type": "code",
   "execution_count": 29,
   "id": "36f79302",
   "metadata": {},
   "outputs": [],
   "source": [
    "meta_df[\"assay\"] = meta_df.rnaseq_assay_method.replace(mapper)"
   ]
  },
  {
   "cell_type": "code",
   "execution_count": 30,
   "id": "8482d49c",
   "metadata": {},
   "outputs": [
    {
     "data": {
      "text/plain": [
       "[]"
      ]
     },
     "execution_count": 30,
     "metadata": {},
     "output_type": "execute_result"
    }
   ],
   "source": [
    "bt.ExperimentalFactor.inspect(meta_df.assay).non_validated"
   ]
  },
  {
   "cell_type": "markdown",
   "id": "d1c21aaf",
   "metadata": {},
   "source": [
    "## `donor_id`"
   ]
  },
  {
   "cell_type": "code",
   "execution_count": 31,
   "id": "bd2bd30f",
   "metadata": {},
   "outputs": [],
   "source": [
    "ethnicities = bt.Ethnicity.lookup().dict()\n",
    "\n",
    "try:\n",
    "    ln.settings.creation.search_names = False\n",
    "    donors = []\n",
    "    for _, row in (\n",
    "        meta_df[[\"donor_id\", \"age\", \"bmi\", \"ethnicity\"]].drop_duplicates().iterrows()\n",
    "    ):\n",
    "        donor = wl.Donor.filter(name=row.donor_id).one_or_none()\n",
    "        if donor is None:\n",
    "            ethnicity = ethnicities.get(row.ethnicity)\n",
    "            if row.age == \"\":\n",
    "                age = None\n",
    "            else:\n",
    "                age = int(float(row.age))\n",
    "            bmi = None if row.bmi == \"\" else row.bmi\n",
    "            donor = wl.Donor(\n",
    "                name=row.donor_id,\n",
    "                batch=\"unknown\",\n",
    "                age=age,\n",
    "                bmi=bmi,\n",
    "                ethnicity=ethnicity,\n",
    "            )\n",
    "            donors.append(donor)\n",
    "finally:\n",
    "    ln.settings.creation.search_names = True"
   ]
  },
  {
   "cell_type": "code",
   "execution_count": 32,
   "id": "39e5b6cb",
   "metadata": {},
   "outputs": [],
   "source": [
    "ln.save(donors)"
   ]
  },
  {
   "cell_type": "markdown",
   "id": "2670721f",
   "metadata": {},
   "source": [
    "## `biosample`"
   ]
  },
  {
   "cell_type": "code",
   "execution_count": 33,
   "id": "1c07c489",
   "metadata": {},
   "outputs": [],
   "source": [
    "try:\n",
    "    ln.settings.creation.search_names = False\n",
    "    samples = []\n",
    "    for _, row in meta_df[[\"sample_id\"]].drop_duplicates().iterrows():\n",
    "        sample = wl.Biosample.filter(name=row.sample_id).one_or_none()\n",
    "        if sample is None:\n",
    "            sample = wl.Biosample(name=row.sample_id)\n",
    "            samples.append(sample)\n",
    "finally:\n",
    "    ln.settings.creation.search_names = True"
   ]
  },
  {
   "cell_type": "code",
   "execution_count": 34,
   "id": "cf6624cd",
   "metadata": {},
   "outputs": [],
   "source": [
    "ln.save(samples)"
   ]
  },
  {
   "cell_type": "markdown",
   "id": "8b3c3851",
   "metadata": {},
   "source": [
    "## `tissue_type`"
   ]
  },
  {
   "cell_type": "code",
   "execution_count": 35,
   "id": "168b12ac",
   "metadata": {},
   "outputs": [],
   "source": [
    "meta_df[\"tissue_type\"] = \"tissue\""
   ]
  },
  {
   "cell_type": "markdown",
   "id": "9f4f3c97",
   "metadata": {},
   "source": [
    "## `expression types`"
   ]
  },
  {
   "cell_type": "code",
   "execution_count": 36,
   "id": "b090b0f7",
   "metadata": {},
   "outputs": [
    {
     "name": "stdout",
     "output_type": "stream",
     "text": [
      "\u001b[92m→\u001b[0m returning existing ULabel record with same name: 'expression_type'\n",
      "\u001b[92m→\u001b[0m returning existing ULabel record with same name: 'raw'\n",
      "\u001b[92m→\u001b[0m returning existing ULabel record with same name: 'expr'\n",
      "\u001b[92m→\u001b[0m returning existing ULabel record with same name: 'secondary'\n"
     ]
    }
   ],
   "source": [
    "expression_type = ln.ULabel(name=\"expression_type\").save()\n",
    "raw_ul = ln.ULabel(name=\"raw\").save()\n",
    "expr_ul = ln.ULabel(name=\"expr\").save()\n",
    "secondary_ul = ln.ULabel(name=\"secondary\").save()\n",
    "scvelo_ul = ln.ULabel(name=\"scvelo\").save()\n",
    "expression_type.children.set([raw_ul, expr_ul, secondary_ul, scvelo_ul])"
   ]
  },
  {
   "cell_type": "markdown",
   "id": "13b9fcaf",
   "metadata": {},
   "source": [
    "## Save the curated metadata table"
   ]
  },
  {
   "cell_type": "code",
   "execution_count": 37,
   "id": "02182c43",
   "metadata": {},
   "outputs": [
    {
     "name": "stdout",
     "output_type": "stream",
     "text": [
      "\u001b[92m→\u001b[0m creating new artifact version for key='2024-12-20_15-35-09/meta_scrna_curated.parquet' (storage: 's3://lamin-us-west-2/sznqFqn7xUoI')\n",
      "... uploading Z8sZr9vMHjY5WjqL0002.parquet: 100.0%\n",
      "\u001b[93m!\u001b[0m The cache path /home/lukas/.cache/lamindb/lamin-us-west-2/sznqFqn7xUoI/2024-12-20_15-35-09/meta_scrna_curated.parquet already exists, replacing it.\n"
     ]
    },
    {
     "data": {
      "text/plain": [
       "Artifact(uid='Z8sZr9vMHjY5WjqL0002', is_latest=True, key='2024-12-20_15-35-09/meta_scrna_curated.parquet', suffix='.parquet', kind='dataset', otype='DataFrame', size=87365, hash='bgNFzbe7m_Xci37nncSV4g', space_id=1, storage_id=1, run_id=13, created_by_id=3, created_at=2025-01-31 13:31:55 UTC)"
      ]
     },
     "execution_count": 37,
     "metadata": {},
     "output_type": "execute_result"
    }
   ],
   "source": [
    "artifact = ln.Artifact.from_df(\n",
    "    meta_df, key=\"2024-12-20_15-35-09/meta_scrna_curated.parquet\"\n",
    ").save()\n",
    "artifact"
   ]
  },
  {
   "cell_type": "code",
   "execution_count": 38,
   "id": "128bb655",
   "metadata": {},
   "outputs": [
    {
     "name": "stdout",
     "output_type": "stream",
     "text": [
      "\u001b[92m→\u001b[0m finished Run('kn6hazMA') after 1m at 2025-01-31 13:31:58 UTC\n",
      "\u001b[92m→\u001b[0m go to: https://lamin.ai/laminlabs/hubmap/transform/5znJrS1UjwCi0003\n",
      "\u001b[92m→\u001b[0m to update your notebook from the CLI, run: lamin save /home/lukas/code/hubmap_registration/register-metadata.ipynb\n"
     ]
    }
   ],
   "source": [
    "ln.finish()"
   ]
  }
 ],
 "metadata": {
  "jupytext": {
   "cell_metadata_filter": "-all",
   "main_language": "python",
   "notebook_metadata_filter": "-all"
  },
  "kernelspec": {
   "display_name": "lamindb",
   "language": "python",
   "name": "python3"
  },
  "language_info": {
   "codemirror_mode": {
    "name": "ipython",
    "version": 3
   },
   "file_extension": ".py",
   "mimetype": "text/x-python",
   "name": "python",
   "nbconvert_exporter": "python",
   "pygments_lexer": "ipython3",
   "version": "3.12.8"
  }
 },
 "nbformat": 4,
 "nbformat_minor": 5
}
