{
 "cells": [
  {
   "cell_type": "markdown",
   "id": "9e7f382e-66d7-4de3-a902-e921feebd0d8",
   "metadata": {},
   "source": [
    "# Import ontologies"
   ]
  },
  {
   "cell_type": "code",
   "execution_count": 1,
   "id": "6cc44d3b-1dc3-48b2-863e-c24ffb362195",
   "metadata": {},
   "outputs": [
    {
     "name": "stdout",
     "output_type": "stream",
     "text": [
      "\u001b[92m→\u001b[0m connected lamindb: laminlabs/hubmap\n",
      "\u001b[92m→\u001b[0m loaded Transform('yplcE2D261VN0000'), re-started Run('x2VqU0VV...') at 2025-01-31 11:36:36 UTC\n",
      "\u001b[92m→\u001b[0m notebook imports: bionty==1.0.0 lamindb==1.0.5\n"
     ]
    }
   ],
   "source": [
    "import lamindb as ln\n",
    "import bionty as bt\n",
    "\n",
    "ln.track()"
   ]
  },
  {
   "cell_type": "markdown",
   "id": "aef298b7-df55-4482-8cf8-1cc057c63d32",
   "metadata": {},
   "source": [
    "## CellType"
   ]
  },
  {
   "cell_type": "code",
   "execution_count": 2,
   "id": "b11c00ac-4552-407c-baf2-ee903ecf5e78",
   "metadata": {},
   "outputs": [
    {
     "data": {
      "text/plain": [
       "PublicOntology\n",
       "Entity: CellType\n",
       "Organism: all\n",
       "Source: cl, 2024-05-15\n",
       "#terms: 2931\n"
      ]
     },
     "execution_count": 2,
     "metadata": {},
     "output_type": "execute_result"
    }
   ],
   "source": [
    "bt.CellType.public()"
   ]
  },
  {
   "cell_type": "code",
   "execution_count": 3,
   "id": "a849e67f-f244-4551-8214-6510258bfbb4",
   "metadata": {},
   "outputs": [],
   "source": [
    "bt.CellType.import_source()"
   ]
  },
  {
   "cell_type": "code",
   "execution_count": 4,
   "id": "9eeb6bef-44b8-471a-99e2-5ccfece4dc96",
   "metadata": {},
   "outputs": [
    {
     "name": "stdout",
     "output_type": "stream",
     "text": [
      "\u001b[92m→\u001b[0m returning existing CellType record with same name: 'unknown'\n"
     ]
    },
    {
     "data": {
      "text/plain": [
       "CellType(uid='5HWRj1OD', name='unknown', ontology_id='unknown', created_by_id=3, run_id=1, space_id=1, created_at=2025-01-16 15:41:08 UTC)"
      ]
     },
     "execution_count": 4,
     "metadata": {},
     "output_type": "execute_result"
    }
   ],
   "source": [
    "bt.CellType(ontology_id=\"unknown\", name=\"unknown\").save()"
   ]
  },
  {
   "cell_type": "markdown",
   "id": "6869f3d5-bf25-40b9-bc51-a510546ca7c3",
   "metadata": {},
   "source": [
    "## CellLine"
   ]
  },
  {
   "cell_type": "code",
   "execution_count": 5,
   "id": "a54b96ee-497d-4228-90c5-abc9c8bc5b8c",
   "metadata": {},
   "outputs": [],
   "source": [
    "depmap = bt.Source.get(name=\"depmap\")\n",
    "public_df = bt.CellLine.public(source=depmap).df()\n",
    "bt.CellLine.from_values(\n",
    "    public_df.index, field=bt.CellLine.ontology_id, source=depmap\n",
    ").save();"
   ]
  },
  {
   "cell_type": "code",
   "execution_count": 6,
   "id": "460d6731-eee3-4828-abf2-f07872daa835",
   "metadata": {},
   "outputs": [],
   "source": [
    "clo = bt.Source.get(name=\"clo\")\n",
    "public_df = bt.CellLine.public(source=clo).df()\n",
    "bt.CellLine.from_values(\n",
    "    public_df.index, field=bt.CellLine.ontology_id, source=clo\n",
    ").save();"
   ]
  },
  {
   "cell_type": "markdown",
   "id": "93a97a2a-2ad7-4714-930b-112cebbeb223",
   "metadata": {},
   "source": [
    "## Tissue"
   ]
  },
  {
   "cell_type": "code",
   "execution_count": 7,
   "id": "2a7e0936-2225-4926-a09e-18c72d4ef2c2",
   "metadata": {},
   "outputs": [
    {
     "data": {
      "text/plain": [
       "PublicOntology\n",
       "Entity: Tissue\n",
       "Organism: all\n",
       "Source: uberon, 2024-08-07\n",
       "#terms: 15631\n"
      ]
     },
     "execution_count": 7,
     "metadata": {},
     "output_type": "execute_result"
    }
   ],
   "source": [
    "bt.Tissue.public()"
   ]
  },
  {
   "cell_type": "code",
   "execution_count": 8,
   "id": "f37afcaf-1f83-4ce9-a2d2-944e709ba961",
   "metadata": {},
   "outputs": [],
   "source": [
    "bt.Tissue.import_source()"
   ]
  },
  {
   "cell_type": "markdown",
   "id": "a2095b80",
   "metadata": {},
   "source": [
    "## Phenotype"
   ]
  },
  {
   "cell_type": "code",
   "execution_count": 9,
   "id": "f2c30673",
   "metadata": {},
   "outputs": [
    {
     "data": {
      "text/plain": [
       "12"
      ]
     },
     "execution_count": 9,
     "metadata": {},
     "output_type": "execute_result"
    }
   ],
   "source": [
    "bt.Source.filter(entity=\"bionty.Phenotype\").exclude(name=\"pato\").update(\n",
    "    currently_used=False\n",
    ")"
   ]
  },
  {
   "cell_type": "code",
   "execution_count": 10,
   "id": "78d15c35",
   "metadata": {},
   "outputs": [
    {
     "data": {
      "text/plain": [
       "PublicOntology\n",
       "Entity: Phenotype\n",
       "Organism: all\n",
       "Source: pato, 2024-03-28\n",
       "#terms: 2776\n"
      ]
     },
     "execution_count": 10,
     "metadata": {},
     "output_type": "execute_result"
    }
   ],
   "source": [
    "bt.Phenotype.public()"
   ]
  },
  {
   "cell_type": "code",
   "execution_count": 11,
   "id": "2721734a",
   "metadata": {},
   "outputs": [],
   "source": [
    "bt.Phenotype.import_source()"
   ]
  },
  {
   "cell_type": "code",
   "execution_count": 12,
   "id": "c8ab62f9",
   "metadata": {},
   "outputs": [
    {
     "name": "stdout",
     "output_type": "stream",
     "text": [
      "\u001b[92m→\u001b[0m returning existing Phenotype record with same name: 'unknown'\n"
     ]
    },
    {
     "data": {
      "text/plain": [
       "Phenotype(uid='5HWRj1OD', name='unknown', ontology_id='unknown', created_by_id=3, run_id=1, space_id=1, created_at=2025-01-16 15:55:20 UTC)"
      ]
     },
     "execution_count": 12,
     "metadata": {},
     "output_type": "execute_result"
    }
   ],
   "source": [
    "bt.Phenotype(ontology_id=\"unknown\", name=\"unknown\").save()"
   ]
  },
  {
   "cell_type": "markdown",
   "id": "5cb9e4c9-a143-471d-8074-6566d5028cc7",
   "metadata": {},
   "source": [
    "## Disease"
   ]
  },
  {
   "cell_type": "code",
   "execution_count": 13,
   "id": "5371579e-f6b2-4806-a3a9-3647a14a3d77",
   "metadata": {},
   "outputs": [
    {
     "data": {
      "text/plain": [
       "PublicOntology\n",
       "Entity: Disease\n",
       "Organism: all\n",
       "Source: mondo, 2024-06-04\n",
       "#terms: 28029\n"
      ]
     },
     "execution_count": 13,
     "metadata": {},
     "output_type": "execute_result"
    }
   ],
   "source": [
    "bt.Disease.public()"
   ]
  },
  {
   "cell_type": "code",
   "execution_count": 14,
   "id": "529d7812-46bb-4d68-acd8-0165d5bd4f93",
   "metadata": {},
   "outputs": [],
   "source": [
    "bt.Disease.import_source()"
   ]
  },
  {
   "cell_type": "code",
   "execution_count": 15,
   "id": "c78cbc4d-05ee-43ca-9ad8-075210896fa1",
   "metadata": {},
   "outputs": [],
   "source": [
    "pato = bt.Source.filter(name=\"pato\", version=\"2024-03-28\").one()\n",
    "normal = bt.Phenotype.from_source(ontology_id=\"PATO:0000461\", source=pato)"
   ]
  },
  {
   "cell_type": "code",
   "execution_count": 16,
   "id": "99f5ce2b-767a-4bb3-8779-69eb78899064",
   "metadata": {},
   "outputs": [
    {
     "data": {
      "text/plain": [
       "Phenotype(uid='6IZiH6X8', name='normal', ontology_id='PATO:0000461', description='A Quality Inhering In A Bearer By Virtue Of The Bearer'S Exhibiting No Deviation From Normal Or Average.', created_by_id=3, run_id=1, space_id=1, source_id=84, created_at=2025-01-16 16:21:47 UTC)"
      ]
     },
     "execution_count": 16,
     "metadata": {},
     "output_type": "execute_result"
    }
   ],
   "source": [
    "normal"
   ]
  },
  {
   "cell_type": "code",
   "execution_count": 17,
   "id": "83cb65e2-d542-4d1e-b152-605896c07b14",
   "metadata": {},
   "outputs": [
    {
     "name": "stdout",
     "output_type": "stream",
     "text": [
      "\u001b[92m→\u001b[0m returning existing Disease record with same name: 'normal'\n"
     ]
    },
    {
     "data": {
      "text/plain": [
       "Disease(uid='6IZiH6X8', name='normal', ontology_id='PATO:0000461', description='A Quality Inhering In A Bearer By Virtue Of The Bearer'S Exhibiting No Deviation From Normal Or Average.', created_by_id=3, run_id=1, space_id=1, source_id=84, created_at=2025-01-16 16:22:20 UTC)"
      ]
     },
     "execution_count": 17,
     "metadata": {},
     "output_type": "execute_result"
    }
   ],
   "source": [
    "bt.Disease(\n",
    "    uid=normal.uid,\n",
    "    name=normal.name,\n",
    "    ontology_id=normal.ontology_id,\n",
    "    description=normal.description,\n",
    "    source=normal.source,\n",
    ").save()"
   ]
  },
  {
   "cell_type": "markdown",
   "id": "fe33ca6c-67e8-481e-92f8-316ee62c3860",
   "metadata": {},
   "source": [
    "## Ethnicity"
   ]
  },
  {
   "cell_type": "code",
   "execution_count": 18,
   "id": "3c19cdc6-0215-402b-9789-6168510565bd",
   "metadata": {},
   "outputs": [
    {
     "data": {
      "text/plain": [
       "PublicOntology\n",
       "Entity: Ethnicity\n",
       "Organism: human\n",
       "Source: hancestro, 3.0\n",
       "#terms: 342\n"
      ]
     },
     "execution_count": 18,
     "metadata": {},
     "output_type": "execute_result"
    }
   ],
   "source": [
    "bt.Ethnicity.public()"
   ]
  },
  {
   "cell_type": "code",
   "execution_count": 19,
   "id": "050382d5-9168-49f0-8dac-98a6124a754f",
   "metadata": {},
   "outputs": [],
   "source": [
    "bt.Ethnicity.import_source()"
   ]
  },
  {
   "cell_type": "code",
   "execution_count": 20,
   "id": "def86943-f2e2-479c-a94a-2585a373f296",
   "metadata": {},
   "outputs": [
    {
     "name": "stdout",
     "output_type": "stream",
     "text": [
      "\u001b[92m→\u001b[0m returning existing Ethnicity record with same name: 'na'\n",
      "\u001b[92m→\u001b[0m returning existing Ethnicity record with same name: 'unknown'\n"
     ]
    },
    {
     "data": {
      "text/plain": [
       "Ethnicity(uid='5HWRj1OD', name='unknown', ontology_id='unknown', created_by_id=3, run_id=1, space_id=1, created_at=2025-01-16 16:22:26 UTC)"
      ]
     },
     "execution_count": 20,
     "metadata": {},
     "output_type": "execute_result"
    }
   ],
   "source": [
    "bt.Ethnicity(ontology_id=\"na\", name=\"na\").save()\n",
    "bt.Ethnicity(ontology_id=\"unknown\", name=\"unknown\").save()"
   ]
  },
  {
   "cell_type": "markdown",
   "id": "851489f4-e020-4bec-a2c3-e43e68e324a9",
   "metadata": {},
   "source": [
    "## ExperimentalFactor"
   ]
  },
  {
   "cell_type": "code",
   "execution_count": 21,
   "id": "5d89fd8a-a7c7-46c5-8e87-e33e49789b97",
   "metadata": {},
   "outputs": [
    {
     "data": {
      "text/plain": [
       "PublicOntology\n",
       "Entity: ExperimentalFactor\n",
       "Organism: all\n",
       "Source: efo, 3.70.0\n",
       "#terms: 18131\n"
      ]
     },
     "execution_count": 21,
     "metadata": {},
     "output_type": "execute_result"
    }
   ],
   "source": [
    "bt.ExperimentalFactor.public()"
   ]
  },
  {
   "cell_type": "code",
   "execution_count": 22,
   "id": "aa061441-cb56-4466-9439-473dcd70c369",
   "metadata": {},
   "outputs": [],
   "source": [
    "bt.ExperimentalFactor.import_source()"
   ]
  },
  {
   "cell_type": "markdown",
   "id": "e0fdc90b-2e84-48d3-9d7a-dd7d88cc989f",
   "metadata": {},
   "source": [
    "## DevelopmentalStage"
   ]
  },
  {
   "cell_type": "code",
   "execution_count": 23,
   "id": "4c9065a7-e45f-4d9a-a445-7f2d77dec794",
   "metadata": {},
   "outputs": [
    {
     "data": {
      "text/plain": [
       "PublicOntology\n",
       "Entity: DevelopmentalStage\n",
       "Organism: human\n",
       "Source: hsapdv, 2024-05-28\n",
       "#terms: 259\n"
      ]
     },
     "execution_count": 23,
     "metadata": {},
     "output_type": "execute_result"
    }
   ],
   "source": [
    "bt.DevelopmentalStage.public(organism=\"human\")"
   ]
  },
  {
   "cell_type": "code",
   "execution_count": 24,
   "id": "02889e11-f151-4bfd-942a-aca73e358b20",
   "metadata": {},
   "outputs": [],
   "source": [
    "bt.DevelopmentalStage.import_source(organism=\"human\")"
   ]
  },
  {
   "cell_type": "code",
   "execution_count": 25,
   "id": "9ee9753f-d95c-44bc-b1f7-1c238abb5591",
   "metadata": {},
   "outputs": [
    {
     "data": {
      "text/plain": [
       "PublicOntology\n",
       "Entity: DevelopmentalStage\n",
       "Organism: mouse\n",
       "Source: mmusdv, 2024-05-28\n",
       "#terms: 178\n"
      ]
     },
     "execution_count": 25,
     "metadata": {},
     "output_type": "execute_result"
    }
   ],
   "source": [
    "bt.DevelopmentalStage.public(organism=\"mouse\")"
   ]
  },
  {
   "cell_type": "code",
   "execution_count": 26,
   "id": "da77ecd8-0516-4ef8-8731-4a3b0ce65995",
   "metadata": {},
   "outputs": [],
   "source": [
    "bt.DevelopmentalStage.import_source(organism=\"mouse\")"
   ]
  },
  {
   "cell_type": "code",
   "execution_count": 27,
   "id": "f6de8c5f-47e2-4d8d-913e-8308d53ae459",
   "metadata": {},
   "outputs": [
    {
     "name": "stdout",
     "output_type": "stream",
     "text": [
      "\u001b[92m→\u001b[0m returning existing DevelopmentalStage record with same name: 'unknown'\n"
     ]
    },
    {
     "data": {
      "text/plain": [
       "DevelopmentalStage(uid='6jNHUvWd', name='unknown', ontology_id='MmusDv:0000041', created_by_id=3, run_id=1, space_id=1, source_id=98, created_at=2025-01-16 16:22:57 UTC)"
      ]
     },
     "execution_count": 27,
     "metadata": {},
     "output_type": "execute_result"
    }
   ],
   "source": [
    "bt.DevelopmentalStage(ontology_id=\"unknown\", name=\"unknown\").save()"
   ]
  },
  {
   "cell_type": "markdown",
   "id": "61e4eda0-e450-4fd6-884f-36d53e788b55",
   "metadata": {},
   "source": [
    "## Gene\n",
    "\n",
    "User a newer version `release-112` than what cellxgene schema 5.2 specified (`release-110`) "
   ]
  },
  {
   "cell_type": "code",
   "execution_count": 28,
   "id": "43f902b2-99b0-449d-86b7-04ba3a159daa",
   "metadata": {},
   "outputs": [
    {
     "data": {
      "text/plain": [
       "PublicOntology\n",
       "Entity: Gene\n",
       "Organism: human\n",
       "Source: ensembl, release-112\n",
       "#terms: 75829\n"
      ]
     },
     "execution_count": 28,
     "metadata": {},
     "output_type": "execute_result"
    }
   ],
   "source": [
    "bt.Gene.public(organism=\"human\")"
   ]
  },
  {
   "cell_type": "code",
   "execution_count": 29,
   "id": "23e74c9f-9d8c-4bbb-b331-c9c9a1272395",
   "metadata": {},
   "outputs": [],
   "source": [
    "bt.Gene.import_source(organism=\"human\")"
   ]
  },
  {
   "cell_type": "code",
   "execution_count": 30,
   "id": "410f493c-1e62-455b-8f06-525aa9634a43",
   "metadata": {},
   "outputs": [
    {
     "data": {
      "text/plain": [
       "PublicOntology\n",
       "Entity: Gene\n",
       "Organism: mouse\n",
       "Source: ensembl, release-112\n",
       "#terms: 57510\n"
      ]
     },
     "execution_count": 30,
     "metadata": {},
     "output_type": "execute_result"
    }
   ],
   "source": [
    "bt.Gene.public(organism=\"mouse\")"
   ]
  },
  {
   "cell_type": "code",
   "execution_count": 31,
   "id": "1f474212-81b3-48f8-810a-663f041ada65",
   "metadata": {},
   "outputs": [],
   "source": [
    "bt.Gene.import_source(organism=\"mouse\")"
   ]
  },
  {
   "cell_type": "markdown",
   "id": "248cdddf-f7b2-4867-bea7-2a7f5b12d943",
   "metadata": {},
   "source": [
    "## ULabel"
   ]
  },
  {
   "cell_type": "code",
   "execution_count": 32,
   "id": "0d6a09df-4f2c-4f00-b5e6-304716a3cc53",
   "metadata": {},
   "outputs": [
    {
     "name": "stdout",
     "output_type": "stream",
     "text": [
      "\u001b[92m→\u001b[0m returning existing ULabel record with same name: 'tissue_type'\n",
      "\u001b[92m→\u001b[0m returning existing ULabel record with same name: 'tissue'\n",
      "\u001b[92m→\u001b[0m returning existing ULabel record with same name: 'organoid'\n",
      "\u001b[92m→\u001b[0m returning existing ULabel record with same name: 'cell culture'\n"
     ]
    }
   ],
   "source": [
    "tissue_type = ln.ULabel(\n",
    "    name=\"tissue_type\",\n",
    "    description='This MUST be \"tissue\", \"organoid\", or \"cell culture\"',\n",
    ").save()\n",
    "tissue = ln.ULabel(name=\"tissue\").save()\n",
    "organoid = ln.ULabel(name=\"organoid\").save()\n",
    "cell_culture = ln.ULabel(name=\"cell culture\").save()\n",
    "tissue_type.children.set([tissue, organoid, cell_culture])"
   ]
  },
  {
   "cell_type": "code",
   "execution_count": 33,
   "id": "219d8e64-d4bd-4a89-a34a-76214911c483",
   "metadata": {},
   "outputs": [
    {
     "name": "stdout",
     "output_type": "stream",
     "text": [
      "\u001b[92m→\u001b[0m returning existing ULabel record with same name: 'donor_id'\n",
      "\u001b[92m→\u001b[0m returning existing ULabel record with same name: 'pooled'\n",
      "\u001b[92m→\u001b[0m returning existing ULabel record with same name: 'unknown'\n"
     ]
    }
   ],
   "source": [
    "donor_id = ln.ULabel(name=\"donor_id\").save()\n",
    "pooled = ln.ULabel(\n",
    "    name=\"pooled\",\n",
    "    description=\"For observations from a sample of multiple individuals that were not confidently assigned to a single individual through demultiplexing\",\n",
    ").save()\n",
    "unknown = ln.ULabel(name=\"unknown\").save()\n",
    "donor_id.children.set([pooled, unknown])"
   ]
  },
  {
   "cell_type": "code",
   "execution_count": 34,
   "id": "20c04064-f36b-469c-b00c-e47fd17f2ace",
   "metadata": {},
   "outputs": [
    {
     "name": "stdout",
     "output_type": "stream",
     "text": [
      "\u001b[92m→\u001b[0m returning existing ULabel record with same name: 'suspension_type'\n",
      "\u001b[92m→\u001b[0m returning existing ULabel record with same name: 'cell'\n",
      "\u001b[92m→\u001b[0m returning existing ULabel record with same name: 'nucleus'\n",
      "\u001b[92m→\u001b[0m returning existing ULabel record with same name: 'na'\n"
     ]
    }
   ],
   "source": [
    "suspension_type = ln.ULabel(\n",
    "    name=\"suspension_type\", description='This MUST be \"cell\", \"nucleus\", or \"na\"'\n",
    ").save()\n",
    "cell = ln.ULabel(name=\"cell\").save()\n",
    "nucleus = ln.ULabel(name=\"nucleus\").save()\n",
    "na = ln.ULabel(name=\"na\").save()\n",
    "suspension_type.children.set([cell, nucleus, na])"
   ]
  },
  {
   "cell_type": "code",
   "execution_count": 35,
   "id": "a58892d0-9211-45c4-bddb-f5e503c5a413",
   "metadata": {},
   "outputs": [
    {
     "name": "stdout",
     "output_type": "stream",
     "text": [
      "\u001b[94m•\u001b[0m please hit CTRL + s to save the notebook in your editor . \u001b[92m✓\u001b[0m\n",
      "\u001b[92m→\u001b[0m finished Run('x2VqU0VV') after 12m at 2025-01-31 11:49:11 UTC\n",
      "\u001b[92m→\u001b[0m go to: https://lamin.ai/laminlabs/hubmap/transform/yplcE2D261VN0000\n",
      "\u001b[92m→\u001b[0m to update your notebook from the CLI, run: lamin save /home/lukas/code/hubmap_registration/import-ontologies.ipynb\n"
     ]
    }
   ],
   "source": [
    "ln.finish()"
   ]
  }
 ],
 "metadata": {
  "kernelspec": {
   "display_name": "lamindb",
   "language": "python",
   "name": "python3"
  },
  "language_info": {
   "codemirror_mode": {
    "name": "ipython",
    "version": 3
   },
   "file_extension": ".py",
   "mimetype": "text/x-python",
   "name": "python",
   "nbconvert_exporter": "python",
   "pygments_lexer": "ipython3",
   "version": "3.12.8"
  }
 },
 "nbformat": 4,
 "nbformat_minor": 5
}
