{
 "cells": [
  {
   "cell_type": "markdown",
   "metadata": {},
   "source": [
    "# Update metadata table"
   ]
  },
  {
   "cell_type": "markdown",
   "metadata": {},
   "source": [
    "This notebook updates the hubmap metadata table with the latest table from the HuBMAP Data Portal."
   ]
  },
  {
   "cell_type": "code",
   "execution_count": 1,
   "metadata": {},
   "outputs": [
    {
     "name": "stdout",
     "output_type": "stream",
     "text": [
      "\u001b[92m→\u001b[0m connected lamindb: laminlabs/hubmap\n",
      "\u001b[92m→\u001b[0m created Transform('bZ8Wf7XoFZ8k0000'), started new Run('mGsk7q6V...') at 2025-04-10 12:32:21 UTC\n",
      "\u001b[92m→\u001b[0m notebook imports: lamindb==1.3.2 pandas==2.2.3\n"
     ]
    }
   ],
   "source": [
    "import lamindb as ln\n",
    "\n",
    "assert ln.setup.settings.instance.slug == \"laminlabs/hubmap\"\n",
    "\n",
    "ln.track()"
   ]
  },
  {
   "cell_type": "code",
   "execution_count": 2,
   "metadata": {},
   "outputs": [
    {
     "data": {
      "text/plain": [
       "Artifact(uid='9G4UaeVKSY0zy7SX0000', is_latest=True, key='hubmap_metadata/hubmap_all_datasets_metadata.tsv', description='hubmap metadata downloaded via the metadata download button', suffix='.tsv', size=2093309, hash='rFOHLRwNLVREAnLWBbxqPA', space_id=1, storage_id=1, created_by_id=3, created_at=2025-01-24 09:43:09 UTC)"
      ]
     },
     "execution_count": 2,
     "metadata": {},
     "output_type": "execute_result"
    }
   ],
   "source": [
    "# Load the original artifact and change its key\n",
    "artifact = ln.Artifact.get(key=\"2024-12-20_15-35-09/hubmap_datasets_metadata.tsv\")\n",
    "artifact.key = \"hubmap_metadata/hubmap_all_datasets_metadata.tsv\"\n",
    "artifact.save()"
   ]
  },
  {
   "cell_type": "code",
   "execution_count": null,
   "metadata": {},
   "outputs": [],
   "source": [
    "path = \"hubmap-datasets-metadata-2025-04-10_12-25-46.tsv\""
   ]
  },
  {
   "cell_type": "code",
   "execution_count": 6,
   "metadata": {},
   "outputs": [
    {
     "name": "stdout",
     "output_type": "stream",
     "text": [
      "\u001b[92m→\u001b[0m creating new artifact version for key='hubmap_metadata/hubmap_all_datasets_metadata.tsv' (storage: 's3://lamin-us-west-2/sznqFqn7xUoI')\n",
      "... uploading hubmap-datasets-metadata-2025-04-10_12-25-46.tsv: 100.0%\n"
     ]
    },
    {
     "data": {
      "text/plain": [
       "Artifact(uid='9G4UaeVKSY0zy7SX0001', is_latest=True, key='hubmap_metadata/hubmap_all_datasets_metadata.tsv', suffix='.tsv', size=2801890, hash='BhLZ2nxh18htokYnwuJTxQ', space_id=1, storage_id=1, run_id=23, created_by_id=5, created_at=2025-04-10 12:41:09 UTC)"
      ]
     },
     "execution_count": 6,
     "metadata": {},
     "output_type": "execute_result"
    }
   ],
   "source": [
    "new_artifact = ln.Artifact(path, key=\"hubmap_metadata/hubmap_all_datasets_metadata.tsv\")\n",
    "new_artifact.save()"
   ]
  },
  {
   "cell_type": "code",
   "execution_count": null,
   "metadata": {},
   "outputs": [
    {
     "name": "stdout",
     "output_type": "stream",
     "text": [
      "\u001b[94m•\u001b[0m please hit CMD + s to save the notebook in your editor ..."
     ]
    }
   ],
   "source": [
    "ln.finish()"
   ]
  }
 ],
 "metadata": {
  "kernelspec": {
   "display_name": "lamin",
   "language": "python",
   "name": "lamin"
  },
  "language_info": {
   "codemirror_mode": {
    "name": "ipython",
    "version": 3
   },
   "file_extension": ".py",
   "mimetype": "text/x-python",
   "name": "python",
   "nbconvert_exporter": "python",
   "pygments_lexer": "ipython3",
   "version": "3.12.9"
  }
 },
 "nbformat": 4,
 "nbformat_minor": 2
}
